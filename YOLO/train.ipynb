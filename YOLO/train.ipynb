{
 "cells": [
  {
   "cell_type": "markdown",
   "metadata": {},
   "source": [
    "# Train YOLO on Card Dataset\n",
    "[source](https://docs.ultralytics.com/usage/python/)"
   ]
  },
  {
   "cell_type": "code",
   "execution_count": 16,
   "metadata": {},
   "outputs": [
    {
     "name": "stdout",
     "output_type": "stream",
     "text": [
      "Ultralytics YOLOv8.2.31 🚀 Python-3.12.3 torch-2.3.1+cu121 CUDA:0 (NVIDIA RTX 5000 Ada Generation, 32362MiB)\n",
      "\u001b[34m\u001b[1mengine/trainer: \u001b[0mtask=detect, mode=train, model=yolov8n.pt, data=dataset/object_detection/data.yaml, epochs=10, time=None, patience=100, batch=16, imgsz=224, save=True, save_period=-1, cache=False, device=None, workers=8, project=None, name=train6, exist_ok=False, pretrained=True, optimizer=auto, verbose=True, seed=0, deterministic=True, single_cls=False, rect=False, cos_lr=False, close_mosaic=10, resume=False, amp=True, fraction=1.0, profile=False, freeze=None, multi_scale=False, overlap_mask=True, mask_ratio=4, dropout=0.0, val=True, split=val, save_json=False, save_hybrid=False, conf=None, iou=0.7, max_det=300, half=False, dnn=False, plots=True, source=None, vid_stride=1, stream_buffer=False, visualize=False, augment=False, agnostic_nms=False, classes=None, retina_masks=False, embed=None, show=False, save_frames=False, save_txt=False, save_conf=False, save_crop=False, show_labels=True, show_conf=True, show_boxes=True, line_width=None, format=torchscript, keras=False, optimize=False, int8=False, dynamic=False, simplify=False, opset=None, workspace=4, nms=False, lr0=0.01, lrf=0.01, momentum=0.937, weight_decay=0.0005, warmup_epochs=3.0, warmup_momentum=0.8, warmup_bias_lr=0.1, box=7.5, cls=0.5, dfl=1.5, pose=12.0, kobj=1.0, label_smoothing=0.0, nbs=64, hsv_h=0.015, hsv_s=0.7, hsv_v=0.4, degrees=0.0, translate=0.1, scale=0.5, shear=0.0, perspective=0.0, flipud=0.0, fliplr=0.5, bgr=0.0, mosaic=1.0, mixup=0.0, copy_paste=0.0, auto_augment=randaugment, erasing=0.4, crop_fraction=1.0, cfg=None, tracker=botsort.yaml, save_dir=runs/detect/train6\n",
      "Overriding model.yaml nc=80 with nc=52\n",
      "\n",
      "                   from  n    params  module                                       arguments                     \n",
      "  0                  -1  1       464  ultralytics.nn.modules.conv.Conv             [3, 16, 3, 2]                 \n",
      "  1                  -1  1      4672  ultralytics.nn.modules.conv.Conv             [16, 32, 3, 2]                \n",
      "  2                  -1  1      7360  ultralytics.nn.modules.block.C2f             [32, 32, 1, True]             \n",
      "  3                  -1  1     18560  ultralytics.nn.modules.conv.Conv             [32, 64, 3, 2]                \n",
      "  4                  -1  2     49664  ultralytics.nn.modules.block.C2f             [64, 64, 2, True]             \n",
      "  5                  -1  1     73984  ultralytics.nn.modules.conv.Conv             [64, 128, 3, 2]               \n",
      "  6                  -1  2    197632  ultralytics.nn.modules.block.C2f             [128, 128, 2, True]           \n",
      "  7                  -1  1    295424  ultralytics.nn.modules.conv.Conv             [128, 256, 3, 2]              \n",
      "  8                  -1  1    460288  ultralytics.nn.modules.block.C2f             [256, 256, 1, True]           \n",
      "  9                  -1  1    164608  ultralytics.nn.modules.block.SPPF            [256, 256, 5]                 \n",
      " 10                  -1  1         0  torch.nn.modules.upsampling.Upsample         [None, 2, 'nearest']          \n",
      " 11             [-1, 6]  1         0  ultralytics.nn.modules.conv.Concat           [1]                           \n",
      " 12                  -1  1    148224  ultralytics.nn.modules.block.C2f             [384, 128, 1]                 \n",
      " 13                  -1  1         0  torch.nn.modules.upsampling.Upsample         [None, 2, 'nearest']          \n",
      " 14             [-1, 4]  1         0  ultralytics.nn.modules.conv.Concat           [1]                           \n",
      " 15                  -1  1     37248  ultralytics.nn.modules.block.C2f             [192, 64, 1]                  \n",
      " 16                  -1  1     36992  ultralytics.nn.modules.conv.Conv             [64, 64, 3, 2]                \n",
      " 17            [-1, 12]  1         0  ultralytics.nn.modules.conv.Concat           [1]                           \n",
      " 18                  -1  1    123648  ultralytics.nn.modules.block.C2f             [192, 128, 1]                 \n",
      " 19                  -1  1    147712  ultralytics.nn.modules.conv.Conv             [128, 128, 3, 2]              \n",
      " 20             [-1, 9]  1         0  ultralytics.nn.modules.conv.Concat           [1]                           \n",
      " 21                  -1  1    493056  ultralytics.nn.modules.block.C2f             [384, 256, 1]                 \n",
      " 22        [15, 18, 21]  1    761452  ultralytics.nn.modules.head.Detect           [52, [64, 128, 256]]          \n",
      "Model summary: 225 layers, 3020988 parameters, 3020972 gradients, 8.2 GFLOPs\n",
      "\n",
      "Transferred 319/355 items from pretrained weights\n",
      "\u001b[34m\u001b[1mTensorBoard: \u001b[0mStart with 'tensorboard --logdir runs/detect/train6', view at http://localhost:6006/\n",
      "Freezing layer 'model.22.dfl.conv.weight'\n",
      "\u001b[34m\u001b[1mAMP: \u001b[0mrunning Automatic Mixed Precision (AMP) checks with YOLOv8n...\n",
      "\u001b[34m\u001b[1mAMP: \u001b[0mchecks passed ✅\n"
     ]
    },
    {
     "name": "stderr",
     "output_type": "stream",
     "text": [
      "\u001b[34m\u001b[1mtrain: \u001b[0mScanning /home/trumanss/CodeProject/Games/YOLO/dataset/object_detection/labels/train... 10000 images, 0 backgrounds, 0 corrupt: 100%|██████████| 10000/10000 [00:07<00:00, 1281.58it/s]\n"
     ]
    },
    {
     "name": "stdout",
     "output_type": "stream",
     "text": [
      "\u001b[34m\u001b[1mtrain: \u001b[0mNew cache created: /home/trumanss/CodeProject/Games/YOLO/dataset/object_detection/labels/train.cache\n"
     ]
    },
    {
     "name": "stderr",
     "output_type": "stream",
     "text": [
      "\u001b[34m\u001b[1mval: \u001b[0mScanning /home/trumanss/CodeProject/Games/YOLO/dataset/object_detection/labels/val... 3000 images, 0 backgrounds, 0 corrupt: 100%|██████████| 3000/3000 [00:02<00:00, 1347.63it/s]\n"
     ]
    },
    {
     "name": "stdout",
     "output_type": "stream",
     "text": [
      "\u001b[34m\u001b[1mval: \u001b[0mNew cache created: /home/trumanss/CodeProject/Games/YOLO/dataset/object_detection/labels/val.cache\n",
      "Plotting labels to runs/detect/train6/labels.jpg... \n",
      "\u001b[34m\u001b[1moptimizer:\u001b[0m 'optimizer=auto' found, ignoring 'lr0=0.01' and 'momentum=0.937' and determining best 'optimizer', 'lr0' and 'momentum' automatically... \n",
      "\u001b[34m\u001b[1moptimizer:\u001b[0m AdamW(lr=0.000179, momentum=0.9) with parameter groups 57 weight(decay=0.0), 64 weight(decay=0.0005), 63 bias(decay=0.0)\n",
      "\u001b[34m\u001b[1mTensorBoard: \u001b[0mmodel graph visualization added ✅\n",
      "Image sizes 224 train, 224 val\n",
      "Using 8 dataloader workers\n",
      "Logging results to \u001b[1mruns/detect/train6\u001b[0m\n",
      "Starting training for 10 epochs...\n",
      "Closing dataloader mosaic\n",
      "\n",
      "      Epoch    GPU_mem   box_loss   cls_loss   dfl_loss  Instances       Size\n"
     ]
    },
    {
     "name": "stderr",
     "output_type": "stream",
     "text": [
      "       1/10     0.759G     0.6883       4.01      1.073         33        224: 100%|██████████| 625/625 [00:27<00:00, 22.90it/s]\n",
      "                 Class     Images  Instances      Box(P          R      mAP50  mAP50-95): 100%|██████████| 94/94 [00:06<00:00, 15.56it/s]\n"
     ]
    },
    {
     "name": "stdout",
     "output_type": "stream",
     "text": [
      "                   all       3000       5963       0.29      0.292      0.145      0.132\n",
      "\n",
      "      Epoch    GPU_mem   box_loss   cls_loss   dfl_loss  Instances       Size\n"
     ]
    },
    {
     "name": "stderr",
     "output_type": "stream",
     "text": [
      "       2/10      0.82G     0.4344      2.649     0.9504         32        224: 100%|██████████| 625/625 [00:27<00:00, 22.62it/s]\n",
      "                 Class     Images  Instances      Box(P          R      mAP50  mAP50-95): 100%|██████████| 94/94 [00:05<00:00, 15.77it/s]\n"
     ]
    },
    {
     "name": "stdout",
     "output_type": "stream",
     "text": [
      "                   all       3000       5963      0.587       0.55       0.57       0.55\n",
      "\n",
      "      Epoch    GPU_mem   box_loss   cls_loss   dfl_loss  Instances       Size\n"
     ]
    },
    {
     "name": "stderr",
     "output_type": "stream",
     "text": [
      "       3/10     0.822G     0.3567      1.777     0.9115         33        224: 100%|██████████| 625/625 [00:23<00:00, 26.19it/s]\n",
      "                 Class     Images  Instances      Box(P          R      mAP50  mAP50-95): 100%|██████████| 94/94 [00:05<00:00, 16.00it/s]\n"
     ]
    },
    {
     "name": "stdout",
     "output_type": "stream",
     "text": [
      "                   all       3000       5963      0.872       0.65      0.769      0.749\n",
      "\n",
      "      Epoch    GPU_mem   box_loss   cls_loss   dfl_loss  Instances       Size\n"
     ]
    },
    {
     "name": "stderr",
     "output_type": "stream",
     "text": [
      "       4/10     0.822G     0.3088      1.313     0.8813         27        224: 100%|██████████| 625/625 [00:24<00:00, 26.01it/s]\n",
      "                 Class     Images  Instances      Box(P          R      mAP50  mAP50-95): 100%|██████████| 94/94 [00:05<00:00, 15.82it/s]\n"
     ]
    },
    {
     "name": "stdout",
     "output_type": "stream",
     "text": [
      "                   all       3000       5963      0.912      0.695      0.814        0.8\n",
      "\n",
      "      Epoch    GPU_mem   box_loss   cls_loss   dfl_loss  Instances       Size\n"
     ]
    },
    {
     "name": "stderr",
     "output_type": "stream",
     "text": [
      "       5/10     0.822G     0.2789       1.09     0.8676         33        224: 100%|██████████| 625/625 [00:24<00:00, 25.51it/s]\n",
      "                 Class     Images  Instances      Box(P          R      mAP50  mAP50-95): 100%|██████████| 94/94 [00:05<00:00, 15.78it/s]\n"
     ]
    },
    {
     "name": "stdout",
     "output_type": "stream",
     "text": [
      "                   all       3000       5963      0.923       0.71       0.84      0.823\n",
      "\n",
      "      Epoch    GPU_mem   box_loss   cls_loss   dfl_loss  Instances       Size\n"
     ]
    },
    {
     "name": "stderr",
     "output_type": "stream",
     "text": [
      "       6/10     0.822G     0.2557     0.9765     0.8592         38        224: 100%|██████████| 625/625 [00:24<00:00, 25.21it/s]\n",
      "                 Class     Images  Instances      Box(P          R      mAP50  mAP50-95): 100%|██████████| 94/94 [00:05<00:00, 15.98it/s]"
     ]
    },
    {
     "name": "stdout",
     "output_type": "stream",
     "text": [
      "                   all       3000       5963      0.944      0.727       0.86      0.845\n"
     ]
    },
    {
     "name": "stderr",
     "output_type": "stream",
     "text": [
      "\n"
     ]
    },
    {
     "name": "stdout",
     "output_type": "stream",
     "text": [
      "\n",
      "      Epoch    GPU_mem   box_loss   cls_loss   dfl_loss  Instances       Size\n"
     ]
    },
    {
     "name": "stderr",
     "output_type": "stream",
     "text": [
      "       7/10      0.82G     0.2398     0.9061     0.8536         35        224: 100%|██████████| 625/625 [00:23<00:00, 26.05it/s]\n",
      "                 Class     Images  Instances      Box(P          R      mAP50  mAP50-95): 100%|██████████| 94/94 [00:05<00:00, 16.07it/s]\n"
     ]
    },
    {
     "name": "stdout",
     "output_type": "stream",
     "text": [
      "                   all       3000       5963      0.944      0.742       0.87      0.858\n",
      "\n",
      "      Epoch    GPU_mem   box_loss   cls_loss   dfl_loss  Instances       Size\n"
     ]
    },
    {
     "name": "stderr",
     "output_type": "stream",
     "text": [
      "       8/10      0.82G     0.2237     0.8487     0.8496         37        224: 100%|██████████| 625/625 [00:26<00:00, 23.65it/s]\n",
      "                 Class     Images  Instances      Box(P          R      mAP50  mAP50-95): 100%|██████████| 94/94 [00:05<00:00, 15.77it/s]\n"
     ]
    },
    {
     "name": "stdout",
     "output_type": "stream",
     "text": [
      "                   all       3000       5963      0.921      0.763      0.877      0.866\n",
      "\n",
      "      Epoch    GPU_mem   box_loss   cls_loss   dfl_loss  Instances       Size\n"
     ]
    },
    {
     "name": "stderr",
     "output_type": "stream",
     "text": [
      "       9/10      0.82G     0.2163     0.8048     0.8469         30        224: 100%|██████████| 625/625 [00:24<00:00, 25.48it/s]\n",
      "                 Class     Images  Instances      Box(P          R      mAP50  mAP50-95): 100%|██████████| 94/94 [00:05<00:00, 15.93it/s]\n"
     ]
    },
    {
     "name": "stdout",
     "output_type": "stream",
     "text": [
      "                   all       3000       5963      0.934      0.766      0.883       0.87\n",
      "\n",
      "      Epoch    GPU_mem   box_loss   cls_loss   dfl_loss  Instances       Size\n"
     ]
    },
    {
     "name": "stderr",
     "output_type": "stream",
     "text": [
      "      10/10      0.82G     0.2061     0.7802     0.8411         33        224: 100%|██████████| 625/625 [00:24<00:00, 25.35it/s]\n",
      "                 Class     Images  Instances      Box(P          R      mAP50  mAP50-95): 100%|██████████| 94/94 [00:05<00:00, 15.68it/s]\n"
     ]
    },
    {
     "name": "stdout",
     "output_type": "stream",
     "text": [
      "                   all       3000       5963      0.938      0.773      0.888      0.878\n",
      "\n",
      "10 epochs completed in 0.088 hours.\n",
      "Optimizer stripped from runs/detect/train6/weights/last.pt, 6.2MB\n",
      "Optimizer stripped from runs/detect/train6/weights/best.pt, 6.2MB\n",
      "\n",
      "Validating runs/detect/train6/weights/best.pt...\n",
      "Ultralytics YOLOv8.2.31 🚀 Python-3.12.3 torch-2.3.1+cu121 CUDA:0 (NVIDIA RTX 5000 Ada Generation, 32362MiB)\n",
      "Model summary (fused): 168 layers, 3015788 parameters, 0 gradients, 8.1 GFLOPs\n"
     ]
    },
    {
     "name": "stderr",
     "output_type": "stream",
     "text": [
      "                 Class     Images  Instances      Box(P          R      mAP50  mAP50-95): 100%|██████████| 94/94 [00:06<00:00, 13.55it/s]\n"
     ]
    },
    {
     "name": "stdout",
     "output_type": "stream",
     "text": [
      "                   all       3000       5963      0.937      0.773      0.888      0.878\n",
      "                club-1        119        120      0.923      0.795      0.893      0.879\n",
      "               club-10        104        105      0.987       0.79      0.896      0.884\n",
      "               club-11        106        106       0.98      0.792      0.907      0.896\n",
      "               club-12        107        109      0.989      0.839      0.938       0.92\n",
      "               club-13        103        104      0.937      0.837      0.921      0.905\n",
      "                club-2        110        112      0.907       0.83      0.917      0.905\n",
      "                club-3         98        100      0.951      0.778        0.9      0.889\n",
      "                club-4        114        115      0.897      0.765      0.873      0.865\n",
      "                club-5        111        112      0.903      0.777      0.899      0.894\n",
      "                club-6         95         97      0.906      0.793      0.877      0.866\n",
      "                club-7         94         96      0.945      0.717      0.867       0.86\n",
      "                club-8        110        110      0.969      0.673      0.808      0.802\n",
      "                club-9        111        113      0.988      0.752      0.868      0.864\n",
      "             diamond-1        109        113       0.84      0.823       0.88      0.868\n",
      "            diamond-10        120        121      0.967      0.661      0.859      0.848\n",
      "            diamond-11        108        109      0.988      0.754      0.874      0.863\n",
      "            diamond-12        121        124      0.973      0.882       0.93       0.92\n",
      "            diamond-13        116        116      0.969      0.809      0.904       0.89\n",
      "             diamond-2        127        128      0.896      0.812      0.896      0.884\n",
      "             diamond-3        115        117      0.918      0.762      0.879      0.866\n",
      "             diamond-4        131        133      0.954      0.782      0.885      0.881\n",
      "             diamond-5        131        134      0.866      0.725       0.85      0.835\n",
      "             diamond-6        117        119      0.793      0.731      0.839      0.829\n",
      "             diamond-7        106        106      0.963      0.642      0.802      0.799\n",
      "             diamond-8        113        115      0.932      0.715      0.864       0.85\n",
      "             diamond-9        117        122      0.947       0.73      0.859      0.851\n",
      "               heart-1        131        132      0.941       0.73      0.918      0.906\n",
      "              heart-10        131        132       0.98       0.78      0.916      0.896\n",
      "              heart-11        104        106      0.861      0.811      0.889      0.877\n",
      "              heart-12        112        112      0.989      0.803      0.893      0.882\n",
      "              heart-13        129        130      0.991      0.815      0.918      0.913\n",
      "               heart-2        124        126       0.99      0.774      0.925      0.912\n",
      "               heart-3         98         98      0.861      0.745      0.869      0.865\n",
      "               heart-4        116        121      0.888      0.793      0.876      0.869\n",
      "               heart-5        122        123       0.94      0.762      0.879      0.874\n",
      "               heart-6        122        122      0.919      0.749      0.885      0.875\n",
      "               heart-7        102        103      0.944      0.854      0.929      0.922\n",
      "               heart-8        118        119      0.893      0.768      0.885      0.877\n",
      "               heart-9         83         84      0.878      0.726      0.839      0.831\n",
      "               spade-1        119        119      0.961      0.833       0.92      0.904\n",
      "              spade-10        111        111      0.971      0.739      0.887      0.878\n",
      "              spade-11        121        124      0.999       0.79      0.932      0.927\n",
      "              spade-12        116        118      0.957      0.864      0.928      0.916\n",
      "              spade-13        118        119      0.942      0.816      0.897      0.885\n",
      "               spade-2        102        102      0.956      0.725      0.856      0.844\n",
      "               spade-3        120        121      0.962      0.829      0.926      0.918\n",
      "               spade-4        103        104      0.989      0.692      0.858       0.85\n",
      "               spade-5        114        116      0.897      0.776      0.872      0.868\n",
      "               spade-6        113        113       0.98      0.788      0.913      0.899\n",
      "               spade-7        123        123      0.912      0.789      0.906      0.897\n",
      "               spade-8        112        112      0.931      0.719      0.881      0.869\n",
      "               spade-9        116        117      0.927      0.761        0.9       0.89\n",
      "Speed: 0.0ms preprocess, 0.1ms inference, 0.0ms loss, 0.5ms postprocess per image\n",
      "Results saved to \u001b[1mruns/detect/train6\u001b[0m\n"
     ]
    }
   ],
   "source": [
    "from ultralytics import YOLO\n",
    "\n",
    "# Load a model\n",
    "model = YOLO(\"yolov8n.pt\")  # load a pretrained model (recommended for training)\n",
    "\n",
    "# Train the model\n",
    "results = model.train(data=\"dataset/object_detection/data.yaml\", epochs=10, imgsz=224)"
   ]
  },
  {
   "cell_type": "code",
   "execution_count": 37,
   "metadata": {},
   "outputs": [],
   "source": [
    "from PIL import Image\n",
    "from random import choice\n",
    "from plotly.express import imshow\n",
    "from pathlib import Path\n",
    "src = Path('dataset/object_detection/images/val')\n",
    "files = list(src.glob('*.jpg'))"
   ]
  },
  {
   "cell_type": "code",
   "execution_count": 77,
   "metadata": {},
   "outputs": [
    {
     "name": "stdout",
     "output_type": "stream",
     "text": [
      "\n",
      "0: 224x224 1 diamond-7, 1 heart-3, 6.2ms\n",
      "Speed: 0.5ms preprocess, 6.2ms inference, 1.1ms postprocess per image at shape (1, 3, 224, 224)\n",
      "Results saved to \u001b[1mruns/detect/train617\u001b[0m\n",
      "1 label saved to runs/detect/train617/labels\n"
     ]
    },
    {
     "data": {
      "application/vnd.plotly.v1+json": {
       "config": {
        "plotlyServerURL": "https://plot.ly"
       },
       "data": [
        {
         "hovertemplate": "x: %{x}<br>y: %{y}<br>color: [%{z[0]}, %{z[1]}, %{z[2]}]<extra></extra>",
         "name": "0",
         "source": "data:image/png;base64,iVBORw0KGgoAAAANSUhEUgAAAOAAAADgCAIAAACVT/22AAEAAElEQVR4Xky6VVicSxcs3N2vzAyDu7s7BA+EBAghQoi7u7vLjru77bi7k4QkJEgguLu7O6Ov9H+xv3PO309fr6t6alXVKlj8IXv2/PEHz67S1dRIiS01Nbbvlg16hwTe+PfB2IXTWSs1VT3j1/9+j42Pl+lLxgaPGKPu8+HuC5GZevfgoJmmTWbC35tnT67bMGvZ9pgvyW/nLFsZl1hgajPq5uPnjNqAl6POQPbvLSuXXrz+mKLUBQr6T2FWxJqp1mb2aRfiPW3di/vK9/6z48PlJzRkn399xpMD+/dsMtHRP7btaMjwqMdxP998/5RfnPXl+QtY3asJ1PoGCWN3B90hJjee33F1dukfHDh0+kSkf8TyEbPLcv6s2jVW38vgSVbmpBlLzm46GeEUJOqVD/UKXb/52OSZ07XNBF8TnxrYwqDREQOEccLPLDUJv2buzHfPr52+csUtzPTk5ds/YisV3ZSzng2prZ9PoprGdj9V46cXLzvaGxoaqjc21bj4uoaMj8yqrCtuGMz6nOwn4bfPnbVi0+IbT68VlmW+/ptQraZmYOfJt6PUDxlOOt5cS9/BDUvPnvzHP9gzZPbYy8mxZ2/c+mfR7vxfBb42QwV6Yp1Q3Tpl5a8/70MDXZZOGb997qoAbb+Zk5c+/xHf0Fe/ZH1MZmJcqKX39x8pN778tPb10tZXqa2rNNW3iEv86D7c3NZcW1FaN2PMFEhovIn7ITDWHj5izMqZGz49+ZD1O66XGTh47+bOg4fe3X939tilpQs2QBEtEzG2LnpH/lnxPfa6tDuvrq6E4dRXrDt46e53hhOuWbRY1o2O7brnZO0wfpxzS3l1TXK3uab17JnR23ceYg00Y5ZP3HRy2e6jG65dOj99bGRh3KewEcNaMOcUEHXoyFsnZxsbix57M6GFtlFvK5+fJ8nOrCMJkUTRbW4vQlR/c325gbn44dvXl65tMdVTSykoqIVCe9cwtklliP3YeRM2OZnbEv215y8dTCnMOHHhNLy4905i4oeAoebDhwae2Hd16dKNJja2HEkeO33Szs+tR8xYubiXptUO8fcrbSlQA5Qv5fD+6Yt+0SBSofRFxmPDw9cumxMaMSQ02ufRy9vbtm3R1bEpLBocYOGHpA/DA51AY8m8qVO1TWwLi2qf33kl1NEw9LeprqgVNFBMt9zey7q4JB8qQE9by6IF05paKoKCPebOnrNj9Z6axi6RqYWJq/3xS0fWLV5e8yO3p6qZ5dGYqeO6Bf2VrdVBAUEMBms3bx7uHYRqeyl+0D5IX2ClrurseOjwhbHeMe9uPp0TNbqxqonhtcZPmUqoKmYvnTxhVqCpvf3P1EYLM8dJI0NP7N++e+cqOe63cndcsmQT16+1c+3+bavWjZ+7gHP20DQ0KfsZ35SX/ejmhUUzp2xZvc7G1enxl49uw4dVdfZQEmn7l++b5s+98uDG0LBhNXU1EiFhFBr0Nv5PVUkL7BNum7cDdsvK/sYn/fg0bsJoz6jAY+/uCzR15kXNfXbzuWyAjxgX6RhgffjSkVOXT+/YsWZsmLcmQ5R9rw7yHp5VUTRx3thetvbls9uj/MI+x8V3knR7X//EcVE0Sb158zUyOlzTAjz+9/z1Lbtvnb6ybPl2czcXVl8lOS2nvbRX2jQgZvjKuqqI2ZPkCLAS9vSpS+1dg4YWVvPXLikuz3S207Uwpds78lheIhJpFZTU17QMzp+9ykTF8OOL+KYaeXtzs4DonDtxpomKOxykTh06oGmk6z959JO45yt2zz998ZCft3NTSeG5rdtkksGchvqCmi5Dk6Bjxw+qimr37Vr68t4zH9fQV09TJk1a3NvXHxwWcPbqgaAQ1yf3b6zfuryyu3j56gWXjh5XAiS0tsstbTRUt7E09HOxHPX0xmNTFeXs2WOffXnl4u0Kz99I/PPz4+ggZxFSshz8lZzJQ91eiVzPSFzRVD5z5fznb15dOXWhqbLu2qkzIe7+qoy4qqnSNMDIO8Sjr679/t2rQ8NcGVrJUiptdTWdpTk1ORW7N56M/Zpo4+U6ZkzEnfOnPD09k3KKquu7HSx8svIK3sW/+Zn4e9/e47s3bL+485/d+/c8/hPrYG+n1S55fuem72jvDdu2nDt5Fwi1/1ZWLN6xUcPR4Pzpi4qS7jmjo90dDcwtNC5fP65vrPfz95/oCVP+/M3ZsWY10VzbP9ix/fLxFXs2pxbkDBs6zkbb78Xtp/XFf86cOL5o6bYnL16X1RXuO7Zj5YaFjY0DPe1a9Q0tQyMsGjoKX759tv/gEQ2hyb9nHuAWvGHpytyCP4++fg2et66LV37/8nBm1LC98+d+unWf7kKp6QVybW3PUUFP4+7MnRMVNcRRNtCfUdH4NS7VRM26X6pQsdICOupjZy589ezz7PDpCyZMmT1uJGJkDjb25i429bgDCgS3Tt/dtn33v28fWBubVXxPd7b1K2tRygm2pTcjLCigMrVVhKmZCyKv3D0WFO6eUZYeGBkxCJW2bs79LV1Zb+KrihuO33icWZS7eduiCcOHLB8RKhjkbK0DfxcWVAg7W/sGcAtUlaka07qhASHP3j/TNtXWNNbSNjfk1VTb+/p37T187OQJKyvz2w9utg80m1jqWljqV9UUrl41ryqrZn74ukkRM7fu2fH126eettalC1f/SahwsHDW0xDZuVkETIlpkrRv2r7h1q0L29Yu629s4Fu6/T19ajt7pBxpZuH6MfY1RXdmZ/weP26cAGqKsUFFWf3uI7sfvXz4+t3zN++e7t6xsaGr1tDDbET4cANS89eXBFd/31tP7rAi7OMfRfGuxmoWzy+elvY3Xbx7xsTSEM5ZcrGlunR8qE/ir88+wzxLa1psrMNevP3Y3Fu2cv1Cc3PTstIiTTH54vaD5ePmlqQX6mnrERqwga2KmTne3c51/rKpC9bHJGQmt/ei5TMXxD+6tWLqzLKcWoRUGzoHnjx55evmrVDiXiVjbueipmNmYWX75OEdnwB/sa4RlClb07LbO+tqqM69u3bHnns0MiT43JOLQ6MiDEycKqo6MCHWtjLfd/nYpu0754+eu3jahIgQS4rpVKNpv6HBWEd7zaZtY8NGDzRUV/2NO3R43/J/9m86tL+PHzx/7rqdQdDRvUdmTB7u7eXa0Na77/DBF28edfZ0G1s7eHmEl2R25xVlO/nRpPrgEP+gN6/iCIXR2JAYtrHzzuXTk6eE0Lq6hKVPWllFdWWWh6WxqLWz7m+BSEpaO3mVyZVSdcWm/XMePj69cfEUhVz65O0P2YB4oEFooGeSkvZp8eYVn7LS3byCtCl9Fxu7gfbakqxsN2uX85cvXX1+NWJ05IxJczJK89VcDbzsXL7vu8e2UTNWH67t75aChq7u9oXTV718cs/SCnv4WKoYajyPe5/TVMZRSk83W6EM2xAmhhrWizcfzCkuvHX3VMwIH2NO9u3J28LsRu+Rw9WDrcwc7E5sPDU7ct6XB5/CAoYVV+YXVOWPmRPzKv4Dpa85eeacvz8zKSSOnhAT9yepvKtt3LTRn+MeOVtpqw/2NGRUVaf2CQjNf1/+O3/+/CsnLi1btNrJM0hFRbOvu2f/mSO57VVnb1zy9fB6cudGVKhPZ02dnkC7prJh7ITpBsbGYlVhVn6yUE0RnxR34+79nVsPuJp52FraV1SU6Jrof0/6PWvmFG0x7JN1dUGFuZnF5cMX0pMyx44Zr2GiNnSqD6GuvXDO8QObT6op2EA3h4+xjz28HFFnZnakm7eLlUNvf5+pnX5RRdaXH7GaRvrPvn489+8VM3Pj9D/x3e1Vnz8+fvHmCQdkmjo8YNuqMtOfXbl14sBZitCsbW5x8/FQURFW1tWETZhc1NX1PjvZZXSo15hI76iYTl5f3TTw4NEHuubOMWvmJTdkWwzxlGJBYUHDz5+pmw5uGz894vO9c6d2Lu1TtqTV5Fb1dziFB227tI/X4tN//fLTsTo/f4cPbfzg8iUHB1M3Z5Mhrk5TIue+eJr8rajJZcxkWlX3wsV/9S3c9Q3dLVQcbdQdLl/6d92O7fYe1k/fP9x++GA/CW2CnFIqk45f3h40ys/cbfijrxnITHfc0vGWHiYyZd/pQydGDRsfMXba9Tev/3aXOEa7uodadw8UWZhy1rp0uGNg5pt8P4uxs2bsCJ2/pF6bSpU21gjYrOYOfXvv9z8zOtoGV0yaLuiRqXAaPVUSf20H8w52nKF1U1x8W37Z0d0H3r55EzJsaHFO4bl9J9gG+Z6lW+9dvrx4wUwbGxsSAnsLw/07l6emPLCxpFSQwN3BQ89ApaE9p62n8PmHOy39UiVWmzFuTldRg1rngCUhfPngVV15y9oZS3csXJ39PbGlvnnjvoPmPt6DtELLWOPd88elWVkutjaQl/dL2qxdTYwddEdMCutipV4hw8wdHQiAeirrQu2dPt65W5CUFBUaJpXKpQppa2kzyJSt8Jg13iNwalRkb3OXibpZ3scMf13H7bNndFeX0FCwa8fh5N9p/i5+00fEPDl5Q1LeFuoWWJxfdeDQ+drG/ryCiuy0P6aGqtYO+iHjhv6tLczvrg9fMJk20KBpYWF26f6DZ3OLyoZ4uV47cfLHrTevzz5I+f73wK5/Ohuk9mY++mKTS8fPblq1sCA7ua66ztrEzgRofb/+Am1ZP9vCRlzamuUT5fYm4e3zn89IQ9bB37S0oeD0heOvXtxJ/v5VXZW79e/Zf+9dKKvOnjV7bFdbzcn9B7saO9W1dWsbu2ZP22Cs7bFj44G4r4mdg9y7b0nDIibNnrVy8byVC2YvDxwaFTB07M27b7ok+OGLV1ETJrR296pr6Tm6uE6YPEFHX+3Jk5tl6UkXDu9R4r6Jcyf+c+xwj2Rg4uyYafPGR4wLfvjwxtNbN7obG3bsXK/ECpbDF6/cqajtTS9qKW2VpJfXeQYOO3z8wpZtx44euSJEGolfU7evOjTMN6quri63LP9nXvaFF0/0nG1cAtwLitJSEr7raGmNGR/Tz/ZpGai5u3rVlrY6WAXcv/7CTKxjp6cbHhbCIGVGcXavtP/7589Hduz5/u6rh6NnWlb2pTs3tG11TbxMDV31xs6JGiRlVs72Hu5+zhbuybFJk0aNF6kIps6YZG5sEPv2layzcc7EcXx/v466pt0Qz5+56YY2JmvXrf728rM+rXXiyKF3r1731fZW59bwEL+LfXXi1IGli6bMnTpZ1tFx6eiR25fPSaUdo8aGnT1/urSoOOtX6oLo2UG2QSKFyMLE2MnJSj7QtWrBwqd3Hqf9ytm19URWTtXYyZONLUy2btyS/D1+9vQp9U2VwyNDBrHs9ZevfSyvaWl+4+njRavWFpWVTpo8xsRYc+asCStWLi4rKc35kzkzcuq+lds6CmpLUtOUsu6W9pqsgtyOvt4+KdMz2Jue8S14qP2oqOEmZkYOjpZ1dYUrFk79FRe7dOn6nPw6n8AIYzPrrPS03vbWyuJCRyubwpyCuXMW/ExMHxI8Yu3uLZS2MC7xs6GxZmdvm6GZycvPsevXbQy0cyV7Bm5eOlxQUkQLDORSNWZAFD40qqYor766YGhY4P6jh9+8+sAPQrh7x8qknIRJqybQOiq5RVUiVZ0LR88cvXDj2oXbOrQw2N6SVvZLZN32VnaEQvjh0esXN2/dv/tA28zK3N29US4PHjnm8tk7lZWVi5ZPffn2XsiIAKES1SVV6VDaj54+mD5jXm5Bo1jXzG1YcG13c8iIIQ0NVQOdvT09fdZ21nUlOd1FSUunj+tpb/z95xeho5OaX+zqM2zuiiWDoHf/kUNzZ67s75THvfvG8NSoabMvXzo31NHCSNtEQ8u5CxH5TFNyyi95adXvh09r/6TXlhX9SU9W1zfUNXIysDSR4na5GtuvRvbxsgkx4+RNVR5i7vDuo3NWnb3z/EtKTvbpo4fzf8crpJzTkBHvHr/cM2tmXUnRudtXo+dPNHEz+PYjSag0Gj1yampGmraWyMPBuKY239xaV8/ONLu5MXTiyKSs70+v3ZjlHGYl0I9987Wxo2/41Fl5hXmjAr0x3zskwmf9pt2TItf8yimcc3x9Rl4armiaMyya6kWW1pZf8j/nV1dVVUi9HN347upF8xdEjFs8enSMikA5PnLUjTM3XLys4kuf2vlYOXkG6ulZfPn0k+aFrha2N66d27ZrUWt720CvaPqMJUcOHpo3fV5HedO7ty82Hliqb6379N3bO3fvtjb0/4h9qyYy/vD+Z+DwMcdvXCobbFi1dW1Xe8fnV0+nRg5FDINJsRSK/hZWt9S2BJibOmlRS0YHaOmo3nsT20+qJhVXenoNs9VxuXLqYHioUUlx4cp1Z19++V7L1C9aNtPXwjL+a3pKeo+t3ZD22ipTXXFmcuyqRXOL88rau5t1zdVK21rcwyecvnpl1tzx9eXZ/vZWe7ZtS0jNzyoqffLiebCzs2F3F2YlRkM9GvoFKoT/42fvO/vzJ00bUV6aMzw8Ireq0dnctfVvSXl6AVIqOsQqPCTkkOJFQvHF8xdi5k4oyEsaGx46LizcztTC0cZRQ01/1YYtxQ2VizeuOHXhUmllTUZWjraurlBTVFndIO8SyloFHbW9+VmlqiqmmRm10j5i4tipG1et5WR9of6uhblJOXl/477GZiWm//7wZd7k6Gf3r/5J/+0R6OXm7yeDUEVXv7ypbfTkKUNHRtR3dkxfMHf1xpXWrlaaVvr7Lh0fMWHs5HkzDh7bP2HixNYO6ejo2ap6xlm5uU6Geo8unXr98u6Dx7crqqqTUtIevnt24db1yqqm9KSCyoJGPVWTtSs3Obt6Q1INI/HflIJVy9doa5JmxuLQAM/mirrJoTNyf5TFvklwsnFrKClW5aTRocG/v37plcgjxkxgFSqpiXl/UtNbu9oJFbJvsOvZw7uVuZkjgzyrCjMG+jqPHztia23zOyF1y/7DQ0JDp86ePHfZ7PB5UzPa6pC24MatK1l/koPcvWPfvuNkspqyss9v3l07e+HVo6dD/YK6W/v+2XRcPoievHty+NrhSYumZpTnvI199TMxduqsCQbGepMnzWQH4Y6FO3K//pkxKvrds2e6hkYqamraGppl+UUONg6QhwUFRTRJf3gbq69nkpNbdPn67ZTkrLdvPy5cMWH3oW1JyT/aW+rXrVi0eO7suTNm9ba1+znZOduai7VVtK1MpEKh9/ARtW2NYeHDNEnNH+/iqxqrpeyAromBoZF+oJ/viRNHE/KTawabIqaMDokMOX325JfYjyNDQxPjfw6PCuuU9tU0Nzu6uC9ft7if6bbxMlI1RDduXizOKRw1dLS7jW/Wn0IIhOcunjG1NS5rqdh7+uD4qdFvP75vH1C29Uorykpqqsr6FGxKXtHlO3f1jczy88rTUzJM9TVbW6qGBPheuXfz1su7rUwXclY3Bw2Kr9d/5bwqnh88a0HobGnR4NSAKaGOQfm/ctWAobrQfvGSQ2Mnrxkze4mFd0BNt8LW1V+ikNXVVz55cC85Pr61tunG+Uv5GakRwSNKCzrcPUcqKCKtPIPQw7VdhRg3rFsxflp0cKCHrQjx9iYGP9/9m5bwatnyha0S2YjZCxJqm1Oamqau39BPqmdUN3uNGRm5cNqI2TEBYyNSCytUda0IQuvm5Tsjg/0dLY0iwkcvWbwyLyPDVkvVR52wxV06RBsB22XcwACv/FOS9fz3u7WHN8xfs6yrWakm01XtAMIWZU58dkN1j3fg2JtP3j1883TCtHFebh5WOmaqEtGU0AkblqySSAZK2xrSagrzG7NvPDxrbq1NCEC/XK6qZYA40Y2z5y31XAqSa87sucZ1UWWZxS1lDbiPLsmtL69pmLtu2Yec5JkbVv/9nfbq2df3aXmEudWr1+87auo8zR0WjBy/ZthoWXKBv6btYEUbGpQ3Vla+uP10ZMjYN19+51RWbDm4RteOULHnlQYyZKiS115dxtff+flEVdeot549veasJH+gt6Zp9KiAQaLRwFb7w4vvG+b/c3zXldMHL+zevb22rdQ/csjEuTGO7h5Xrz6cOmPO9ft3HHwdOUr64sF1YrBpx/LoB2e3TwnwT3r8LPfD00XjQjkl1zYI6jvQmRtPg8YMS8xPyq4oW7phe0ldd15BY1eltORXsYeW2b7lK4b5OLu62RWW1tc0SSQD0N7MUyzRs9UZcvDY7X45oqUDKor23wmff+V984zx7BB22HkbnTmz/+Or94iBDs5OvkFDIsYM//Dzi9DI8nlc8pwV60iRhp6WUX+3VN/YYtaiDZ/iSwrLu4ViOi7u+eVrx0zNtTm2vzg/R9HH2do4Pv10b8rycKRLqB7acGDb3F3jhkz8++mvvbbV+e0ne0patLGwv7kzPSEzOCCis5slVXVPXLty/fWzUQuXqtm5dSnh5Rv3t23aSWLIcrL4359l/Z0zJk6wM7a6/+8DTSPdLq5H01yjpqOSo6WlFZmvnt9UDLRgZd/w4X5SefuceRPv3bmlqa0X++fvrjPnA2MmxxeUfU7NsPPyCgwPVtUUJyVnSAcIilPXFRl1tXYzA5K540Y7mRvV1FSGRAQ3NpdZGaunffyyf8VafTFav37R0LDA0DEjcktyegZbm7pqDEy0QgNC417GZf9KWzBpOpYqfn6J//Tu145N+wOH+BamZmopVStSyr++/yIiiJ9vXwR7O9MqeO6q2YZWupV1BZamOoNdDXt2rsr9+32Un9/IwDEEQaxcv/7O/afVVQ3tjd2N5a3psRnPb77KLiyEGkKGxPsPHhAAlb42mamFZ2cvdLBylbQPtDU0Pbx1M+7Vq+7ahsF2ibqKVtSE8XOWLNI1MP4U9+Pxp9fBE6KEZvr5zZUiE2popOehI3v8fT1KKnJWrFt2+OCptMQ8QkboCXTK0vP62rq1dAwc3Ly8PIMry5t27/oH8lja2y8W0Bl5f4xtjB89e3b67Fl9PdMA/6Hubp4nz5wePW6sppba00eXF82KfnL7+oqF8/S1xC9u3wmy9Ti5+UBFdu6GFUt1haKNy1al/c30D45Iy6teuGz78/vvuyraumvqh/l7fIp9OnZChJWj3bzFS0zN9Iz1tL69+JKfWnrp1rPs8sppc8YnpXzu7WoOHRq0aMHikrLS2paaJ++fvP323tzG9Pr14109lXLQu2zt0iNHzixduLG2qMHJxKaprGLZ/PlmZjbnrv0bOX7GzIVLDx3c5epk+vXji7KSDB9fFx9vj5y/OW727kePHmawAu4cESFl0flHr3fs/edzwpcduzfzUomqqmpBSbFIIIr/9MPFx/fC88fv/8Y2DRZBgWiwVyc3oVhNojDR1Bwa7FNQUFBQUFWUl75t/QxWLiuv6EcC8bu4ty1tFfv+WRXk63X19A1TI3MPX/8Ll294+QzNL8rWMyQaWzumz9724t2XHr5v8vRJzbX1do42cYnfdm7f8O39YzUV8du3v8NCJiq7qfTkv7NmjK0rzXEy1sspKviQnecRGDBmZFhkQOirS3cBPwB0BoysTPfsviCTs27elhraWudO3zq09fSUkNmFJcX/3N71PuXjy6+ffBxciz4miDi+sbvWTM+mp4S2NXc1c9TX1BPdun3Z1c0sPuG1l7+LtpnBgHLAzNa4t2MgO77ETt9t0/xdeZWlqd05/uH+7+88KCsrs/RwjBo/4fv7OD9/r7LGTI5jEmJTXMy9Pcx8MwpqEpvr7z2+otFXtmfFyhUzNl1/8GDAgFu+enXa+yzlgBIKoYufm5aprtDIJLGksbKpsrYhZcGi6L8ZiT1lTZoNvDonCBoRZG5rm5VTJukcCPP2FQN09+6NuWtXl0ilDe2tqKdjRGBAr0Rx68a/XbWNHu7OFm7mOiZGz998WrVu44kTxyZMGpWQ/H7s6DE56VXFGdnmWtDB08XIK0Tb0oJRdH66/9SC0aMFasOXTtKyMt+z8/DSuWs+P4sL8vXv7K8I9fT+ce/9EDdnqai7kW3X9XAU62u+fvioKC1Lg1CfPm5+bytR1t7Juxo++vAoys9HlxCZiy1k3T1ikSQ9O9nT37Ozt8/LzS8lM93IVtfMw0LFVjs/r8zHYFhjZmNbcdWWdWs27FyzYtGcr48e/87OOvUzfsqcZXSH5P6l87fuHqeEAxOmRdg7+Jw8E+do6/3l5V0ddRpeWbTayydw265juqZmzgFelBgSyn6xCq2qpsWyeLBHQqipAGONIZFDLt47/vbrr9nzjhBKDUV10zAPd311lWvXLi/bsKq7o16VGEj48nV69AJM0KSuMCUtPjUhztvT9cfvhJkz5vBy3ts36Ob9R8ERw0gVeXDgsOd3vwtUte387LEAiYTq+SWFA7j/we2rY4a497T1aZt52lh5CaTCp/dv33164c71M9ocHmCVXyuKJ8yfVV1Y5GBk9enBt9XLFhbVxLt6OfUOEI6urvceXo0YERYfm7x87tqytIrzVy6NmDXSN2LooFwREzl2fkSMq7XVxOljq4tasr80zJ23dO+1PaZWOo6G+oy03TfM6fD5gxZOzivWrUlI+d3d1BnlE16b2SCWaqmZGhTRNZyYD3X3u3P7YXFTc/DQMGVzL8P1m3vpZeWn2Rk52ek42Kg75RTW+s+bGTN93K7Fk7sqSprKGspbmoYtmtDPstF+40pyizv6Oz383Xft38uL6X/OX9y9f/8QN49xUcMO7V+zbMpkW6CZ8T1RIBCZ2Nkb2bucO3vJSkfPzsjYQE01euasw8/f9ymkPhYGzfVl5jbmIb4hZ3acJmm6BXQfv3zRzMzlxfPXB/btMjYS79y7IjX9T2DgCGc7u7qirNOXLpd0Kux8vEaPC6QHlJ2/qlmJzHOcv5Gt+Zf3P6dNXLxz61mxWCdkRECAs/PJ9Ts62iqf/fy3mey8n/DJwsGhtbixuaLewdxSBDXEyCqvull/qHMP161C9KkqsDk2qs0vtzDSOXR2/5RVs7yGD03PKkI0YWGtwQmluQ35MVHTj626bkVahli6DQ/xzWpINbfR+/DwWcDI0Ym9/V6BQ6t+/PKxs/z794eM7Q2LGfHsTVxacpe95ZCNSxcUZGUiO7+Qbhm7cvmyM0ePd7VKTY0d/mZllJQVnz9+NvlLSklBLYVEJnpqTWWFdiLD12cfNaZW1KaXDHS0p6f8ef3onRqpNdAlcfcY8jkuQUvHuLOlkZb1B1laaPWxs30meeh4rFqyTFWs0ljU2pDXVpRbqatpEDwkePuKjRUpGbpK9sKmbR8v3/j38KnpEePknbJ7Fx+gDvG8cStfvvmaU1ZaVFOw+Z8NCVm/S5sre1jFojWr1+/YMGx4SGNNQ++gLHhGzIOfsTGT5r97+i00YPiju0+LS+uFQl2aFeak/enhypdsiulubDi55Ujc/e8xwRPKaqo2HdhZWFk5akq0UpctGayMWjR56fbNUoZYsW57c4903/FzI8bEXLz7DGo7WrhFIWQtGRCJdY3ikxLYngGxEhzYtTd6XMzkGfPFmvojwkdqqWnlpWTmZWSZOJr8yPx28vCWO1cP3Lp38MSVvZWdLR08oxRzq7Yv0zQxKGus/ZQWm1mTYetsHv/ji5oqOnFo640TGwzYHnG9lCpUekHHaX7RX36+XbZl7sePz328nHMrMtft27h1335dE9Oq1uLy5hwHb9PskrThYYHJCT8+vX926sRBKxtrQwu7XqXw5MWni5cd+vWrIimpZOz4mQJVzdLK3K7O3Nq6lGdf3x25fMvFY7iurtWAvN9rpE+7EUW6W/O0iOC41vbc5rZsD3dnHbFx3s+K/npgaeZ24OjpJSvXl1bXphXnOnh59XRBK8sQR98xA2I9Q39vTk3kZ+UubFc05ZSQsoGO+iIfN+uO3q4lK9e4eQ3JLir3GhkDjGw/Z1VoGjvEhI3lunr8fL2WLVsm4ultG7f4jQ7Rdzf9W5bS3NugrqER9+19R2+um6eWi72ZrbUTEurTmsZeoYHHLp6saGxPTC+CZ/YcnjlpesbvtJaG9tdfvtq4mEeND5BJBvrbOImU/5KU2C1tu3h1b011iVLGdffAq3fiDhw4gdjue1evaAl1Zs+d8+zjq7qmqpjR4QNtbePDIvIyMuwcbToaWr49+ciSjNyQmzl/btGvMqmEi5o3ecX6Zc8e38lOyqAHhUKhyqlbZ4+cPynS0rvy8JHniJDe5q70Z1+PHjyWXF8u59mchCQeS8w8jEQUEeoUEDNl/Jar+34k/dixZOOje898gkPd7Ry/37ufl5G15/TJh69fhI8L37Vlm6ueU3Nttb6N2MTEpK1Otnvz8a+xSSwC01dMO3v1xNhxEWdPnlET6qqq6/iPHPbp5Rs/Pbu2pvIhUU7VXbWAVuUpNRU9s8xfWbaE/sX9R9cumV9ZUzRz+bSSyuKywvINu/55k5rVI5Egab+6GtQ3Vdm8c+24aRPP7jt5acNxYzNLizEBlx7cWzFlqbetW2NBYVputuuo4XlVZS4uTiYGxoVZ+WX5+famRsNC/SOnRn1680nUbzolasqwECeBpmzfmU35BTlW2jbZBaW8ruq+A6ddDP1Dff1szAgbd4e9N+8tXbb60Io1IT4ey1fPz80oKM9sKq9t3X/r0uV7z14/T3j28NnZY3vrGjKWboyuqPob4uPSVNfWL1H38Aj39hs5a9H0ifMDiivy9LXt+C5mjKcvJ2nvHCwzs3HpHbCW9auX5Jam/Iy3MtWubMjtwE1Ldy3pV1OWlTS6qvpeOXn11ZfnadnpUinPKlDh38KiwvR5S8d+evdk2aSZdy7f3bHj6NT5C+5+fDwopl8mpQo11SJD/C6d3jXUTU+NFuZndEV4jCt6k+roasN7k+ExgVxtfUlZrZZnSJeky5TqaCgpKMqo3rbnxLBp08LHTRIhHYKl4z/80NPShfGJ7+PjkkozGvvaOhwstKInjnIL8Dl+7mJqRnn4hImV/S0x0WEag13/nj0XNnz03Plrtuw+npOd5+9hNy4qwtTUNO77bxdPv9Tk9Ie3bs2ZNTNw2NCzFy+OmzTF3dZ6sLLgd/yXqcvn5pUWBnh48zz/8cf3mbPmNtS2Pr717NzB8xeu3Rg2bczzr29VDbRCIke/+57iZTfk0+UHTsYWcl5pZ2sjJPhzt85JdXD4yHC+WTl8VJBUv7NL2gT6lAunzSnJzH9969FIl6Efvn7P7u/2CA+orSlcPncR6KArC8o/fHke6Od/YPuxl4/fE1AtNb+oZKBr34UDi1dPnjVjXH1RiaJfZmxuZWto7qJukpL8bc3RxWrG2iPCpiFa09LOefyomJlRE6y0DXzsjQM8PQL8h9ZUNlI8OXvpyhkbNxu62zj62ySkfQ8dHqCU9HTV182ZOuvxw7f6ZkZCfWro0JC6vDaBRC3lU1ZBQdGEBaOllJzT1Gjt7/MPCcz+kdDyPVVHXRhfkzh17pykL3nSnj4DIzhqfEhpY3l1fcOEmDlZGVnTp8Rcv/Sgv13Lw9U3J+OLvYvV/FWrjhw6PNLf7/qlcxs2r0r4Gb9p2eaosTHnHl1/8Paztp67oZ5lXW5hXn480OmUyNrMtI13rj+4cdkRU0P7B/duHD13dMhIRytni+sX/507elLOmy8ipHj05SajpVrPaTr7D1dX1xw/akzit9hps6fW9DUdO3vMxc7O1dztw9VYmuVsnLRCQn2/f0/Kz68aNXbegcOHrGzUFi2e0lBXI+bVHNTdzK1cmoDiY1aCub/1oKRr7/I1LeV5KqIuEsF9e68smba+NbtFz9SgBNSHRfiEmhr2dLQuP3JEz8rAQMy42tl2t0s/fktZtm2/kqFunLjADsjmzZ3j6uwEywsyDh84WZxTNyYiPDP5tWeAS7OMyyqtIoTqa3dsKeuoFpJ8f0XVi1sPtqzdTQBxW1P3uxdPVyyaAoCyc1A2bdbCN+/jyorLr5+/mJ6ZVtZUN2p8zPLFayz1dCYOdRnobfMIDd137ACr6N6yee3O3f+I1Az/OXQ58defueMm3bhxTcfWPLW80MTZ7tH7TzYu/l2NXUtHTXx27a69pW1Ldc1wf5/63qaZe9dmFOYFOgzZtGXZnI1RLV3lss7ByOCQG+fO9da0umhaFVY0BC2cp2au//njEyGk1UmzMSPGmxgaZSWl97UM6qgbWFpbxyan0FbWuraGgcMdFZLGipzkgow0SzP74qxSdwtXhOVlLTmaehoR4RMzcstZSkVTy2hkSMTPT29NtTkdkSjrZ76OikFTZV2fktl+4eT09XN9YrxHTh5Z29RoaWR67+KFK+evxn1LU9VQ7x6oyUz5K5CIE95nblty+OP72M37lm8+uHXLkcN3Pz5dsGEx29Zl1UYc27PDe4Kv+1BfAaHb3tn26uPdqqZyfXPzgOGhL9698/JwH+HvpyUy+vAqx1DPvKmpeIinY0db+8RxY399+GSkr3399uV161YH+gbl5OW+jv0QET31+ec0T1e/+DevI0cFYo0BKweHX98KJJ2EJqe/ac26x4+v1LaXUDp8d1/L5lVr189bHOHuK4Jsl6R52PRx5RjXDvTWVFdYmVsZG1kMHzX25svnCHBjAjxT338numh3G0ehKvfizWNLS3MLC6faOnljW+eIKP8Ro4Mzcv5aa5tlP0lpqOoYOXf+i5Qv5sFGdg4mJzfvWTRtUk5W/KiRkQSvbWXgqgZ0b9x/aBbsPGqsf3361/y89MK2TlJNLSIoQF9T08HOZunajTZ+IYXZpfLK1snjRyuEAx+/v0Ol7ypBBT/RM4zsGZwwbqyEY2sHuvefP3r0+FYdok+nv11SVyk00pm6Yb1/ZHRNdcdAQ4+/jcPYQC8PS6Pe+vYd67Zbmhn6B7pcuXl0/ZZ53YO1l87uD7S1dNfT//b6/fNHzwb65RaWNucvnvvw+cOI8OGt/T2fCvOMQrwuvDpl4gAFoGH+5FCloi9ghJ+hvUbkdH8DV0LLBWS1/B2/aOyWLcsWzpqS9PvngLx365FVwyI9uivr3bSsxg+NKMnLi5g06k3SW9cRdotXTz6wZWVfddmYoX7OjuajZ44aFCk//4xz9w74/Tt3dPT0tsEuBx8rhm13sTL6fu991pskN32DsUFD9GnY29EWPHq0FGl6WoYfXnEi78OP9rxCTgI0NEy0dcyvP3iU39XcTrNm7s5eQ4Mmz59p72UjUTZGjHScMNrpwtkNXQONvwqSW0WKZ4lxnT0KNdLg+4c/MZFTeQX//OkDuaJtUN5GiFVuXL/z4OJ5PcTcvPRPfOJL/0jvAWWftY72uR3/NJaUiSnV0BHjbZyDhVo2PsGjTp478fnX5y7E5TRXTFwQZuulXtWRR6gpQoNdu+pLmitKagpyjdXVrl8+A0UMpYpcHZ1+x/6YHRMT6OOQlvUqJ+9TVESEibFHfbd+i8IsfNrCG+9eWQ3zPnrv/Pv4932D7XlZv36nfIpYFOUc6YdIMS0VUgpu1bQp8Xeuueupebq7FVc11lb3Bw8NN7MROHiiabM9mnvylbTQwXfY2LkzCQ1CCPqihg0ZMXr0nBVrfYOHXbx0JsDHzExLlv/jlQHu06elgz2lrt56c5ZO6uyXHT18qTK7JPVHYk+fTFPHdEzo+D9/sjrFyrCV0x1GRM1dcZglvH/86jx/6YW6nomtj1NI9HBzc8v0vAzn8Y5zz89Gpb+Ll09aWJaVhzjG2M7i4IXja7at/f77658/CatWLvX2cpm/YIGTfwCnqf8uIU1BqojVNMUCAaPo/fD2yYUzZxsaGvyCAybNnChS48wsNR48PF9Zlq4K5SV//8yJnjAqeISNjbUSgdqujsCR4RV1NTfv/9vD9CFtStNe0yfKy9hW5+L14/eeXx8zOtREVTRuWEi/pHvKnOmHzp5s6+s/fOTEy2evXBzcdfV0dh7eZmSlbaqr+uLOneQfP37HJ/kHhy1cs0mkbzQyZmJacta0CTPKa+r0LMzERjoNvW2Wzs4PX39kROKFW9b+qc7Qc9KMmhp8++55AQFM9E1uXrk9xDOoqbn/2avPXTwwd3LJTM67fOjS5DHRM6dNlTKK9oHeHXt3bdq2ed22jVlFuXMWL5QA5dV3jz1Hh6SWZI6fOkFPX3vd6hVQ2R85ImTW7LkZ2YWurq5f3r1rr67tqKo1VNHQFIlae9oiJ47KLsm/cvtG9LiYhbPmb129zszA4OGTh1HRo0OCQ//Zs8fJwZ4kKTVNQ6VSeGLflS/Pf8d/TL15+Z6CBwIx9ebx7Y66kl171sd+f09BXF5YYGGht2HTCm1Neuum1RlZycMjg+ua6leuWyVVDKqp0ytXzpk5b8Kn+E91na0dA/2eXv6NdS2Toic8fvLs2YtXbz/GnrxwfuKMqbsOH6T19Jds2RERMV5doFGYlGomVp0aPramsFxNLJJK+i0NTa6cvpCbVVxV3dgtlcxfvgSpiN5/+ynjqMSU9IKCrJAg36RfiXt2HSoubeiXsO8/f9qzZ9vo8KEjh/q5WzmmJaZpaGplFeY7OLvOnjk7wMujuiBv68qNlUVVu3fu7++TFJZUIZGGup7xl18Zh4/fKq/qXrNmq46uVlrSrxGBfjevXhk/Lrq9q7uishJt3bG5p6ejuqFK1UjTOsj9W/aviqpcXQ3R97hEKxffEoksub7+U3za+69JGtbO33Lypy1dLjbU7Wf6kBrcdXjL16Qv89etPn/7hrah6sNHlz+/fzg5JnzChMiw0KCE95/cLG3OnD3Gq6DzTx7di/28btfutx9eNVSmF+bF2/m4qznaVSr7hNZ6lx+da68r0Wtnvp16JpDqQmz84N53jtGeNXtdfx8hpDTrqhrtHRxFGgKZovXQ4c1iVcGJE5d6ekRHjr8Q6fq19Gh9+1G2YdvZ4TMWASMzCU/QqtovPsYFREVZh3o5jfXR8Na+8ulybV8RI+qlDMl+Qrn1wLnnH7KSczoS85qvP33VOtC9ccOK0FD/C7euq1sZGrmZfkp8295dnZL47e7FC2OGDT+4e2dsUly2pLGUkvqOiXny/nd5I6cqMq9Jzzm4eMX5rUd1CPXevpagYY7/rJ07WFFgp655dPeBpevXl3Q0OwyxGztlzM+s/IS0kmsnHgoH1bL+FA5IuJTC/D/FBcW1NZ/jvvb292vSGue3ny39VjFYRuf+qAtyC6j8mz3ZY+jvO8+BnKEplUf3XnsNCYqcGtkL2hcvn11bVfLp7fOf8V93HNuzcPuqd4mxhTVlI0eNvXLrlq6raWpN0oYtMS6WSFFTdmPn4dsHLj4692Dv9iO1Tf37L98j9W0BazBj/DINHXOFnBNJFKBNNn7M4v0HrqiqUPbGKoaEQg+qiBh7d9eFX341n7vxdnT0mB3bNh3+55JYYLF9/5Frt24yHYNV6WVpKWX/HL1FathUNEnfxcVVN7QY6boRCvPFC/fr6DgIRGpDg33Ch7kZqxGb5i+VNPVEjxldkF2I2hHZjnRUtTHiTEz11DQFCX++rV44d+XYaAtIvn786NOrT58uffUVh8LMA89+piRtO3bkwJUjHZo98zfMnzkxOvZdbF5mdUpufo20yy0w5PfXbJFA29La0kgs/vPw6bzooQY6neWVBdqGnj8zigMmTfibGb9kwtDDe3bu+edU7LvfGoy2g4Zx+c/kwNCQ16U5Eg2yR9YBEUfyIHLMaBniK+urjYx1+3o7PdxcdYz1m6T9Ikbz0dYHZ49c23z22LRF848dPTPEwSXQ0rqstMg/esSHP58sXEy11ZT+lqqGmpoFxd0Xb7yInDLv44e4Y5u2v7r/1MvL5+2Pd2bBpuqGmmJWvbGiS11kVl3XOnHO1LLGnPj05+PGD7c0tKzIr/FxDFJBogsnjzNKcvK01TWNLQ9eXo8M8rDmlIXpf3edOvYy+VdKU5OxjbW1upoaJ+VlbdY6JkKphtjY4lzyW1JPI+vrrwmjR/1M/Xrl/HGRtP/N8zd5FW3lNU2z50zvbKjsrcgd4Recllzp7Dasi6cNzU17u+tra5ojw6Ynp6a4eZs011f42njE/fha1l5KqNPR4yb/+J1cUtEo4jWE/erqKlqzVs9dumnOxr2zXc0Mf196I5XLxu9Z2i4ZEHcLv759sWLz1NTUn+W55ePGx+TVliVmZI+fvuDitfsz565orKgmOzt/JX3dcnV/UnpmdXazukw9zHbYginz3v+Ire2r9x495MaTqx6eDrUllWwbu3zaHH2aaqkuevzkxu79h558+C1VgZ8zXm3fu5vGRh/fJQwLH532N0tVRYg4iaWZulwmGTosJvb9ZwNNoYAQNDZ2N3R1Ldu+/v6tm6KOHgtdTScPc/eg4NikIlffYE09rb17Ni1ZMCkt7rUZkOfH57nYTtK0cBa5aTv6Wr1+fL1LPljLwIBhoz3MPdcvmT9qhNOEqKBvH15OHDOxo3Hwc+zvus7Wito6VFyaqKlDcizXP0g0VoELhx7v23hw55rNlYUF/S3tIa7Bb659YGsRaGOUXRUlRZ+8g0zuvbykEErGz4kxsTMwdTFsYqvzOzLSG/+6hPvWSOi47BbrYaOBmTUyNbv16pO9wzB5I5zgFErW9i+asYImdFsq+uS18oK3GQm3YqUl7Y1ZNYYqVsUFrSOnL07IL1m1ZnVFScajRwetnbGWI/s57R4CDStmT4oZOaksr/3Nk1+QMdTR8LQyD7l+8cnDy/e/P3yrIVXOGTPyzZ2rzX8zDXtZnN8kz2mwExr7WLvFf/zy8t7DBWNnFPzIay3paS3taitpObn3wMbNy1Q1CVWRantNC907kPf7u99wj3ppS/zf3J+/Cr6+/TV6TPTf0pROvrWkJItgFN9evWuqrLG2tIEk9vCxf/vp3r59GxMSEs6cfm5uGmimb7R5zTIHSwdDMxuJlnaPiW6JqhK66I4c48e01767eXNWUPjTfy4R1V0zxo7MzI4vqMpSNVQLGzeWFdN5HQXWfjaPX746efIGxmIdI7Pnn15qG2oOcw1K+5xdVNApUWr1DRCfvyQhFXV7Fy8RVI/7lLrvxL1egYm2d6jn6Klv3ySk/coN9g2RdvGRIQtAm8H7g2+Oz9g2zs330ondtHb76fs7ckpSM3LSHJytHB2MVIheR0vB5i3TZbLao/u3qFLI1cY+LyV94ogwXQA3LliYm5j260OSpEP++Ort7tpaJwvLd49fJn348fjav20tpSfP7iGBalJygbaVQ8zsqT9j79tbAqTZRZlK3UeZ3f14QUHJ5i9anpVcN2n06tKSrl+/MzMyMqwcjSIn+5GqHTRbv3zh2MmLov2j/BtbqqZMjDqwf9PaVYutDewS49KNDY3+/o1/+OBKcJDHvMnzHYxd4a212z19Q4pqe4Gmtq6TRWLmDx1VhamRZsbfjL5+pVdQ2JfYv0vnbLt07ey6vRMvXjpgpqNvYag5e8bIgrz8tPTqNjljO8o3YnRQSfqn9IR8gvD38xjdWFYkkkinBQ6/d/G2qaXH5Oixyq7KgqrcY6+eqpgailVFmiS5burcdy+fInWgamWa09Yt58QNGe11JeVDg53tHA2q6gu3796yf+9+Xw+vR1euq2kaiYycNHW11GDLxOhJJWXKwODo1q7W+I9vhT0d86ZM+pWajAQw9uvr2dNmMQNke7f8Y+KfgNGRebVFa7Yti/v8tKKyxNUtUFOolf07yUCH3rFneXpm3pWr3z1d/BwtVeqqsxwdjU3MrKUS9Z9ZZfN37/mc/D6/6NUIX4cAS1dnLceeMnlGRTUKNM2ry+muLjbX07SwMv2bUjDQLtYQq48Y7sIoBu/eejF57txGpkPLxLi+tsdQrKXW22+pqrF33ZYpI6eDHtX6jiaJfvuoaZEtzb2f4+IHAbtx/+aN+1cuW74u7WeDrJU6uOFITEzMmVuH1dQYXYJ5cfeRGBm4BfqXDpZ5+Xsc3XZgsLXN08XcxsExo6RFx97GLtDRRN8w52NCTWGFoZXl34TcxZPX9TS2e7iYpqbFLVo9//mbB85e1jduPnj+JKG8senN72fBoa5tldl2JsY0UFV0SXGvREek8unNu79//oqFWuHjI91HeUkFouoGIJWj3r4OLXW15tpWTYFKeW76vv07yprKi4rLM5MKbz957jUm6uSF/W/vHvN0MSdFAp8gj7hfL4NCR23afGPO9F25f5rkCs7CSbu+NOHwgvFPrl+bt2TbiQvnB1HX7BVzdp44MGJUjJGeS1pqobmlTUzkaC2CunbpmLu/aVl5/vaNez+8/FlZ0qeQI9RmYX0rI7NErniZHN9H9ataanwtLjzy4ElSSSmhrpKW8ks20NQnqRg+0ru5obOnD7QMsrEpRZllijdfqwrKpQ4uYYxU+9yZh5kZNZFRU5u7eotry2g1bGKjn5yfa+vsrC6XHV6zrqW2ta1zcM++/YbWhm7DXYLGBt1+eEdTVydgeIiDlycUq6tqaWuqwhkxw2eNDZwxepiNgUlFXvUQj+FYKti8ZP0Idz9jFW0HKyvvEUE3Xj14G/c5cvQoEU/+s2OHibtxK+ora+nv6xOHuU+eFrnYxTeE1RNELgg2dhes3Tqvu6cJiiBLAD0j/R5J24wFow4dWFr6+9UIB41Pr47ETLBra81SFSqunD+jr6rqZ2+h7GxKSUjNzswpzE5xcbbecvjoiSevnv3JePrzO+b7U+Pf+Diahno7krKBiuJ8fScjNVvtG08u2doZI7nCTN/iw6+8wmpF4vuyZ5e/nDp3s66nm6UpoZbKmOkjy+vyD+858PDak4riBjND22f/vkh4F398x6Hf3+KNbcw0rXXayM6AKL89W3a1lTZnpaXYuVks2Ll46ITgwECPtvpyjul0dLFcv3V3bFyKtr758OCRf+PSOsvrLVXVwjycvYyNt61elZaTZe7mffnhp9zyAZHAIjR4QnZOzdCIsdOXLv+dkZWUmpH1t8TW0E+LsC/Par15/UlObeWVl/fX7tx6796dZbOn0zJpXXHNrWu3K1rL0qr+eIS70NpkY3XNrfM3jQ3sX9z5oCjp6cooG+nv+u3Lo1Pndppbars62glpkQyii7fvdg3IyiqLIsZ6WToI88oSbNwsRSaGIePnHjrzAgnsktMqgsLH6VlbP3v3Yc7kxc2ZTYPpzda8YUF61eFTV968/zxn2VLazHL58TM3f/z9XdvlFDqKUdVF6iZWWF2zj1T4jfTr6KorLcxdNG/l3Pkbsoua1mzaffHCWS0xFoCexJ9v62vrDAzNh4QEzVqz6sHH5ICIKfI+Wfa33w60kXqHYJj9cGNVi0AXT3lPK4kG7z2/mlie2En3lndV1Pc23X77Kqm49Hv636rWxjvP7rYMtNp6OEXFxBiYWa5Zv02spg8gHT1xZGtzSVl2WmV6prW6gaelS0Lcr08fP2b/+VuRl3di37bsv/GIhqS6eNLcqRevn929df2caZMy83P/OXXS0tX9U3zCoFyRnJ7aw/SEjA0OGR2srqP27OHz0wfPOJo7GWsZ3LhwXi7vFumC1PykYaEBsR/f/vn1/sbVE/XNtWs2bHR19kZK3NZYfvXUfn1EtBaUr563QCQUBo4Ir+5odx0WYGRjLKKYnqbKzrb6+4/unrt0ftKcKacunhCqCvbuOVRcWCFUEe3Zu39sxCQd2nhxzGw/axdbc8vzF856+Xnr2Ri+Sn41cl7krRe3fUIDnD1cWZbdtWO3lprmzSs3IsJH+Pm6DB/pL9aiA4cHjI0eq6atee3u/aFRI/99fOdn4g9HO/ufX78+enzPy9+zqKrcd9hQGdsXGOS5YN70xIQvfzO+/kp8OyBtsHXWb2MaBJYqln5us1atvnzr4Zr12xcsWc5x3PkzJ57eu/vh9YfuTkVnL9nWQyWl1/xz8qapm//+09cWr1j3Nz1nUCn/8zezrKhBhdQJ8QkZFjw0ryS9X9YxcmTk+OjJKupaShYaa1uMCxtbWV5UUZ7dXFN0+/KFxJ9JubnlwyOnqOnZXr7xIyO/EpK8jG31HWama4GFugKBtvqCleudhwTH/kjOKC3ziIzwGzc+KGxi9Jg57ZUtAjm3ee1Kjuv98/dd32CDiaX5rPnLzRw9TB3cZRzl5umP9HiitiBHqKns6Cl9cuW8l7apOavVnNGqq+F+4vSD65euXjl1cPfqRaP8vVYtX+Dh4+weaFfRUd6nSjd0d25bNNm4uyF+/xmrBjb99o9b286otHUGWxlrkwpKbdB+jJlelKHjvJCDXx4Bd7tRq5advnfXwMpy0bKlNQ21lx/fbVdIpFIeKQTO1r5pKblyJFu2bv5Q7yGlyTkD5c1rps/xc7cd4mUbFDxk/vxJ715c/Gf7kpSf8SNCw+69eqBmIJg5IwIrei6euxk6bGyXtO994huBHUyo+vzu9219M/HvhIwRQ6eqMCaPz7wl2kiigwlycFowY3JKforpEJcXqTk/86r/phRMGDPNyMY7KbfOzj7w9t0ntApXUZzamJiwJnJ8dNDolYvXKRSysdFhv5M+INDH93WsWjBfS0d/6uIlh+/eXLl7u5GBvpW+2ZGd5zPTauatX3fs4tl/T1y1pzVQe/WcMQHndm/2srFW11RVNdUoVdb6Lxjeqt/PWkArd5PCsiwTG/1BfmBY5HAey+orMozVUdzrt0V5+ePmRB+5c37Olq3NvdykqMkBTt7vX3yytnIpLW+EtKif79exUpk5P/zd56u3Hh2bsXLcgj2z1p9Z+eT33SN3d1sOV7v0+VB+f1YjbpJTSit7a4aXNVQWfr1/49SmddePn1cR6/WSqu+yS0NmryzsBM+/FuQW9zx98DU6eqbAxHTpnr0z56+fPHrhxR1XzJEBKZcFBXnnFpWKtPXaBzpWbV07f9OWNjnv5DfExcP56/PXAgk7YcyUIb6RM+ds1zEOWrXzUH65ZEz0vLTMlOkL/YNH65tYkinpcZfunLvx+MbMxXNKW+obEU87Oi4/dG5QqNXGDdLarJendlSY2YHDU6oqYz/fv7dm2vzEb59d7S1z/6T9+ZYMp0WvWLd305V3N2LGR9mKNEVK4fKlm72CIy28/Q4d3V6R9vLQjnUqULVHosiur6uXthy69o+SUj17+es4r6DVnuadmZlVZV0BIeG8KjlzyZzd+/+paq7qkLWNnBr1OvEjFGhMi14b/zX99aO3O/bsXb9324Il0+dOHPHl9euwgFF9bQMpv5JNbVyOXHs4JnrUhiXjdy2ePc7Vw9fOLSUlzzkgoKi33sPLI+Pb92ULF4+bOunqg3uxf373A6KssX96zJS/L5542zmdvnDHf3i4ibOl6xAbS3Pq7u0L0kHZqNHTdx28sWDOxltn7qyeN6+uPLV3oL5D2eU/eqiNrx1HYi2hVtavvyHuvg42br8z8guyS2aFR6UmfBk/K5hhsJne0D3/7CFMB4dPGNGrJC9fe1CeX/PuxeOU5JeDis7gUSO+JP7QMDGor+8cN2z6xQNXBAP86uUrth/cMSwsqrFG2d3UNndCaGL8x81bNrR3dly+emP9ti1lnQ0Xbp8fMyUsakSULmdcmF6aX1Z89/G9gHDfwBF+EZHhJ45c7KrCOromhXU5w0eFt7X2hvuHZcT+HDUiODHzW0ll7pYtm+J+fwUq8PW7p4sXzQsfGfY1MaG9u81ITWBuamZgaCbS1G/o6svOq7Wx8O9rlrWX1I8a5k/R3YlxH2qzikeMGDVy9oIXcT9if/9VUdNFQEVICw311D8+uDk/OMDDztzZ1+PUhSuNzbLx0XOK86q7JA2ztw5PTE1qKxGG+I1Q02QlnV2mqlav377ceHj5p7g33k7uXZ19t27ftvXyx/rmWFsdqLK21npv71/dtXWRnjHx6OWroWEL7lx84m1gqYaExaVV9v5uEiNO28Sy7E+7rapp1vtX+3es3XZwy76DqyXdOQXZeTq6fmdvPJ+xeV1FdRfVrVlf0gI/xWbcf/lIKuKMjPWGOXmzvf2Bvl7zFi1esGqNmqbIxVYzPTl5747TIyPGbti29mtq3M+iX0cu3Jo5Z58uEAeqof7GEq9gn3WbN65eun7p/Pm/fnz+m5Xh6DecBXjJ3KlX7z/uFhoYW9hVZmZr6+hShubZmanRvnaxL54tXb71xevPTk7eicnJ/xw8ABjZ8qkT1Zi+9bOiVy5ZXN7U++T992FRE9+++5iflTYybDSC2s3t7YtXz23obHn1Od7IQKehNN3F1EJXaFhRV7PiwMqwqUHLN05rqq1cOmHpqiU7JsxbW1reZGtu2dNcM2KIPSbkD759FujqltU1Xr9/Z/GGlbNmTJd39FXnV/i7BTeV1Fdn5qppUoPqEhcfj5zU0umTJ3W1F919/NDdf4zn0JFSICguydOiJRzoiJwSomUgzs3Iqa3u6O8W8T1wsLKmqbwyekKMpq6Zhq59fVtL52DZnQfXfdz9Ff2sr623ib6Jlp5+YKjvtZvHIiIiu9uJ1NS8vLxsI1OjHbu3n/33TNlAlaenZ5jD8MtnL0ZNCE/JzometDzxe4aHmXNJXrKEKXLzNtfQUU3PzbB2c3jy/KFIQM+cOVtPz4wkaRFEh44cdvcLevH89T+bdy5dvEHJiZ+8/FxcXiUdaA8dYnP7yvHQIE8zc/Oi6mYFoINDIh49fd3fq5w4dcbzN69sTbT3LpkZ//5jblrZvcfvfueWvnz5Q4eyIiipoYtE31ijNKu3ICO/ujp9dOhwPWD4/VfC7G3Lh/i65yckKAYk33+nmLt5FLS1SNVpylQTosH6jO+H9qw6f/lIb1//jVuvqspaTDQN/v75++TF8yUr5kaODSwvbz539G2A24hgdw+KY589fdzZXNpblxwS6J2eXXX/y/fvjRWPP8Yvm7GpqqgRnjn+b3N3Wz9QuLi4JH9L0FejZ08N7+hqJkR6A7J+dx/La9duDA+ceOHcTR1drcCwYTX9nQ9ef5o+eeNgWx9uqnSyN3zz48X0GVN1aAMjTZ36qpJXb97bewbJ5aw2Ql0ymcjZI6ukNNjVQSpXygUasoGBcBeLmxfPx0xdUNPS6eDkbmdn9+Lx/XnTp358/MTX0VLaXpmTm7l4/fbKhp679976B4Yo5f3dXYNd3djd3ZMSKKrrqqUKztjMSDpQX1FQEOjoJ1QT6rpo98HOpx/vTp04wdtsSH8X6+AR/D72m4ujXX9HAzfQVllb4Td6THxqZktLn1hH29TVhqThrcuX1y5aVV9QDwZZfyfXn39++EUPHcRydZEaM9An7WgqK6saHT0vLjW7k+Va2luGeTndunHi9Y8HJ07tN9DUCx8+5uWLBHsz+5FePs/v3oscEc5D4SArkkImvy7dycOB5ChNWrv4T8HiWUvPn760Z8+2to6KrJycVx8S9I0sBwZ6IiPCqqtrF21Y8uDX456ejgVjZjy8eXvoMD9SRSO7oDE/t0qD0NBWJ7Kz389ZNK6surhL0m1pb6+mri5WFbW3dL16+Xnp/KVVZaUiVbFYz9DZ3unL01fDAkZkF1XpmJg4e7nVN1QsnT+5r7uGYTqSkn49ffE5LDTCwkCfIAhtE6PCkgqxiubdf6+tXDxdHdJcJzQ1dzxx819DUzfQp1VaVuQbptfV3bx8/o5Ht+4ND3C2NTbuqesNCht5+9uH6fOn3T1/TE9dTU/XNDUvh9LXjC/Milm1+PK141vnjb95+tiRI8c3bNqyduOmzq5eIyOzM2dOzF82zcbS5M39J8ODowpKO1yc/MO8h0WHj8nNzN27Ze3queNePLnt6zfsxotXwxbOH6BE3T0KBydXGOEUNHPunE7J4IePnzke2tvo6+vINTVV5by+nrWpmimjZ6x/49zzuXPWSxjhzduveKChUNKIFFMAkYyMBCyLlBBCwNEUojiGxZijaZrnecBiDiEFLeQAB7ESAAAJFY5hhZAhIGIAySOCATwJAWQwhTGJWQJzBOYxwhxBKFhAUioKhYJGkAMYCtTkDCsEnIgUypWY4eRCIc9xLMIEz7OA5lleySEWIQQxyXMQESqAx4BnCMQjyPMAKzEEiMSA4jBPkggAzDIKIS1i5ZiAJAExxgyLlJAEGHCA4xGPISAwJFlAcATiMRRAAiKe5WUYsAhiCAge0ZjFJIsFkCA5jCDJIILhMSYBDxmsHKBpGmIhYCiSJSEGPMmyPIdIIY8BRSOFUgkA4iieIRUYcATD05BCGLGYhwhhjBBLIYAwUGKkAJQCQ54HJMcDCCHPY8ALSACFkGc4VokoihaSDMsxPCIpCBiKG9i2cx2tq3L26qlVq+ZVVJaRvLC3oVELDUilzdZ+NseOHVszY/W377/Tq4rWrFod9/CllqqGe6D/5ClLGmrxs2fvjCw1//5NUfSjsaGjtDGuKsyzszbvA/JRyxbk1xdI2dav7597WzlYmZipaGuYuNrP3rR2/MSovvpiK21LSadKS2vPyClhXYPtIcMC0jLjuiVlFUVljXnyiMixn/9+cHKwMwYGrZWt48ZN+PI5dniQ39unL6dGz7hw4dao6LlDIoZdfXuLEXHkxJjwR/eumFhYzpgQqVBijusvK/pRWdrb3i+y83DzV7d/+vXhzAmzmEFFflkTy2tARkNVoCFXSDFCLNLiIOQYBUEQENAKDgCECAIqGRmEEBAkJAmOZRECAHI8z5OEgOWULKmm4ACDeUgAADkljwVIoOA4BgAAAaJoBaNEPCAExIBSKRSqsJjnARhkOUTRgINSOS8ghQQplGAlJpQEwgDQPIsoUkRgoGAYTEIOYchiIUEBxPMIyxglTQt5BiOAAAAkQryMBTwroNU4JYIEqeBYhme1tXUMVUVqqkJEYAAhQZA8ywHI9fUPNjd1MRziAc2ygKA0EYQQA57nGcCSJMECjAECmCMJkuc5DDiCAyJSaG5rpaWr2dTR3VzfxvGYIsUyjoUUBSHB86xErqQEqhwAAAAgFyKEEYGVHEvyQCQgDI10dHS0ysoqBiRKBNVlClZIkQqlnIA0gpDjGIIgEMI66ur2VmZ1dXXtfYODEkZIaSs4BUUgGssAg98+fbFg3Xxjbc3jx0+6uLpXlTcFewz5/OX7gf1r/hR/3rV5TXtOHd/btWPrP9+TEqo7mxKe3jxyfP/Lt1cRNo0aM6SkoKC2vOjo8fMPbz0xwBr25majZ0xYsHG+5Vi3xt56Q1P1+SvnrZs9/9Gte40tnYm/fgwPcjM3UvlT3PoxOXuYzbSGrMYc/byyxsILx07GTA2dszwiLzO9s6cvuzB76sLJz1883n9u162L17WtqRZZhbpZJFIXsSQwN7WgB/mz2/Yv3r+ovr+BlAh6o2aPIAiqoalQhVBVEZKGpqaTZ8279+TrQFcP1YUWDJ/9/MEXCaNm5TOSYkgIWW9PW1dX53v3HslZSJE0QIggCCXLIpLCmGc4jqBIQCCGwzzHIMAhSECMEAIKpZKgSIgpiLGQQjxWAMBhiBleQZICxBI8zytZjiRJzLMcw9FCmucxK+coglAlKZbDkKAAwfGQZxklpEiCQPNmjy0uKMzMqmEVDIYEggSPMY0IAgFGqaQJoVKpEApojmMEhJhhOEAAAAAkAKRIgHmOURCIJwjIk7yhkcaK2VMdLQFFA4UCQAgwAFAABiVg765bjU39LAIkDQDBMwwnJIQMw6kIRRzHQJ4HgOMpQoY5BDGBlW5uZgvnTVVVJSEJeB5IJeD+veeZ2UVAoMFxACp5gUAAEOQ4FiCSVSqFJE0hqFTKSMQ62RutXr5ArAY4HqiIwcvXv959+EML1BVyliSFEGCMGZrgxUJu3aq5zg4GSjkQCEF2UeOtu896+xQisYqC7WORQqBChI8M1ODaZHVpY4I8fUL89+ZctXB0Ghs1o6Ik48a1D+uXTOxr69ARqb6++8nAwW75zr2eY0YMHWLvoGevSpPPH52dFhlVmvkletFirKouY8VRC6Y9/vPu1MtLOeWJcXH3rfXtvr6JFZCqKRklj55+HRoZMm3RzMNnt02fMSZgTYCwSL8x9YyajGTblWGuEXWZTfrr7FUF+voWOGbOmG8Z6bauYbM37VIXUXrtRcMmDd1/Yu/cmAU3H/07dtjElNgkTUoUe/tNel4Gifgee2dXCeJZEVucXj53xpzmjqbU4orxc+fVlVblJuTEbBpTYVHfx6o2d8kIJOAw6+Fu7+1p8volzUsIJcMJCIplOJIi5UoZTdMAYwwJhuU5BEgSQkDwHI8A5HiMEcQIcgyAELKMAhEYYIwIBAHBcRyEFEYQAgZCABECCMgUDEkgEiEIEOAwABBjTFIIc//xFi8W0MH+9iKSy8mp5ngCEiTHcQhBlmUgRAghjDFF0CyjJEmKUTIEQfGA4XmexxyBEYcxTdMcixHAAOKamppr125oCgWYY0ma4zmpjr765h2LU/5WNjU1QajO8yxGBMuwFEEolXIhLVQoGIpAEHMERUp4BpGQwKyhrvrWLTPrarqevIztaO8y1DcaFTVyw6bpO3efrWuSAkDQtEChUEAaAAAw4AQCAeAwo1DQJOvoYHVg/4yiot7Hz390dLaNGR06Y8YINTW9x08/YULE8wBAnkK8uhidObWRV4B3b74WFpU5ujiPHDPyzOkt6zdc7JP0QgLyACh5PNjfv2DSPHNL1e464ffOln0rl6mJ9bOSc69cvaAiVJ8zbf6O+Ytd7IccXnUwsahg4Zap/z64vGbJnFnTY3RUxYuWRTkbWSxbFHPy+NnsvPpTO66++PiscqC04Eamk5vp0qVLk9+lbVq7Pb8oOzxqbOyPfD/foWtWrg2L8or7FEf7Uq2xffr62k6uTtrWBvXVdeMmRyf+Lk5KqIieNCozr2TF4q2+PsHXzp7fvGX50Ag3RBObdm/FPfyK9Su/f0wgDEQyCTtn+qzSyip4bf04Wz9vwsmmrKX7xN5LkBc8f/nsb3b20XPXb5+89PHI2aF2LjrahssOHtx59e3d959JwC2aNzcg0HbThtOSQRIDIQAIEjwPFBxgMIYkqcJyBA8Qj+WIhJjnSYgAjyGEPMAYY4BpAgEeKAHkIUY8hwkSEYiUyhiBQMDzcggxAAADxCMEAYAMRyGCB4jDPAIQQB5jjDFPQ0JVhT9/dl1GVtGVm+8w0sJIyGEWIBnAHMFRECOEEAYcxhhCiHkIIcSQ5zBHEgTGGPOAIAgAAMMxiAYcxwkhDRQMwEohreRBx/nzZ6CA2rjphEyGGQ5BJCQQyXAMgRACCGOMeQJCCBHHYQ4DQBCsKi0/eWxXe7vkyPGTDEHxGCEsgLzkwL6Vurq6W7aclkpJRAuUDEuQgOd5gAmEEM/zBJb5e5hv3jTj4rWPKWm5iBCwLI8QMNRXPfzPmvyCygu33ip5AQmwjhZ15PCqitLqa5cfY07IsJikEYeky1cs8nA13br9zIAMKORydYp3N9foKvnl42MqFfUb6pu05vZaGHg1dQA7H7tOkFdbme2oZl5ZWKtv7uri5y5T6euW1bNcD0EqLayNairK3zx89eD2+0mT18+bvaGqqHbOkvm7zu+NnjH+++/feRn5wR6BVmbGpnbavb39Lx/FWlpbR00OEavyGb++z5s4tzi5pV/GMwbC39lJCOCKiqr29v6Va9dV1FdoaGjUVdRoCWgNGjt52CIDmoeKuvxiK11TZY/i/MVbs9ds+vT519TRE4e4+6A/CQnfv/0QqeikpBVevXL77q1Hj+6/1NYynDZ7akpWiqure2Nti1zG3Llyv6qqFmECcxxNkYAHACoJQgZAP4T9HDeAgZREmCRJRqmEGACepUkEeQWFGIAHEdtLwkESKRFkIVACwCIIMQcQpAiEKMywyh6akkM0SJJKCjE8p4CA5zmOAFBAIZ6TAyzDWEZRCopUECQroDDAcppgMYsRlgspJYQynpUDABCAFCIIEkGEecxizEMIMQAQQkggRBIQQowxBAhjyDAcy3MkSTJKjgS0XAEwJSKFKkoez54zx8yK2rP36oAEsTwhEKoAADiOowgK8+A/0P83CgOEIAEhBJgN9HFXF4MHD15wWIx5FYYRYqzCY9HtOw9EIhjgN4RAHMsqKYrkGJ6AJIEgxjxCCBDAx9eD5UBhSbWSFyk5mocqLFbp6Bysra5zsrcUCQgCYghYPR1tY0PwM/43ywlYoIIJdRlHc0CQmZGjowMMdMVKhUJIiiAgc3Jz/YN9X758KsDkrJipvGxQRDFCEZOdlVRdVjF+9IS0v7mrV67TUhUYaon2blrRWlNuYGAwKJfevn2tvbd5QKS8+uKWv7/v6aNHG5sbGhvq9q7bqE2rCgk1H/8REWOmunkF19d1yPuVl85cgQoCD8CM+OzwkOiuLhlHswkZP77/+hgWOVTfXGNkTISDh2fPoHLpivWJv1LCvEMWTZhbkJRjoW5Wmlz+53NWfVVffmnjj4wcz5FhXezA0FGBv5PjaqoLyTFz5jT0yCZFLx01emprVnVeanp2Ts6GOfPKi9M0VMTNHc0VpSWG9naZKanNA+pCVgAJjlMqOAwIAasqxFOmTOJ5nufR+w/fOzulEApoSqBkZBRJYI6joFJbDKdOGi0keJmSe/P5V0ePDEIVlkMIUZAnIEKAU+jpwnHRY2kVckAq+/ThJ4IiNQ3dlpYuiYLnGQUtxM6uFrX1NUpeHjEyxMjIqKaqNTs730DbwNvdxlgPQjcrft6Y3OLmP+m1BEHL5TwkAeCVNEnyAHAczwMWIALwJMdhzDEIQQhIjDFBkBBiHnAsy4oEAoZhKJoEvESpGAgKdJ01x+/ggUf93X2QF1CkQClnAYIAYpZlEUI8xggSGPIYQIhJAHkAlBhzRsa6EILeHgnmaRKRGPJQydG0YLBfQZLAwFAbIgVkEMOwIpFYLpeTFMQshwmgJlZ1c3P6+Cmlb5ClBeocxyACcwzLMEx2Zp6Xu4WliUVpRT2BcejQ4LIiUFnezEIBBxhIcgTAAKDKympGBgL8fSpr4hFCLCvjyEF7f+MxiuFDnIZMHDdj/6ljxfXNtkHuqQ8f4a5uayPnGZNn5ObnyEn5jCWTDp1YywgUP/7+NjAytDJxu3Tx/Z5bu0KGjvp5PeHTt0/VdQMJP+LFeCC3MnvlmQMFdc3FNY01hZVLpo5bOGdBUyldU9r3pO6FAvQm/c3t6+1eNG6KvqYwvSSL7fDI/xs/feHi/YefKkhJVu7nRbPH/nr+IU+otWbV1vPHrmupq8hYrqK1bdm2re9Tr+/+Z2lpWnJFWqoZKSr+8ZHslis9vAPnsRbhQ8fc2HvQ18XFmNa6df6qmot2Vm6GmKE4Q2GVvE2uIpJ29UEOAsRBhEkSWFkab9i0pLtbIRIJZFIuJNjt3PmXhQVNPM9DCAGvpCnO1srk4L65PZ2AQpjh2NCRQ46deJxfVENSahzL0yTBcb2O9qYH9s3q7GQEQkrBgqjIIXHfSgz0TC9dvoUARRBQW5OeM2v8jTs3V67eZGBAdPUADXX9msoaU1NTf38/oQjo6Wv7+g5RAvWUv1UMrxAJhRzH8liJMcfxAACACAAwxoAlEIQI8jzPskqCoCAGLMdCiAmCUMgZAABJYYyxmqbGqjVTWtrA9JmzZcoP2dkVEGACIB5jgiJZloUIYA79578B4DHGAGAAAYmAtbV5d7dSKlNAIOA4IEAUB1nMclIJ29oCrO0tMVASUESSAlbB07QQc3KSRBgghmF6eyUm5mYQpygUMgAAhRDDKDRFFEVBkQrQ19UpKa8BkO3r69XUMqUoigAEwEimVFAIUgALCEQSwMbWAhBArlQIEDvIDL74+dnX2ebstbvmDm7Hb103crSJu3d985rNDTmlp06dKc/NXrV6iZ6WeGikj5qhdnpZZsDooTMmb9s5d+y4UcNUVA0OHDkdpO/HIzarMP3Np1dfHt2yyjPCWMZysv6BPgtj49N7Tu5cue3x1x8Llyyuy0nQ0hfK1ICxvsEwC/ejhw4qOxX97RITY2uBWPXC1TMa6iIbQzVaySdSPcOjIm49uS5QIV3MHBcuXXXlxUspLxg+a/bOCxd8dbQvnDr38OrF3vY2sqiw4tXLxHHj1ya+iNORCLSUKtFjJqs6GWS3FavoG4dNCLS3s1u1br2TY4C5rn12RjXkAUJISIOjR5bcu5/+6ctvniMIhLdvXr5w7pQt205zPKIFIoWiJ9TPafXK6Bevc2Jjf9C0kOPlIyMCtm2dffLs29y8CghJHg6GhjqtXzfxybOUuG8JCIgYVhkREbR0SXBvJyAQhzAFAdDUENjb00cOr8nLbz9+/PnggIIgKIWcqavpzMvNPHdqQ0ZG+r3H3xWsGiBFCBAyuZwkEEnQEEDAMQQJESKUSgXCDEEQSlZBEjQiKQgBYDkEICIQz/MIUTRNK+UKkhBqaxs8f5lnaKDGcZLtO2K+fiv+99Z7HgsQQbMsCyFmeYaAFMYYAAAhBIDleZYgEU2TWprqmVnpiAA8D1iG5wleRECOZ1kG5xeWuXnY0wJSyfMIcAxASqVCKCAUSplQJFAqpbW1tUODXdTVqAEpxjwBeCQkBSzT6x/oJlQFCm4AEzzDs9V1ZVM0Xd1czJP+lmNSVUSLOFZOYNbRzlxXDzBFUobnCIGAxsQ/R47pO1B/Er+fevL66tlLf2Nf7Zs1bdXmFXGfYlesWSzCiBYyN26d6e2u3bJr1e7TV1OKM0LljXdebE29H9fe1M80sRvnbeuv6OrsbVNVlwcMsy5uLUgp/DszzEPW0TQ82Gfb/PX395xPy8qctWxMSfXfxK/v3jy8e+zKfq+wsQN5nWo9eounxJR3tfsMn7F4zYbbV07lp3+/9f2Zn7f7wbM7FixeExI2ykjFIvVxSmamT1pu6okDiy/u2xCxcELzl7QZ67aGRgZrujkiBunsOnA6M6+woa1J20zDI9jl7fe3aXl5Ng5Dvv3MDhwZfffFq5kLFmDIB4f4CigeIaipqWmgB/buuvns+UfJAJIOEtJB/DX2k6Y6tDQ3pigkk/fb2pgsWRT96sWXN2+fy1lFv2RwcHDwy+cPBQUN06ZOFAoARfCGBtqLF0+8c/fDy9cf+2Wop59TMtSnj19+/KgVqwI9XXWSQhhzFIlVVUBbs/Lc2Svd3XKJjJBIOB6TkBJJZKyM4zhIDUqQZBBxHMFxHEECsSplZKzj7Gzt6Wnv4mLlYmfm4Wzh6Wrp4mQ6xM3OzcXCycHE2kJPQ0OAAId5nuMwAZFcpoQQ8hhU1zZ++fLr5s3nDx++3rnzfNgI5ymTxiLIkhDxPA8AIgn6P/L8P0r0f3qUImgtLVVVVRWpQspyHCUSkBSlZHmCIHnIkxRSV4cEgSCPWZ6jhRRJUQpGSVGUUq4gAPoSG08TYMmimSpCBoFBVtmtoynw9/fw8LSUSIBEIgEYUQJxVk5BXmHr8uUzLS0MaEIJuX4VCpuZ6C9ZFDPYD7q6ugAAPAflMiY5KW3PnqOZeQUL183xH+k5aVr0vQf3r/97u6qm4dCho22t7df/vd7X36UlEiZ/++nl4iei9SV9AlahHhAy2tk5sDG/zRAYqvLiC0dPRQYPdbCy+BL7ffKkWXcu3yWlfIiLo4OJ5sXTewoKf31LeGDrobt89dyKsqIwv2F6tGHa76Jg77HedsM3L9tcXtKqJTbasWIT2SeLHha6YfnSlMREO0ertMJEpMFbWNsIkAAr5Qd3750QNkLA4ayM7PbOPmffoE9/Msml2849ePR46NRoyAxCSU0JVT5macT31KIA/bnjx62YOHpFQ1XxzOjRrUVNCQNxUKnUUNUT0KKGRlBe1UQSYpYlCSjkGUV7eztNA20djer6FoJQurlZqoqBtZXO8iUTMaA4joMYk4jXFFFiEdAQC7q7+twc/RAARfl1FNJRMBRJknLFoEigMihR9PSC7p42mZwSCAiRWMjzoLikQamgeJIgaYpRsAQkGJajVQQAkVIlC4EQEiIEAcczJMlbmevNnzfFzBQIBYBhAQEAgQCFgJIFDACIAAiB9jbwJTY77kfygJQRilRZliUQwJAnKZJleAXHk7QKh1FdTXd1hcTB3lpAcSxmMA8ISqhkFQgBAHgIAAD8/8DKA5blu7v7JZJBihZinuQQxzIcRVJyVkpSmFXKBnpZCpFSAHmAZHIJQSEBTSOAAAQ8gzvbFKuWHT1wctetG1vTUmt6enrDwr1EAnD58v2ZM+djjiawSCnnEVA/dfLO/AXTjh5dUVffn5eZO8TLx9ZG5fv3YicnI/mgArGIpAS0UKOmvHHciBHlVfFjFgXJuJyJkwMWrZpPquv//JggUmPyU0vGhY3/8v6pGS1Mi83yj5kwO3IaUDfubVBHiv6ktCQbLbT88bzNq9YaE7qH1u3TMzLraVN6mARv+3Vs2eTlB5ZuPv/PntyspNeJ7x18vCm13i5l+3DHYcoytYpqOadq1imjjNv5PSuOJbSnzxgfLezr+Hjz1vRZI/N/V+kIrUxVB2gD/cb21mWL1l08dF1a3zZ63Mj7Z+5PmDrVz9w2ICAoOz5jRuRU8ktm4Zf07KSiorGRQ4zUZa9jX4QPHzUywvvp/RvzF6wd4eGQmfj7x6uXFhY28gEJAEAqlTY3t5pYqGFAcTzJYURARBCESCSiaaBQKABgCZJ3tLcFPHBz9ZDzAoAAjwEJAcGDQSkoLm3o7x0gSdLS0rK1BXR29XOsGEEBxzGkgGZ5BmNIEIDHLCkQYQwgJDgeZGcVACTEgJQpGbFQyDIcjzGHAYCAQAIMCYwBzzMEiTiOq6qqunjxsqaGCo9ZADBJQJ5RIkAAADBB8jwGmOR4oq2tTy6XiwQqMpkEEpAgCIx5JSOnCJplMctBEpAYkyXFVb7+7kIR1TfAUJSY5wCCNMYKhCDA/yNRAADPA4ZhBgYGhwzxefzyL8ZYyXIQQcATkKBoUubp4TI4IO3t7SdIfQwIhHkIIcfyDMsRBEXRQrmcBZDcvedQUIhfaMgwMwvztL9lnz++9fG2p4WgtbUdYAQBBSCpBOjmnSepmZaTxo8JGTqsp6P3wP5Xg5LeyKh172JbSZLkeaxggI9fsEjQMWPa1NqGVF09XSFJ37ly1Ss4sqGq7vO15yMD/L19bPzc/CzF2mV5NbK2nsK0fGNrMTDQaOnoOnP01vaFK70cXT79eDvE3z01qcPJxrq69O+s6YtWLFlbnl1ODeDty9Ydu3ggufRPf2Pb9+IKbaz3JeX7ty/psgF6+bztNQU123dsmTx3woYja1p6qz2M9acPH/4p/o2+lvObV4lIX83c2Tg/r+TM/dvqhtqSwh4xozSBQlOB+rzJM38lJpmZW2R++kGefnzrzNEjnx8+TXr/I8hZNHaID2K7dYXdR7dNX7tm0cwJ0Zp8w/kDG67dfRE2Ovzm4/eAYQEAEACeIyAgSYJmGSVNYo7jaBqwLIsxhBC1tne3tegePXp6gBUNKgFNIogB4jmeA0qeUGIBwKxEKSdpACD+j4QwTwAMeJ6naZJjAQQCniMQRH09jFQCWIbHEGCAEAIsy2IIACQB/m/PQgAARDz+L4/ESMESjW3SxjYpwAgAACAPAEAYQMAjjgOAhIDGgOQwAaCI4TAtgBzHAMwiSGAMAY8JggCA5zmOx7xAIGAYwGIeQoLjeQgwIhCPIQYchAgAgPF/ShRyPKiorB4dFaymIlb08wIBrVQqecDSkBOrCAz0iNysGhKJWI7DBEtBiHkeY0QQJCSAkmcghaQYA7nw07eM77+yhZRAIQU8q5w607Wrn5UqpAAKIEA8gBgTkFDPK2gpKbqnLlCTSgYhVvj6u3I8aGhsZIASIoqk6ayifFt3YMjZ2jpMJJR8X3PbgolzunrbahVty5bOyE5Nz8rKSPr2zdvSadasJZsO754wbU5/DzVQ3TA1POrJ+QfmphZB44JbUIW6iYDP72jvKx03PerT12QOcMOHhben5auboWc3Pjk6+tM6Kvl9RY1tjebRpsONVLoH2W7TtrTkX4fObEj+Fr953lIjWwOzjUvSs/P9g0Y3d6LJMzcevHwqeqyfgSPtEOxdn1kqLhKbmOoamOsPKKWZKdm2ZtZfHj2eO30y0nXU2XRgU3jEiFHhkYvmLfdxD5T3yeWDA1u2rLh952xG6vcQf/fWurJjB/ecPn+OAQhQFIaIw4AkSRazLM8AErCYBwDIGSAQCBBJMyzIzMo3MSX09U27uuUcJxoYADIZlslZBcNyPIYEjSGVl19kaAxs7a0gySGCgwTPsDJKwA9KeiACNE1DQLAsL6BFAAAOs5hjAQAIkhBCCAABIQC8TALkkkGOkUOewTyHACRJGvME4AUYi3gg5IEKi1VZrMoCFQ6r8kCdByo8UOGhEAABhgKEEEJ4wqRRZqZarFJCQR5hAFkeAh5BRqxGBwc71NQ2KuQsx2EAAEBYyUgBwP9D//97PACoqaWb44CGuoiCCl4hoxEiIcY8oyYW8jxobuogkAhDQqmUE1AJsRxBnuMVPGYA5BAFSAHFsDxBqmCeHhjkWA4JVNS0tA2qqhvkcjkHeJ5nMWYQ5DDmAKRZLGzvkWBIY4R1DfS6e0FfvwIRFMvJCCCZMWXEhDFeT26f/PT0YUlq2t8v7788vPLn7XXBYGlz9W8bM1JbKLO30KDgQGrCJ18nk59vbzkZce4WwEjUrU60NVcleripm1iwb96fzcjI+Pn9rperaliI2fuXZ769vySAbfVVabrqYPGciTXpqbil/sTOFS8eHVcVd+gaDZy4slyo3RD36xrHlm5eEqXNNWXFPyzN/swM1glQz5WzO73sddjWGjs9OjPrdULq/YAh2vGfry+bNZTryo8KsPn15nrIEN3Wul/I3FnzyLmdcnaAEKsevPDv1z9lxqa+6Zn1s1ZtDh4/QUmobNyy+8mTJwsXLra1ceIxxfAEgzGAgMcyiFhA8BgASCBEkRgDjuVZFiOkUlff2t0HwsJDVAUQy/pphAEnBVznlInDt25dTRMIYEFNdZNkEASH+Cv4Xg4OkDRHkCzAgx4edrp6AGOGRIiiKIVyEANAIJ4gIeQxCSDAEPAY8wynlHa1NXu5OYtFkAAKIUKIg1jJI4wQABDzEGAAOAB5AHkAEAaIRZBFkCGUHFJyBIshzwMOA4W+nnDFylk6mgIaAazkCB7SmCWQ3NHZRKgK/iRnAKACCQFBQIhYigYQAIgh+O//P4TCrMyK/kGwcOFUkugTISViZAQnpwlu3vzZLAv+pKbLWYAQJRLSXq42ft62vkPsCJKBQAmwUldfvHHjEktLXcwNcgo5TWASDfj5Ojk5anz7lgSBACECQF4splYsmhY+1JMiWJaTCNVJBejR1EOTpwZmZVS3tysZlhTQgOZbvj4+VPrjSqSdcrIXmjiEUpdnUP1piqaEyaGGM8aYWeo0GYmbNWF1R/23zoY4qi/HUr1VPvBjiP+ggv84ZYJg4SS91qx7LmTHBHfjbYttJo4wULbFjvXD62ZbThqlNsRbETlG08ltoL7s6dZVQ3WJ0k+3Nu2ZG9SZ+qIs9vruWf7bFvp5ezHhYSIfxw5fy4aewtu7FrqyXV9V2MSV03Q8dIokqXfbv15ZFKBirEgNtBmIcOeaUq8YDibqdny3IPOCg/kOeSyc/e5C/u+sFeFzP9x+ZGuq4WhtPHNizKO3L+7Gfw4YGjzOPeD7s5fWpvoTZyzbcvxlQzcCmFq0aFFwsPGqNYcHJCRCqpgHAMgc7TROHF+2a/fr4tJGDkACMhoq8isXdvcPgFs3XysYJQTKNavnC1TAuo1nBqQYYAFF8GIV6dlzO5UsuHjpkVLJC2i0YvkcYyMgGQBr1x7uHxQTBOFgrX782II9/7wsrWhUciQGFOA5iDDGLAFlXi5GWzYvePIsqaCoul/C9/ZIECT/k5485Hn4f70MRPg/FCEAOB7yAADIkwAABHmE5JqaYN8/WzkZ+BWfXlHWAADQ0CKjxoxw91I/sP9eWWmXQkESNCVXKCghgTGGGP3/oIkA4AHEELCYkZmbaJ8+s6K0tPdHXGpLS5e+ge6oyHAHR2rt+hP9ElrJUDwGOpqizRvma2uRzR3c1av/dnb30zTNMoPbd2yyMBfFfflbXFhKEMTIyLDAQJMb1+OSk9M5oMbyECFIEoyvh8269THJaS0/4n8pGMbJ0Xri+JDuTvk/e86xWIVDJI16xYqClTNtnS1qRHwrjXUQS2KeEQgwq+jFEDCApkgVyBEEwxMAkgBCnmMhp6R4lmA5AUtgIJBjwGNGwCgwRwMhxKoAqstkGAlJwEOSQQggnoQypUxEkQhIaGKA5eVKWkUBCIYkIAs0eFrE8py8X4hYAeCUCPdTAhZSFKA4npQDgiVpFgECKMUKiYjgWE5GYIqG6nKMu6k+pE5DOHbM3nVbpYX1ZiIhL2tipB3NTfXtsu46pk8hYxaFTY0aNuz+6+shIye2dxlfufoeAFUv3wBrO+sXz1/zHMVzCAAeIIWBvmja9CkvXn5ubemiSBWe5wAnVRMTGzassLURi0VAIgcVtYNnzt+QSDCCAswjjmcJrNRSp1avmO3mrgcAYHlQUTmYkPjH2sLu8ZOXHCFm5AojXfUZ06c+f/mhtbOHwwhgkseQJCBEHGClFMlOnjouYrRrbz/4Hlf87k2cWKymlCsQwWOIMYA8BABgAMB/AIUQcYD/P9YbQR4gABEEmJeqqZJrVy22d9AAANA0kCmAVAKuXntVUlJDkaoKhgMIC4S0XC6HEEKAAAAQIwAAhv8pXQZinoAcxgp3V7u5c6ZoagCeBwQBBvrB/QdvcwpKlDwlEKko5TJLM0Nvd6sJMUM/xOZl5BQ217cAgDDH6hlozp87wdlJHwGAeSAWg9dvct69/8UDisUkj1kIAeIVNMGOGRM2dbqfTAEwBgIhyM7tuHfveW83B6CAYRVi2GVAVy2baORmlKtGNisZDYQFNJQDXiaigJJlICVkWIwxpkkKMwyCGAOEIUIAsJCVQSkPODESYIZDBOAJgYxVIURGhMhKCcVKBhOIFBAkx3EY8xQNWUUvL2mklQ0kHMCIwJAAmOB5ngSAwDwJGYSgUqGgxWIFAxkOUQKxjBPKKANKzRADipP3EtImIeyh8ACBlZADACFAEUqGgddyGzVJ6vn5y64meiNDPFvqip4+uHH8/MkGZf9gnzTrXcKEyTFTtsx8+TlxRvR+Yz1flhMxPEEJaJbBBCFgFCxFETxWYCSjaIJjEaPEFBIBAHjMYCCnSaWTo7mQQiwH84treELMMpBjAU3THMMiCEmgpEG/s7MlKRLIFVxJSR1AAo6FACIGAwghhTFN0EoeKjmOIAgMEMtBAgEEOQQ4nmUgyZhYamtoatfW9MikgFGwBAExz2IAMAQ8/A+a/6O7/9EoAAAACCHGAGISAYwAD7Ac4wFDIy1dPU2Konr7pfX1HaxShAGN/3dDUkIIAfw/MzCEGAGA/jcaMgDwECOKwAw7KBIRJkZ6Bvo67a1tzc2dClbA8BSgSZ5nAc/SJCZYOQIMTUKFQkZRFMvyEENEcJjrMzfRMTTQ4TiusrKxf4BDpIaSQwAASEIEOMyzBOYJxKiocOYWBgIBVVvf2tXHMZwIYAHAiCRYMegUKwtXT7XyNS8Xog6esiDtnHBZBlD0AF4BScQwSkog4jgWYoBIgBkGkBTHYRITAGJewGHMY4YjSQpwPMMhntIROAQAAxcAxIAWAY4DHAdIGiABUMoBLwNNBfKKn0J6EPA8ZhiIKSCgAafkeIYgCMAwgKIwT0BMskCoJNVVzByBpTtAQsASAPCgt6W/6I8KaCfxAOAZwLMAkoCH0Gv8OhUKzho/JuP3Dycrs8HWak2uW0tbDLR1vsT+aMwpPnDx5Jk/L2x8Iv5+7EIyA4gojCHHMTQtVCo4CAmappVKOUQsz/MIkSQhUMgxSSEAGYR4DDjMcQTmIYQAknIWU6QKQojlFBBChEmIOYTlCGElxgARAPyvfQcIEhAEz3MUxizL8pAgCOK/QIfDEGNMYJ4EAEHMYRaSgOE4iIUAIJIALMuSkPhPgWIIICYBAARmAQA8/K9S9Z/vRgAgAAACEHMKkgAQchiwGAKCIORKFhIE5qn/ansYAIQolmUJCBAB8X9XVEz8D6yQxxADDAkolMsHaTGEgGEZhkYQYcDyCCMRCwkO8xDxJIKsXCaghALcr8LWqgllMtkgJCFJC1hWCVglSWAEMWY5RNEshyGieIAghCynBAAgSFKQ5HkeQQ5iJY9lFCWQMpCi1RklzwNMEkAEOjS4is2LAk3FVQjyWM1TNCQQ5H9je6sRJ0EkDwDgOQ5iDBEBOB4AjAmEIUA8AhgDxAEMASYAzwPIA4pWsgQt0gSUDqBUAMIKlqFJmuEpKVDTNLYGhqayjB/0YC5iWiFCACCAKJ4HPMAAIcjxBEECngcQAYZgBPpQ35t08QQdZdLaUiEkkKoRsA4Akt7BgteUokUAAQAshiyGPMl2FYfFjHdw0n38KH/FlmVn927bPnU0GOgRaZmG7xh65vzprUf2zD6/R0EZMaCPhhBjFgJGKGAx06NKCgBGjIKlKYJHGEEAGY4CNE0hDACHFTzPQ0gBiGlE8ByDEAUAQ0KGZVghCViWpZAAAwwAC3ggIEmOU/zXkeMgjxFSMixFIcTzIgpyGCCEeJbBCFIEiTHGPEdCBDFEgMcsFpAkyyl4nichJAkWYBIAyCFMYJYEChorKCxBgMGA4DHiIAkg8d+mx1gIAU8SEhKwWKlEFMmyGHBQDWLIAwgIzHMcYjkeQV6dB5hCiGPkJMIQ/y+i/y/GwhgBTPAc0hZRck6JECARBpxCgBCDIYspTAiUPAcAyXMiQKsrMYK8bGK4paXOACZYgDDLYEhQkCB5TkEDFgIOcRhRpIJlMcYCgYBhGAIijkcYiVkekhBBXkFBKcAsRgIWA4whKSA5RkFgNQNVI111OQlpBQspWhcQGjwLeUAiSPGcnAccgQDEEPAYAAgQghDwmAcIA4zBf/0TCAEiAWIxz9IE5qSdBBjgEZJjDhEEC0kZL1YIrYCmFuhplva3klhBkDRgGUBAAACGgEAERIjnEMAAsxwkSUyqUkJ94OYvKykYbMkQgR4FD9j+Xnk7qxcapmrhKaliCX6A5KWYBBziyUAfEBGpd/nWrj2XN73IfhMwP6xd0l2emjTYypG6uocfXXUYFVBSX1leloN5fQR5AigmTwy3tFIn2EEwKFcVqDAcKyNBH4FJASnmACFREgykKIqhgRLwECOAEQLgvxQG4/9rVf6f+f1PHfIQAIAITAKAWIA5xGMIMOYh4CEGkMcQAIR5HgIMEA8BhjwACGAKYkBhBgCeg4j7zxRhADHmMAYkorhesaIODVYImH4KSnlE8VBFidV4SABCKeGQWNvEzsq8rSJF0d0ogJAHcgYhhmPVKMQzLAQkj7ASKTgkYHkRRCLIKwkASMxgTopIDmIWAIAQreQQhAQAgMOkEqqRJEmwgzTELNOPCIonxHKeZwDBUTrN3VqvvpRwpA0Ne+31OlyN2yFSsixLEioY0jKMIGJpfkAA5DTmAEYcpFiMACYICCErQ5RqLy8GtCrDKgWAUWX6acSwAPIIc5gFCBKQlDEsSQkRgZW8QA5oDpBCwKP/NQ0BgSgeYQAw4DHAPIAIAIwxgSGhxCwNCUD8R6vsfzuG53mIOYKmOUYKAVIhKY5jAI9pSlWsawPU9WS5n8WwFWEOcCQgEOAZjDACAPIc4DgECMBjSHI8hFJOQ9XKA/S2DraWiUEvyfdCCCFmsRKBchEwc1A2tBPKGgikEAAEATkqxEPR3bhhxQqFgOYBf+/ZM1lK5nTfESMCh9v4eE+Zu2j6vGWApmPChz+vzCMAJHmlnqbA0kRFjKBQIlQlBUqek5KQ11fvl0poiVwViOn/j7qvjtOkOPqvqu6ZeWx993Zv727P3R0OOFwOtyDBSQgQ3JIQSAIEAjEIgSS4B0hwdz93d/d1e3Smu+r3xzy7J0BCSPK+7+/7mc/eXD8jLdVlXV0jOrCcEmMINDkAAIAAAgyAEgpdEgSQsBw7z4UQHQG0IEwC+UAhJgFiS5K/mxFs6OEBEnZJ2OUcghiCzhgjjRCwtUrFMVuYSkvDzkKs1ZT2JZ7hXNe+vSESA/RbGrNtVmoGxqoyTUFsm2Y2oLyyntlcTmW2O9YXS+xE0lobBV26lUKsGPxspr62rTlVXpbItq8T20YWrMSjZX3akoE1flFxgVvZHZgh4+3YuMbTVtCwoore/cCL5FKF789mDUaJcVU2JnUFuN2wJcdVCrzuVeC4gJze3Mzp5hikgHPWoooW+RxzC8okbXJBS7ee1ZAoBgeCreulrtGVnEc5Y1NaUyBosQS8goIePcCJgAJdl26xUfCKLKLvZ+OOlsBHVwlZZAGwIACMoiwq0qjZMnEAeTtQhIlAIYk1OeVotoE1rHTEsgB6ultv2LETck2utCMQIIK1QBhKFWAC6RhnhAAdjpZArACyTR63ak5pCAgJIYVYD9k60OMo0kWCTUQMwGhFP/vA67/+9X0vvTh94mFHnzz6hLKWIr/nYQ3L169tyHh1yWJdc/NFt89aMvP4ky4cMfS7IlqDKo5EHBHHmphY18+iMFtuq8sqaygXBOSwExHHUeCESiAA5ElQ0S6iZOg8B+wgU2RAKwiIgGAhVO1ACICQMX8nIAJi2KugIFDALloA4wBZCa0hNianFYkQQtalLKi0i75vJOdVdB1/CHgupNNAuri8S0FzAVBccVakWaOIKnWqh6nWhvT2LUCNroplLKVNl+77HAXag0wKEsXR3iOiW9ohYWDZDmXqPOVkWOtuo6NJxyVUPasg0whEoHt37TFk58LZiFI58SDIZUAyXqLroJG9zfObbCCCgQgCxgN2vFiVN+YACBCUgoBj5RMyS6e3N85POO2kcymfqbgnDNinccWG8jHDIOaBnwE2zpi+sGZFauNih+oAEAgFS5qkpnr84RCLQbod2ES6d6tqKIIkWnJcT0MQIBEbHxQDImkHwAURkpywIGpmsRgAAGG4R0cBIggTIluLRAJoQWcxHi/tBcUFyTnzwWQhXBFEBmBQCGIBFITOOARAZPAC9AIvCnEP6moVp4ktAYCQFhZqC9K1DuporMi2BogBMIOA/vmPH3j64TdKivs8dtfjVOL26df7zRc+uPaKH65YPr/c8JzZaz96ZfpfX3zk/FPOW7FaAZMEQRQp2pYqhEwJo/YDURSgxNI2kogr12vNZdshh1qFkW9uxAMAkHD34m5/8wrcHuUCABQ2VAAAOsS6EhAOpzkIAHQs4iBYQcvABgyAMEj4K4AoJaSJQaERAmPZ5AC9eEnh+MmQTNfN/wxslthxEj2LRp0M6GuNBo1CywqhuJqsYmQkzhnW8eLuE46Atmz9yqkkfhAEbrxb6ejjICrRSCKbYiCLyoWi7tGCAojb1PxPmhs2uLG4RCoqh4+tqhkAvWtg+dLares1pTOqlx8vD4Kc0oiMTE7GOiVVQ2DoaNiwoXbbNgpyALqi+4DomANgaa5t57ICV1mjjCqNlvYt368vtNQ3zJpq/JTV2LVbD+o/kutqg0yLpyI561q3tHrfI6DdtCyZajKtiIixbqWjT4NYfklW2EethRKs3MAqa1GDgwQAgQAbC0QEilGMFuOIoAiIAQIksdZo5RBxTiirKuJ9hkHj5nTzumK0KMDAhASkQFgwv40BQicxAAABEGoHtOK2VgV+eAWIAIgGTGUzTmDdaDxtGcgCIgDoKUdf9e47b993970JXVCA7oxX3z1gWP/FS2eaLgUPvfd6/1H7Pv/sm4WRhN/QqvwCIwoUqpyfWbiGmmst2Fyq3fFchSSBSQmognikplthz25ZQcvsKk2AALybwpkHdZi/u0Mg3OqDCPnKk4ASBWIJCYAAgQAEOSRQi8DIFjlABEAQDAkcgcE4HACTRnAVRXyOcLQqMmQopFvqF0yNQb0jGQWqvam2bpHqss++EFVCjgUxgC4pAEWsLcXSXnXJsH2hrb5u0ewi3RRkGhKOk001ti8rLBg+guKFqinh+zmOaoiXgGDjZw9Gg+0VZGwu1p5rhVwN9KhOz/oCG1eU2GZyIJc2be0LotSSglJUFIB2C6ug/2i7bkN669wS0+SKZdDpzVtidgAMnKjTNtu2RJEnbhEQwbaFtQs/T1BKo28EWrc1lHTtVVDdL7V2g7BkqKJ45EGQbGldMkuntxS6VkC3t7Q1L/+sZPhwr6g428jaQV8kp8tVrDvoErauz4qICC2DZQVGhNA6nOVsU5Cqd6UNCICMDXLac8EYRGRQbnl/KO3Jc1+J83aHMogogAZAgyvAIEaAIHTKIQAIiVXCCjUIccCIClAL+CgcapuKFRgDrouoQAgUAbN+6+NZ55975rEHT1q6eGZjmz7l1GPLC2MlNdXco2r5vY+9//qMS8+/YMoRQ3MG7n3gU9JKWFpq67a89xFsXVNYFM3m2hylwDeFhrbsqHVrqvY59cSufWqyJrAW44WFvp9l/BJ5AoTM7ktgAcXIJAQAodIJAIhKQPIcFYBDUoRQA2BGsKgEIaROElBCrqOtFSIXDIiIRddHFxIVsHZxHNtcbtGSBlaFXrRdpcFvhcCwJQEWCrm0QtTMLnvlUFgJaxfHpVEFOz03C4aZtOE2IAvpnLXieho8DSYb7NiC/vYY1VkjiLmo9sBvhqTrp5oS3KC5GSxFVYmkm5UKAj8ItGYVdRMF4EaaG+uifqNragEskfYolqnT0QGTdbwbt69FhFg8Dn7S37aiyG33TBtKzjEsKgKiwU0gE6JLkS4QLYV183VuRzySgVwLKM8VZW0rQAbamjQBCCOqgp59oLQfJHoARvO9KQaQgRDEgEKwWWjYCJsZ6trA5kAJKAIGEATQTNGCPkOhpTXZtDmh0+DnQKNCMiwChKIAIZR4gAwgAAzAIY2CBR2J+O2kEEVQkAkViwIVBUIIQxkl5EOoM14QLfPSma3VPb0p3zt94bIlRx122P1/eKRq0OhLTr9Mp6rKulc+8bfHookyiZQHAbmO45AiYyq7Vg47eIyXcDyx7TvqFn0wvbi6pGBQTWGvrk7ck1xgjDXGAECH3bIHvkye+bYDKFAgggAEhB1C2yIIdhrvnXeAZmAkQZcRASSvmwsYwwAoZAF8ESbXVfFSMAqSLcpktBKxgqCT7b5TpAAdyASOBUWgCYA0KIfFJTGuVwY+QKoO/TqlcoAUWBQdCQwDCFsjyJazJmiGoNUhXykygkrpAJQlgVwSCst8TlqyGhgEEQDJBXTIK2BIWfScRAmkmtlvVhSAh0AKAiZlgQSygVtW1bYVIh42N+4s7dfboaA91+pQoIQBARkhUgCQQmAE40QSEPiQbnCULzaHWgFbUuxzFpQVP01sUMgBtusWqO2bwCkEIQYM9RmFBIxsGBSQEsgmOd0oKqkiyrfi6Ljx01pFc1KYKO0NRSWpJfPQ5ogsAIMQSs6B0FBVgKHYDDoGCwAY0EguA0EAhSV+PXksBGBRG1QGHIx6EPFSqXZA6wGDEAnRQ4/87uIfnnHJJWd3711+5uUn99+3+61/uKW6V9WcTz4b1ad/wsM58z79bPY7wyf0z3FOEI0fCGEuoqi6pHxE3/KR/Qt6VMZikZRJ9xk+cMQhk+Ldy1Mmy4ROPMqhafMvIE/MhEgCJICIjGAJDIGvIFBsiA2xJSPICFaJKAYlSELhLRCyWKUZAcFoDcK+DQKHEERCyjdGULsAEI3F/cCGQshxHBImKwAgIsAGWBQKMENgvWgBkis+O17cBIJaQWi1CqCIJgVBFtiC5A+FEAS50CNIYJkMaGD2tVYg1hgWQWPZ+AEoDQiIaMUAWvB90MoAWgEAC8bXWpvAagQQC8aPOBpRGJlIKVAQCFjoWE2w4DqiXF/QAOatyryXj9GNIBJYC8hKMja9M2he5besMu2rbdvaoGVNrmkVN67Htk2mbV22cRW3b0FpF2V8ziIiMyMoA14ayqFmKOSakw1rXAyADRAAslg/ZH2A0sGCGIBD7ROASJj9duAACsqZCogcIEJEA8roKDlxiKpsqknEAikBYiIaNaQ07qTOO+8cJ0qfz3lh4Yb3TzzvkJETeqaaN51+zIE1pTrTtv6pZ+8urAKmJCnrkFKF8REnH1V24Oh0RTynePW8RdM++qSquuuYyZPi3btwYTQNliJuq59JixEEEPrygaA6D0ElqBAVAYIIsiW2SkLRIEBgFbBG1mCVGGVAi9Kg0CD7roMEFtloEGHWWrtRNx1kWKEoAQyEs1qhApNt2wnKYPeeWSqwEBVWjJLjQMViIALa8U2YfQcAAMES+QpTfrIWiKGqfxbKfBtB5YFYQpHQm8CimFyIWd8BlQBWjhFtBUFIAkUAxoIgChi0rC0pZptDFIUgJtAknsqm6zZDQYUuqrIEgALkgI8s0Vi8BAoiybqtYgMiTegBE6ISEyAIETGzCAIjMAkrFky3NQIRVvbLYqlg3IIKSGeYUTugPPadAKLgkoVcIAGg0ZhzKattSgdpzwYeM0mANqOl3cF2kgxyIBIQgSNCvq8QjEQ43hsqB8D6WVHZiNwCYEAxiEHHA2uBAMCAWCCxwIwIyhGrQFwlBDYFqQZwi4GKAtagiE0AgMZG3YIKaKuHbINHZA36gux49PZzL1MGLzn3sorS7s89/cKAvv0Wzp++ctWCRKFKtdWmdmxtXL/utRdeQCuO4wRBYK2lSLRi2IDqkUPSbJctXrZ2/tKGtdtGDhgOieLCgpII6WRTi/GDopLiSCyat7e/MUIlkgRAKKQVBmQE8lSO/ZzNaEURFJXLOtlcIQi3t1MmHRVGPwN+lv1cOp2MRFwAjmldoMj1A23ZRUt+MzRuhuJK65YHbtcMVmZ1VVaXWoyBEwVPkYdAxGxBfOCcAnEVY64BmrZB115ZKk6rinYpS+aKjC5zYyWgHSiIIXEQBBoJNAAYBQjWggkd1AzIIExskYmNiAiKUciaWCsgDhRnc8kGyLaVdO1uVFnKlGW4PHC6p6ULVfcBv4FTmxwnQGLgAABAEIUQCUQEgAgAGZQwWKXZgRao3wAlFRSpSnJplqqzTnVOVZBbBOhRIm7YWGLlEBEhC6IA5wit0oJgQQIQA2RAfEIDKAA25M3ABrUDSgtFygaOhlQu1bRRBQ2uQhAMrGVCsADkgQ0ABRQAImllQPIcVICQ0bbI9rUQj5d0qclQaYrLfadrQF3ArYKeA6BufYRblE0TOqJKdEl/ndsaXzOjrnnLllc/f/nqx6/L7Ei99swrj/zhoYad/pZtrXFxln6yYIu/5uVPZqkgAhRBSQUiKh6XXHLLovXrPpkX3dpaHSlb8NEMWryi6z6j+hy4f1Wk0HqRpsA0NLUWReNfo4XuQiiXQ+SXmiR0nQITCJIAZ7I5z3Fc7Sjfp0zG84Ni0jEm67i+BYyqhvasQmTk9kyyqktly7YGLxaLs3V9cY2xJse2Prkqleh3QOl+J5jVK1tamshxK7r2hp6jAdtyuXbLKU2gFAJkgLMAZPxcgdOeWj4t3mdC2UHH5lauSLWnIJDSmgHQczhws820WPI9zYG0Q7YR0AchQA8UCiCBAFjgtFYYsZ62HpBPCGICtDakOU8hpxsbp79Wtt8RpRNPb1q+SoP4rEqGjgI31/zZkzHVTJL2pQAgDZIFGziOB34WCFCBgcCDDEhKlGFp8WwmueKLRL8DSice5q9e15ZOsZjK7gOg6wiQdus3oUoDsDVCEtITAgOQAcVWUIECCAARABEcQAUCAARshBCBjBEvEYeCCKxfYdqbilwHfGb0lOsgCmctORoIAYWDgDyHQ6cVBqIEgQGkUEumYX109QIcPL6oomvDli1kguLiEqrpD9nW9jXzHLOdKAOUiJSNgJoRumvZgLKCqvMuPzENbT1KRr7z+avPPPLiUw89OuWkCx+85/nJvSZ9/OqH26lu0KCx4m9HBKWcwLe5nB+0plvqWyI6MWDMuJrCkrbW5KKVy3Z8NjtpqeaASW6hcC5dFHE1YF5q7ok8IX4JGPZO/iYKu4oAiSHuONoak0wmfFvpuE5bqmVnLTBnxRZUdY0CF5eWgaNzjalIqn1IabFpaLJN9ejvDHCHB23aSwc207B8dnnG1/0HlMNAyAWgVMvcj4u7EPvNCAYExWRgxwppb1NotEL2WxxXmjYuKRX2Bg71rIJAgLF53sclXRyba9aawfgi7ZDebBt2AvqACpAVWIez0LAFsmltk2QsAIICi5DzM8KGMFyfCSLKKGlum/pG4aijSkeMBVdBEEB7qnbGR+VujvwWwwbQ8aAF6tZYvx0hQABABAUIadi+FFLtJGlHsSNp30DT8hmlWd8dPrY8nQNEANWy6LPiLp5JNTnECjDMBAQKARUoF9iAMCkERLAAaMNRACIQQRYFSlgYrSiXEg7Ur0xuX5lQDH4ArEmjZZFwn4w1QAyA5HqAQCggYK2vlDLGKES0acXYtHVJaTQC3QaWl48HG4A10LSzbc1cV1oilAMJmJmYobFJ9xzQ++TvnnD0AQO/WDRzcRKWzKt9PPPmK3/7MN1edduPbjtixD4PPPLwkvbtS3b+razb/o4DYsRROq7jkURpn/5DqHvvrsUlca0L3aizqN/cz6bNnz0v0bdvTVVXN+fHC4vac4ENwyW/GRgw9DEJAgqRAAoTQnE0yum0TbcVB1weAG3dvmPJ8m0rVqfq65iwtG/PWHVl0Yih8T41ElivoYFaU9sWLNq5dGk6uaLPaDNkfCFAStmci35uY71XvwgiMVBg2lvdXCZTn3V0BlmQSXHS3/h5wIFr06CQFGpMR3lT24adscZl2kmAtUE66ZlMui7tUlaxjyQx8tsWvY1AMcqADSTwUbtRSQU7V2sd8UxAZACtJbCEWQ5EgRLSoq0Vz6FcrkGjSs5/IVHWFdgCcCrZFjPNCnxg7SiXQNKNq0zbegd966dcRSDGiihozaz72AGKQhpMAAga0gmqz2z+VNXPd4uKIbCZZBKzufY6vwAD8QEcQrEgOVAKmEApQc1slFJsLZBiBkXh7itDSGGcDmoVsBXOSeMGW7vF8QMVVRAwEAMS+8ZRCpSADQAJkADAZnzluIBCgQFSOuIFhsmI69mCoM7f8KnZOs+LJBRpSbcHfiaKOeE20ATWYwmydQuc1jV62so561uOeey1Z2YsmH3Hgy9GtDp08uElFOtXs8+0T2auXrSc42rKQSe6c1Zua3F830dkdB0RFOWU1NQ4Soyn6zNZv7m927iRA9KZpS++UrdtR98xIz1CP51C7SF+BQv9BxxUUCQ04UEAQaEggM1mMJMuQVVB2LZm5fL3PmpasjKey0kqmTHZzetWet26Zuu3DUxPLO9eDan09vkLUkuXNs1f0H9IbMiwniBbwBoAJLGO3yakssnG0LWsrNUKfZ8QCwE1agyCABRYihhrQEgQHEeJkVx7Sw7aXVQ2yCoyWkMup4gSaKwguqiUowML1olguH2KXGAOfEvkCDoBOAGYlI0E5DE51qBhAqeoJVNX4CUQAmuDVMP2wFrHIUFfa/RthCAGjL4xUc+xzIG46Dk5tgAsgCCEBhABdFwgYkGYHEDH0TrT3hhkWzUqAnDRKiJjHNBFBlhpQfYFIECNoIkEQCwIAyO4TOFmBEYBQgIEQbSWmdl13VxgCNiLahv4yomA9Zkdo3oEFOUgjSiiIoYtAZJDBNoacR0XLAaBAWQHIcgYASOsfIylk4w264ijfNC6IEdlrca6bkSMdZRO5XydqaDZO9b87eH7N6xceu1V1y6cO3PLqoUVBaVLv1iRTjkF+/VYs33V4rdeSaY8mxjESjMga2rOpZVNxzxtwfqcUzEdiZZBYVmXxgG513Dr1q3J1pZoSTytFXDoZfhHCL3xACAIQhYAJAwyQAsACKzE+On2MlcXs23ftGHVZ59t/GJarKm1tLQk6kiWoLa1KZDsxkx9DP2+Bx0KdY1zX3/Dr68r8HPQmgYoBm3BRoE98CPkFvg5a1zXJ2RAbUGBCpQwKRuwIsUEilhBAGTZktJOm7FKOcCIDDlAQDCcVaDYRYUa2IhlEpac+IikFCo0xigk19GEhhkAlEEhDZmgnKnMyg5DEIBKcpH1eqa5VTgbQBTJ0RrTYgLMkiZCDQG4ECXNfi4DJL4jBsRzlPEDCsBBTzlujjmwWSJCcnPGKO2arB9xtLDvizXChK4AWQpcz0v7gQJ0UIQNetpaCyyO0jZgrV1rLWmVCwKllBJlfas9stYSakDIBkxEggyQJmgqcAJFnDFFCzYXLVybPPqEEyqrqhcuWPTBB+9dcckPhOn1Nz8dM3K/Iixrr2sp0PLB26/36FaRs2lwchvqtn7ngove+uj92ob6m665/g83/raivGrAfhPW7Ngyfc6M7l26OD6cduLJesq5Ry3Zuernf7rnotNPe+SZ+6cctH+6PRm0mKXzNo885MDVrRt6jRvsWtA7bKMhRCXIrtYJAVdpNxZpzrSlxC8rKmtvatlWuz1BurKyqxeN+GJFUdYEorwOT9hef2GPEmSQ8BwBmBGAQOUJl5VAUTxW4jj++vVrps2qX7ykWmF5WaHrp3PtbfHCeBdPo+ts21mXXLoCuvXesXQFbNte7bkukcolQbJgGWx87pvz27ZARU119b5jE/16OSWlOUPaKg4YCVzX860BQk1kggxK4GkVWMWAmpQIugAKMAgsOVorCKxPpEMbVQk7gFZYkc6aQLmOCwDGsjCKEJJvGDR5URdaHcpW52A9kw4wKomeTkXfIFPnaU06kk5ni4pLGpsbKIpZ3y+Ml3COM1lORDzIJlWEBG1rW2ufXj2baus5J/GC4mTKFxJywAAAqMJ4YW1tbaI4RgpzmXbXoYijm5pTpeVlrenWFFsnEQXSnMsxm0RRgZ/JSGBIu0Em8BKFJpejiGfSKeVFhTHI5ZyCiM3lDKOjnEwyVVha1J5OkTQVFtS2tawtJD+A6Edzt0w86rKXPlm3eNlnX3z66byZM+69445jpxw/YwEv2bi+sX6Jn0ztM7T/0H3PeeSRRwcN699vRI+zLjzitffeG3XkJSuWLf9gVnL8IZd58eIlLTtnrt+0ttHrNWzU1edd9sFb72lVzO+/+m5xSfTq22/oW5OY8e5H27ZkCk3JD6+6rmJQzSk/P2HN9sK+lb2HThrz6bRaMkjEKtXubEtp21LUrxtEVHsq4+daIZ2sLu62afPyKGon4oHjkuuZVFJrBBQQ2esvCny5HAFVfmUILAJyaOATCIiI35pSjenGpavjTa0Ffhoxx2RiRV57e6sXjXMyU5zm4rpU8MlMp7W12opKpRX4HggAgkXIuLgFnBXQvDljojx00OgmjnO8yKbZdV0jbAmMy4KAwuQICSdDRQNIgKCT03vhtAFxdgmHMGg1dPqKC+HyhFKAHcuzYWL5NmFbWGjblQ/zWBwDsVxkYC1oFQny4T8xSPkAcQZC1lAvihxATWkBiltGNoqxHDYmgWIDMQppISkkAOB8CA61BgClA1qAUYBibCEAFCnF7QIcBUFIIwgQKQGANgOkiRQoJopRlsG6YAEkBkkAVAwOtIctCplGEWZQcdRo3qH9ZQ62sg1c15s4efLr73/S1hY56OAz951wxMN/fLpfweBfX333SeddPGf96oO/c8xjf330uJu+//prb/U6+ZSawYNazI4zb73t5z/78YcfTa+MVTuJmoqKor+9+erw044494T9H/vtT/fdf+iM2Z9s3rpeDxk5eMw+I+evmvP+Gy/84Xc/7z6oVysG8Vzpqx+9uP2F7S8/8tAbn78lGHnhhQ+cyHAiIqIdW7bWLZ1a5mT3UYfFepR1Ae3kbEVpZXrD9i0r1yug8soqFYmkDZN2w+HJr0B+g7+hYWQRAEAAGCH0pFprxAK3Z6Ul5fk2EgQMaaUBLWlBV1AYIllDjW2+7Eg3N8WMZTSAFiEkcwLWUZ8ohQEWttUpY0rTpiCwRSKQY1cQGThAFmQEIQAEAEAB2qWifIUuvRvyLQXoEA2h7h36VxgBUQjAQDQAZvBAlICTw+I0xBFZwCpEyC/AQBiMyZCPjwEMaV0YQDBc486Xh9WzeYdQeC93nLOIzUuksD8BBECABAWAEEgJIJBCCB0njGIRAJBRKB9xRgBoyCKiYlRAFjmCbGQrQQRB+xl/89qNLhYP6Nd7xdrlX8z+/Bc3/OT1vzxTM2zExx9/XDN8yNIlCw4/5pBX3nkxIFmxYb1bVvbKO6+PGjOqsS0zcPCgR3//7PGHHd/9gO7vzfxsfSw3esKAmdOn2tq6nvF+pdEKevrh52u3bv/RjZd8/5LT169du7OxqcFtrZpYmdSbbrjmjMd+efvBPQb/6Re/vubSK5HFoM0huIWF8aLiDas3LvpwGm5o7JFxq1ogM3/9+i/m12/Z0bVbj179+qP20plA6Qh8G3QSBAMwIAvmOzqTTafTSREhRDLsMZLPLqMj6DBqwWwu09jU0NjUACFlEJj8oOWJi4kEqaGpURhEhAAQ8Wsstn9Mj98GX2kvQkf5V/2a74H8HN4buyZP5zIvhPQHFBIlAqCQ4j0OYiImFEABRgjlFaMwSnjXl/E1NRTR6GqnfVOj29Z+4pThRVWpS26/clZ28343n7/Yq+81umcUMqcdfPj4yl6D4gVNSxbs06OghzLjqke2rG5/7i9PrF+8MNNS+/obzzTZuu9ddva6mdP2rxl09vHnDO0z8YBRR8dMpS4tq5wze+qn737Sq7LP6OHjf3v371tyreP3HzPltH3ee/eZS75z2hU/vEblkovnTUUwiAhAPXr37tPFnd2yY93yNcmGRq8wKihB0meDhdVdBo4fU9GjRzNwzoKnNARf3blfaioAAAogE4dKQTjpMc9TQuZtmQ1bItJIzBBBZXLWE9RGGMV1lAIRYxEFIAx0Ys6PLgN0rNGTyvqGiDSRAVSkRGj3KnbMDwDJe0z+fWAHd/zKhkPHBeGvXzNh/hG+6rEoqMiGDHUXHYdyiYEY8nNQEAXy/Rzy5vB5HR5sBMD8ueyqG4ZhEmJEcPjgcbJNPfbk88kEnjhpn/pp04sGVN/84D03Hnvx8RMP3bF22+ABPZubs8Mr+7FXePvP7zrtgh+vW75+3KFDZnz8+T6Txh5x9OELFn1Wu3P7hacc/8Zfn9lWt61/zYDeQwY+8uhTus2kD5p85PdPuPzYI45efxj/8LpfRrtk1iyYmlq39uSTj3z5weef+MsDz8169bUZ74keT1REgQS+5cLYiIP3S67bsnnlioadO3UsEiksLu/Zo2u/foXdawKFxgK4To5ZhZLoXwEJiMAuikEGYUQQEe25TsST9lYQ9lDpgNEiiEbDTOAqAgWIEo16DAaFJdzK1AEBNEQBUCyeACAF2oRvQMmPT/66kJroP8tDO2lod2LCPPLFIhYAQioNf++8clcNhQCApEMnDssQAPK6bydIQJBAADsWnBEABRBBAKnj+jBAzGKo0Hz1cO1e504aJWACCQRXbGnsPuzMTMPOBbM+uuWK28677Fy/MX3IKadXqYGHnnnlr6+8eOuSeQcfMGFnc1v5oHEPP/nek8/+/e5f/376xy+YlJN18e3P3xzTv4wjGQ9TRxwxOVFZNnXmrI12zVm3nKZHjtx3x7J1F51x5Y2X3T5j3ap773nkwisOfevN1w7uOej+R/9UbHpffeMtJ1x+3P6Tiz6aZYwfOAB+JhuriHUf2A+7dh85dKDhXKCY43G3pMQWJFKBSWbaxIs50UiWmXCPoe/EV834XaOBACQQzn3IDxhYa6KFiURpcVC3MzA2TkqygUcRIeVbZsuoMExPphVasSIivNsoIloCHzGD0LVnb8OAqMSyDVg7oeHDAIwCCAASUudXj9a3BiJ+qTdCBh+SW56DAsCXeOiu/+c7Z0900PgeZaH6i6A6qJnyvYGgBCyKCmk05KAAgNARfvYlDtpZL5Hw57DIcsCEKzZuKBzmlFQNGDQo1a2aV02f89ZnHz/9wIMb1uZ+8JPL0puXnn3qMdCc7VZZtmzTjjlLFg+Z0O+plx/asGRe15pux558VDq57Z0nHmjeseNnt/7h06kL9MbCBctX9Bk/cNqKWfqNl77oXVjesLlt5/ra2s21B48/YNH7c0858IRJY4a2TQjuv+31/vsd/eBzb51x0WU4d4WypAmjBGURL9jR6jc0xksLdSKhTQbcSNKkMskgcFxfK9HhNzW+TqX5WoTXU6gbAXSoB0xEFqWktLioqqJtzeocgOt4NuWTJlLaB19EiFDEBtY6pIABkIHZ6ZRkABYh6+iM1iMGDABytNbIaEzguVEDAWP+vR0BLrRLNP7b6BjQr2ZFITDUhsMmhywxVDB2XbV3jUJK3auXO4gQBPO7CFEIAVSYCQgAABgwVHvCyzHko18f2RPWLV/DDjAAaiXIPfpWvPvRC+W9hg4f1q+iIL1hzaLs2vWtK+evW7P+8BP7dokOCbY1DxrSb/v2lrIulWsbFxx9ziHjC6umviPZ9ua6nSsSwD8479J1q9Y/9/pb6JTEcyWjRh6ytS21OdNGh084YN7n03/y0x/PnDm1fefWq885SzW09e/aY1PtjnVttf0PHLfVth1xwinPPvuy7/siFkwQJNubV69Lrd/YtnlT08oVULcdgmDjrJnrp89sX72u0HBBzBNkY3PqXyXPDqBAyM8AQAAEgLQCUlBcEC0rzboq5yiKxCyQMAIpJgWOchxHIRCwRtQirgWHQecfQ4AQKMp6Oue55TU1rJTWDhFB+HDIT4YOa4N4NxPkv4yQUP4ZOqrXiS/z0S+DESyBpXDhUgIKtc9wU21e8w4VABTAvNn+1didi3YWimDW5Gqbtp527olDxvbdVr9p49ZtH73/qWqH2e99PrhXNwpSyfrWU0847fW33l65buXi5bNHjO3Nqu6Ftx59Z9q7+x114LS50390048XLF35+F9fPOaY40vKy57727Pbd25/6qmHDj10Xz3jjb+PH9Zz9bbFv/nTzy4757sP33bDkg/fbq5fXDVp6NSFy/tWj68c3n3LjjVTjj7ilbc2aEElEmO76sNPN0//IKZAk+x7wHiNtOTDT5I5i0Ul+51xWsmkMQVlJVuaWwtKKzib7WzMN4F0sDsK1dAOEs/4Oc91QduaEcOaly7JrfFbjUVQLqnAGOOIRQg/KIOK2BoXyE/niktjjquAQ2ElOcQGE0w+9lBVWKQS8bbAMKhIJGKt7Xj/HhAEDl2g/zYQMeRVnSISJD/kRESALAIgGGo2AKG0DmVv2Af5NnyJKPN6pAiEL+gAijCBEJPniOXANwjkOS6BNsaEz+kU40oQQqEebgL/kojP74NRylpxtENMRARAjnKB4aKrvn/cpdccc8b569dv+eWPftq0M+1vbqmsrHz92Y+POmRKP6781Tm/Ka/pOvnYQz9fteCJx/5kojtPO/uMod/d74nnXj/0sMkU1W/PmnbfQw/++Lof/fbuPyqF0TLda9jkZZ+8Qb2Kisui0a3b1i9ZNLdbvGDn0jV/+M3dq1ZumHTQUQNGjUhRS6wc6msbRg8aq4XEMlrftre1bNgUb0m79S2R2sb6L+Y0TZtT1tBe3pgsrW9tX7JCtyY5nfG0Msbv7K9vAsHQ68EAe1gAjERKp40JkBLdu5UNGpCJx+qNhYJCo5RVaJAMiDEmCAJrDbBEUEeVNslcLpUGERACpVIoXYcMinbrZmLRHCqb1/6AQ08WCkJ4MAlIXl38j9DnN8E/4l4hOmYrAAAKMO4t3DsRMlcUjns629YCJtAgriIibE+1dbaz8+KQBtU/r8LeyGQyTtSlQvjhdReOHNrt5h9d8tCf7lm9dsWHs78orq5+5L7nvnfqFQtnr21OBqq06M8vPFrUrciLqxt/clOvmr5lZWXG2gcefaKqd7/3pk5/9s1Xrrj+2vO+d84zTz+4ZsXcoYO7v/3mJzq5Mz2i/8j+w/v8/NrrhhdWxUoSP7/9gWde/GRZ285pHy849NB9X3juud488P5fPqzcbkLoGISsn6ytL8pm49Yk0GaWrhatKrTrBZITv33dFieT075xPM+39l+1hEO9XvOu7gMgAEbSWeY2TWU9uncbO2bHmrWNze0FjosQKDBCAILWiLAlhRqJAFzttWVT5EMo3wFFEtGBoyYW9ett4rE0sI9aUDELwi5lObQndnv7/xAQEXeflXnle/fpweF/OyyeXdid1ACgUyl1mCmXjYstcFQq41vD4CJzmDw9VE53DU9InQT5VZJvCCfqNnPbsh3L3vzg8zFdB3/6xMPV5d225Tbf+eIvVy7Z4QbeFRddc8Yl562LN0684JjEhi6j9hm+nbbOmL+qpLQ0ld1aWKyrTLfRIyeddf73lmxYl4Lg57+7XVpzn0x7Y/m6JZfdfDKNHz9+5bKVCYgdPunQRYuXJopLew4e9vmcxR+9M2vskANqN9SddszJ+w6bIBkLxopYRNSaEgUxa4IIUYJUjMH1TQJUwnEUQSQaVY7jeK4Y6+TTivwLEBJERBLCXQBUFlAcL4kYeF7BgL6VI0diZWWdsVlNhgAVOY7jak1ECKRJB7mASJHW2osAKgAAworePauGDnK7dsk6OivIiEKhqWuBAFEQhQAVIgECopDarRb/FvZuZwfCnzov2Pu2vSF7/R8IgRD3fD5CXpPWDNDU0s3xoplcJOurTAYz2dJEAZs8EQpC6LT4JursV8LkjOskGhtTFV16KGMeuvuuZN3SC8495N1pj29pWfyjm67oUlnyyFP33/ir60/9/nEz1kx/7u1nR+87bsSoSWtWb12/ZnV5SWJQ734uetdcdV1RaZfTvnfhO9M/mz5/1tLlK1eu2da3zxgaM3mMb7MfvPyuk9P7Td63mVvOvOS79W0t2ze3LPhs5eDKkX1Ker/41FO9upU52giaAAXi0W79+2VQ0mJSQY4KosahLJvApVxxpGx4Pz8RlWjUz7Gr3DC48xuC810WylYOezn0j1gGHYulSe/Ipv3iku4TxpYPG9KsKakkzWyt1YBh+jsRYRBjJRCwjhbXAUAgxQp6jhiqu5Rno5F24AyB1VqUtgjcsRpJ0Mm64H9GuOfpbA/SlL3FfX6tAQBCUyZf3Mk4Q1nPmD8NO40YPMtV6EQbWjbPnKMbmyu152aypRGPAtNpD8mue/9lkGBMR7lNb1oWFOrBXSqHjhp30AEHDZk/9/mzTxgxeUJZz+GRq286a0AXb/Y7L9xzzy8mTh7mJuiDjz+cOXPOquXr1q9cP27YyMceuH/L2tXLZy7avGbbopXruwzs9+bsj44+67TaLfqXNzxDC1cvGDi8/9+fe+7MM077znlnTF84+9rrf5L1g6GjB65aubB5846WTdvffeMlkAxLAISGSKLRbsMHF/Ts5hOmc77WWhBacpmso9yeXUuH9st6OmuZkb6NpEQUEgz5KCLmN9MpRhLtGdepN6ZJQXH/fjVjRhf36mlcJwC2gYFAUEgEmdlaEaVzLDlNGQRgAUKjVWXvXllXJ5WkUIxWoh1BYNidLQntRiqAef7072PvZu6JvS7Y++avhxCGsmaP20MCBfCslKCzfc7C+W9/0Lx6Q5GVOKNkMqrDn9Q5D761ti2+iWjvuEOPj6vil//29vnnne158csuvXz5wsXGpg77zr5fLH7jzjuu5nTtC39/sldNz4E1fSDlr56z8JbLb7js5O8X5uI3XX1zfX3jy2+9Ud/auGrFPE8zgpn62RxMlheZwfTF7E8b2mvv/vOdv7rntlhpwZPPPn/KMecM6z/8gxkv/PHxm0YOKC/RZtnS2e3ZViZlRVnQ1o3EBvTqs994p6AgoiMUgEINngdlhV3HDfN6VQeOTmZ9N16QNmY319s3Q8faT6fmHkofQpUJAnY9iEXbhINopGLQkKETJ3rFRa7nkSCyQH6kiQFE6UCRr1VaGDRZJEMEMS/rUJYwUEochYqsMDOTUtKxHAoAAAKYD7D4H0BIXnsRWQd2r9XXokPm7AIBoLBjOdi0ff3MeW1rN62bOad25do4YNCSjGsXBcJlEM6biR3m4VfW4mshSAY59ck7z29aOrcyUZ5p1pUl43/+s+fKuhz48ax18ep49fCiE88+pLZp83HHnjLt/TmfvfzFlllr/3LjbVOfePGZGx+Y/tS0sljv6j5DBx00VkqCAmrqE7P79hlQbko3zmkY2/NIqiyuevTRx15465Uf3XHL259P3bC5vtgpWz53WUPjdnSz/fr32FG/tcm0jdx/rEErSJYgq8mWl3QZO9KUlpqi4lamjIpBeQVUda0aOQKKS6zjpnK+V1CQCfzQJP9Xke+y3UpIYTaXIcB4vMBnbLYM1ZXl48fkKisyxUXG9QCVQtKkSCt0lE/ia2W8SJYItGOFcyKpwBitWLtKaU2OQhKR0P+MQhA6CIHC5SfKZ378NvX/eoRP2/0vAMDeVs/XgkIyAgBADp0PjCCIeQ8EqDAKRLOJGVMQBDsXLgg2rO8N2LRw4dY5s0qMr9JtBYo0S6g7AZBgqBwYACbgb1CXjpojW7DakaEDu2/dsvbWX93ZpWYoRXoVlQ5fubLt6MO+u31D7c7NWy+/4rIxo0bP/XT2IeMOLfLKr7rsGj+bGzd6xICelScdOfnz156XtsZbbrmlvKIym/VzWfvyG5907zH45qt+XA4ejaga/bfHXr342h89+sprfUfu97vfP7pu4apexVV+m9T0HAyx6H7HH37Vb3/x0Yp54iAAM3FKcSNBfNCgflOO3BaLNxSUNxd2SVZ0H3rE0V6/QUmgjG/jBYl0kFYRCi2PLx8dvGGPg4BDsmAkQ2SJBIGRAYwx2YSrVS4rqXTEjaSRdmrMDugz+IJzd1Z2aRB0YolcOiM2SBQlkjbbZjO6tGBnKinRWJiozJIWL87omsCSAR0w57IawfM8a0WFqUlRsyKrlBAqEEdEfanm/6D+u448P971X9zNvgHY3dfNHSf/HAKQl+kkYQ5ig4EBsYK5tC2MlAJ7qVQ25noJRKzd7uzcsvbzj4paGssb63ok29LzZ2/+/MNyNNze7CFr1GDJBABCruu6Gtn6HfWRvATbbe4gIrPFMINDB79nhQEHQ4b2feCJvzz42t+pe48vlm3S8W7jR+//+N1PNs5qXvLqyvvufLRP9cCx3QZXu0W33vbLQRPG7WQ/VQqfb3inNvl5WbD0lBHVPzn34gKs6j3g4OJ+B9z72rTlTe1vvvLk5WcdpDet3b582cpWv/HUs0774OPPx+03fv7MGct3LDjlxDO3b2156s57Lvv+xTfc+oupszfWtTIgKADlur7rpGxQPGhQ2cgNdYtWocCwCeOcHj3A83wORClEBdwZUPgvIBToIZPY/WYCBsibCgRgSKUcsgRFvWt6H3Jg1kLTxs1RN+Iqzvk+KceJOrXJNq9rZc/h/UBlQAiUa4QECIC+ymjNqyICELpewjf+J4EMAv8SRX4ZlA+QY4sgyIhEzChKRWOpTNaJRYSjqebG6sI4iSx58x3V0BDPZkggEwTJHVtq582OV5R3HT9xUzaLEeW6cSRg66dzWReM67k2DJ8B2KuetJvrbRd1ArGgUmruzFmfrZw7/rAze/cetvDzGa899/fKQQMmTzy6aUndYfuffsQx33nyhbd6D+519x/vHbnfpOoefasqehldfMX11za21Z973nd/dvNPR51wxUez10//fJVM2/jO+7NvuvQKN7F89dq5ekdj/fHHHJFN7izg7Ph9+za0NA4dddxzL73wySefvfjSa98/4aw5c9b2HtavV03vjetqjQFXKQKFSqUCU9m3V9/9xre0tQphzb5jdPcuSbIpNkAOCjgBa1CIX71I888Q9s4/1l9RgJyCogH7Ttjc3Litqa7Ez7kifjantQfKaw3SVUMHdBk3DHA25hnAv0Uc/+tAAMVgEXKaLDEKKAZHUJhZQ9JPOey6nsR9pqbGliXLN06fVZ5sc8QAoYug037d0uVuUVmivLKgplcWOEPGhMu8FjR6oDVbs7c+uxvy7H/3EkUmAMd4H7zyblmXfd55aery2XNLK7paLpg6c3q82f1o2suz18358Z3XVE7o1Vua121Y+8ZLH591xg1bV9bXLl//kxsunL9pQcWEKZuS2URRef3a9tSOHX+4+JbFc2ZUl+mSQX3o/B+etWrDkpXzF8z/bNqofn2mfvLutNlTmY3fkD73uDNqSqqG9un/xssv7D9xnFhQ6BCrXCYLpFOGAxfLhvavnjSm5oDxWFPZnnCbOMgigNJoQAcckXBnwX8AnfJxdzCpNmOoS5fC0UOjwwfmigraGIxo1NGmwBbU1HQbOwq6dw2rwBzma/7/A3s3FRERFWDoZLAEjBSGKWlmDewHaRXBdLbZ5Vy162ybM3fxG2+X5/y4DTyx4qc8MZURJ55K1S9cuPKDD2KptpjJaPZ9Px1YqyNR7UUDiwhf7frdy3jCDiYqFhRQSUHZ8CFj3n7948mTDj/m+FNmz10wcdwBBfHy715w3vraLQ8/9vT22obzL/v+sacfv3nLxmuuvGr9ui1vvf1Zn4GTVmxORyuGvfnpktc+/Pigww9WTF2i8QMG9oXmnU8889iLH79Lz7/98OpNiyLK+eS1j39w3PnXffeKYinqXtijfeX2SF1rjYd/f/junqXe04/cH0VHWYcsBtnAcSPsutuyyUxZQeU+o0snjGiI6yZX2hwwroNaoWXlWzdcW/62oFArBd5L2ubDHYAsYgZ1E6no8MHdDj8Q+/RscVx2YgF57drts98+5WOGGUd8RUiamXWYRuv/byAAAipGUAIuo8OshJGM65gijxJBOrlyxZYvPs+sWlVJGLMcIXBBtJ8tZNsFxKutq587t27uHGqsK3EkqgElQERCbQ3n9ZvdEEr2TkoNz8O/CkhbRaw/nzZ9/ZYdY8ZMXrJsU/XAAeMPmty8rX7jiqXx4vSJp0ya/tbLiz/69JVnnnjw3rsPnnzAnb+9Y/Gameddc87Y4w55d97CF175FEz8nPMviBTqddsW//jmC7/47LEbrv+OuJlAMdlC3pasPe+ySyu6dDv/zPN+c+uvksm2gw7e/5LvnZ9tbX75hafiETzvrLOHDxoW+DkRFhGtXSLtxKJpglYlWF3BXUpbXZX2XOtFwHVRaUQkRrKhqfgfQGcH7Q4gxcppE/DLSotGDkuMHJqrrGx2Io2gCwYNrNpnPPTo3ipsCEARAISxS/9fYO+mIiLmvZ6CgAKOKM2kGZSgA7YgoiN+ploBbd286I3XkytW9IxFpLUJrdEAMa21MdzWFs1ly4QL2lpXffBBctmS4vb2SsIoG85mrR8oJkSE8C2Eu1cirJUgQD5lVp5wtdbIVFZSffghUzAIZkz/vFuPbjt37rzw/B8M7NP/t3fdfuRhkw47dMLNP75i3aIFyxctPP6kk39w5Q9v/tWNj/71z2vWrdy4fpMnkaceeHL25zMkl73rFz+6+vJzx4/vf/8Dvz7rvNNGTxitg9KCUUce/KcXn5+6ammTbUqa1omHj+rer2zh0hkXnn3W6pVzS8vK1qyrf/31T3XhWEIjAUTjiWQy5SiJFhWl/SwpYKQsiFZKGGzADOwoFWYe/Nexp2m0J/KzWQAAGIGEmBwhasimi6KJ8gnjWxvamucsA62GHnqgVFcZInY8Q6SZNRHBVzsb/3+BAARKBNBhIYGIRcUAyEpsPLCYSnFt3c5Pv2ieM6+iLV0UiaSDrBOLZH3jEUXRDbI+OTbhCfvZhpUrWoqLIpFIbOiwisLiFPoUAKgw19cebwzRQaZ7/iqcsRkggiA2YdjEpIG6uvVP/On3n7731n33/61Hly5zPvng5edemnToGLa51998aZ/h+1rt9R0zYkPttuaWuqa1qx/+5S/v/M09Zx9/4g9/ee3COZ93L6845bADy6rKewzqN/aQwxYsW6G3tdS9+dEbh/Sa+PqHL23fvPrND19ZsX39/M3L2/yW92d8LOC/+tFnZ5580QHjJ89YmhRHhDAWS7Q07UzEbEV1eabZz/hGRVwRZhbjG8kFRjkOuegAEHaafv8NMBIq5bmR2uZWVtJ/5PDixubt9c1eJFKxz7gGFzkXeNE4C1i2qL9uc9z/Twh1QYdR2XDXmxCwFnZbM0V+sHH2wu2fTS/JZIvYpJrqEokYRGLNjS2IWOhFUTMSCRtuSVfGEqmly+sd3Uu7lSNGpmPxpFgfkAW/HCzCHYRJeY9p6OMHRlCOzgVSmCizAaSybRd9/9yuXbpf+4MbuvUeOXPl7NJY1yMmHzX+kOF3/+nOwybu32vA0HNOO2ffw6eUllWWJNxM89ZFsz4+84zjX3j/nWsvv/SQfUfteP+NicOG/PyW2y697rrbb7mjR+9etGbZovPPOmXL2lnPPXePU+YP3m94u3JWbKnb3t5cl0vedPf9Yw44/Ne33eU3tMckogINQq1tbeUl5Qkvmmxu16QjTkQxeaJ1TmKiCpwYAPhsAuIcmK9bmdhNenwj7H6vIAlSyF81autzeaLMjRRszWbcQX2GnXVyxRH7t5cVBwVFhjwTAAESkYi1NtjrgaGj/lsQ7m5V+0bY+/4v4evqEFaPmZnZCFuQXC6rLcYcTwQDsYgYMVAewMZ3P9v8zifF9W1lgtr4SGyR21K+iiRER1IBsPICwsDYuKsKja1Iptqmz1n36tv+0hUF7UnHT0dcoA5/baeg71xK7ayhhEsbHYVE5Gr1wisvP/jss60+3vnz311wwnm57U1lumDSqMnNdWbJ/K3FXvVJBx776gNPDCrpetXp5wXbGw8ZO+rKK7+7bMO0lTtX9Bze+7KrfjBhwvBbb7v2qiu/P7jf0IfufmTf/iO76wL6xY0/O++M7zzxwG9b69e8+94bBx56yIYN26LxkoJYkVaRo445+Y9/frRrZWVJIqEQRCRcsFAMqmMza+jscC25FlwLmhkFwhQDRvG3W0n65giCwPgB+4ygIR6X6ioc3Ds2clCL52SVYyn8WmLemfBlQvlyyf9NhPUkYFcRAQZBEARGtI4kCqJezPF5/eez2pashm11TlOrm/MjWjmOwwyCZFFZ0AYdnzSDFiTFoHLZQiPdQZt1G1Z+8FH7hvVRDU3N9fmlqb3fn0cnuwkHVRCYGUi8uLN6/epLLrvig/c/ueu2X910zbU/ueaKE44+bNmi+Tbgvz7zt9KSyk8//2K//fYd0Lvr1T+8UIPt3b/fpwtmzFi5oM/Ivhu2LHv+qT8WeNnirsVjDjz0vc+nFVV0+9uLr65Zt4nee+3DR+9/QDKN29cvL/UScz+dO7BHr7OOP/nGy3+0as6KAd0H3nTDTWvWr4mXRQOVZTewZAAAATSDZlBMSkgzORY8A54FxwIAC+ZzdX8dB/16hKwxzyD/ATqVdIVEjBxwzkLO0cmSeLaiKKNdi1pAgyB1qK2yW9d3kub/ERrt5ElfLu88QYGIIk8RoGTZ5AgDoJaWlm1rNyz46IuGVeucdC6mtFKqk+2hAAgFCnOaDDoBOuFWlkgkkmptwXSK2pLr585f8MW0xrpa7bn/dLz2vIDBEaPNjuYdbtzdtmHT5AkTXn3pmTPPOubmX1weTeSefeHBtRsXFZdG125ZM+qIA6aumdN3RPXFV5zVzqmaUcMz5dXR/gNnLJwzYVSfi08/5Lgjx65pqosP7jt388bDzznzwTdf3v/0E3UkG/Su7uH49NDvHrziht+++/rsux+9/73338TyLjdeeumF1/z4+vc+bl+9dvw++70z51Wb/3gqK2HFnP+WAwBAR/QhgkVh4KBjyRj/lXC7fxUCQA6JsPjARiyaLEjKZUEsRA3IjAZIoYTLQpzXDiCvjCLuOtn70f9pIGL+NZ28fDemjoj5PRiIAPkSAAh3eOxeT+PnNAg6jgFiJJ8lk0y31da2tbW5vl8SiRS6hJJNpzJobTQaUSIAzIgCiIhKBBkAGZQC1xoiVghE6WwmlfNLSopbs1Y6Jj90RFALAnSSOwAiIuzyjAYm23NI5aklw6p69fzL73//8dMvXHXxRTtba2fPe/+5R+6dPW+2KosMGNtHx3VxRdGOjevmzF5w7V1/XrZx69aNq2687dcP3ffAnFnTbvje8T/+xS/6jN33hl//auHMTdPmLKiv39La2qwHFCcWfTR1eFBYb7IjKsZef/yURa+9uWb6O4XD+0dzjS88+sfrL72o2ElEIz09iqdzCB4hAIZhrgCMbCiMTghrG3KosB3hKf9TXvjPkJcnABA+ikO1QQgQ0iaHwh6JQkUKUAEqZCBlCIUAnTCyTEQYQTpcJLsP+dcpf/8lIGKe+Pb8bzjqgAgd8ycs3DWFRADYz+YItXY9ABJUytEFpaW6RzcZN8JfvKh908aoNQmFKGSYhFGzRWSTV9kJhATAIiZzfkFVl7rANoDUjBvT45BDpbp7OhDec7AEOzr+S4WICEIQoHbp7U9eqJl8TlvB1jsevvHjL14rKqYzLjmnqbFlZPdjjtjvYD/q/+Yvd8z65JNhvfqNqOqnIqVvvvJGRb8+McAnHn5y6D5T1u9IZ4oGD9jv+Aee/cuUFE/of9TQmpF33PrToniEPnjlhbFDBj/y0F+nz1roc+6zT9698LzzDpm4X3FRxagJ+3iliWtu/tGGjZs/ev+jXDbwvCgJoIgSIQFGtgQBga+AO3a45qNrd0VL/BfBxFkyvmJRpDQqQMeIm7VOxhJrRAUQrlx30HQ40l862Z1i/ksI3/J1L9qrfPcrdz9BRMfRosSKMcYEmSwHHCko7NK71/DDJ5cNH5CNOs2pZJANojrqOtGcsRoDB3wHjAarQBAVosPoWCfS4JsdEiQG9R825fDqUSOMG8kEX7tHcPca7l69iPLEBj+4/PztTRsefOzPn37x0YGH7rN957qVKxYXJGKPPvXYvJWLX333re//8NKXX3ptnzH7/eiyG//+xF9f+uvDtnXLgKL4/Dfe375g1Yheo66+4pf3/vGvv/7V74854tDWhu2vvvzMXbf9VEwbOWwOPmj//Y+YPH/T/GRp3dHfP+jYY498++M5b8zYdNB51763YdONf763qndNVVUX0ZzjLCB3qHRsEQxBTkGgwFdgESx10iUjfJPArS/jn2ufeSAzsnXAeGi1sAgbS5kg2m6jyUDvtkTAe+6z+fLY/0/iyy8NS76ufPcTACDPAQIE8IB0IEE6m7EmE3ecftVd9xnRe9yIeFmZBOKI0k6UQRACDRmXfYctCaMAA1pUKhprEVs4oN+QY46IDhu4A6HVB1IR+NJKUie+sp4myCglvgQnnfidP//qYduKzzz3+D4HjOvfY9hzT79x7R0/63Pw2O/+5OrCfv3Pu/TaF1/9cOrspSNHDv/b43dU4o6PHvjjwGTu/P6D01/MPmX8kX2L+n3y7NvnTjl71kevnHzsmJKyZEPLQn3OGd+JRiPzVy6qD5pOOub4DenNPYb3HT1y/7qcu7C1qS6drOjVo+6ztTposk53yiekZSYI8jS4i5oYIS+CAUiAgQHy0Un/PYg1gGgBhZBIa1IuEJLTKmCJERDCBIgCsFtl8L8s2f9pq1EgrFzoFSEBECBhELCU70MAUIhhMhwAESRGYGt9Y2MOxqMRB61ha5ANYRNQ1+EjugS0KW1a5iwVP1BaISmLoABQhIRJmAEMQVbrRhGnb++hxx9TNmmfrSJNvokVVeYsAwjkP51KHbXYm2QRd01+IkKhlYvXbsz6XYuHr52/7Jjvn7ps3ryslWFjx747892f//q2G35x6+zZsyMoVZHSPz3yNAp/8tE7Rx82ecQNPyqSLh988LFfuyHWq+z4ww7Z0bD+oH0nV1XW/PDqK//04N1Hnnoc3f7zP8ybM2PMpLE33vXL5Tt3Vg0fPHX1nC1t6+bMe3fKIWPWzp817/Pppxx/7j4TpmidMFYAyCJkNGQdEA0OQowhxqABhdAqtEohagStxFWiEb86+GD3Bu+JLysGBEDh3o/w3ryqCegIJgSjTAqQkQxSTqk0STsYJoNgAAyQCLIgKECFqtNoCx9FHdhVs38PofmMmI/qCKEAUQRZOpIk5psvCKy18iKcC3TOxkBJLgAW5Xg2TNPFVoMQCqKEobKW0dMes0llW42khXLMgZBit2BLVmjIiD4nnYLDhu5wlI+KGSiayKKTQyAih8UBS1qlXeX37tr1iIOjo0fVkpMWJxIpZlC+H/qJKX+AIlBhQwDyLs9wYouE4XfIojRHhteMjaejM995K8IpG+RWbFz38EtPdxlaXdRNDxxRMXZkt4suOGX4mKG3/ObXT7/69n5HnZRMxz6cvuzJDz/+8UN/KBrV88Y//uiI4wZUd6Onn3tdvH5p7Dn20HPfnLnutgdeoM8/enn08CFDBvZ88pmHDz/u+L++/Prf33pl/P5jj5my/7Z1i0pj8PoLT9c1bHr/ozcNG+zYsWU60hqG5pFmwPxGcrQIYVTtvyCsvy1C14FmRiFGsESGwCcyKtw3IoACKB2qxn+3Mp3gDuP3HyC8gIEMgzHGVdpTGliUUkjaNwEiEgAJiAgDM4KIhH5zACJhAAY04WS2SAE6qriiJRpPdaksnzAmOqBvqwbjePXNbbF4oXLcVM4n1zFKNXLglxQMPurQguFDMiXF7dr10RUkRHRdN6xYOI07lgF3P/8KWNbvvjvVi5YuW738+puuiZVH19SvOeTsw3sd0DvWK3bkKYc//fhjH77z4fbm9PW/vGvMIYdkQPWsGVC3vfWjqbMvvOqqNz97/7qfXTfpyH1mz5t6489+sXb9tmhJ+cczZxb2qL7+jlv1M489WVFdedCRk0cO7H79NdeOmrjvn+5/tHb1Gkhnnnnh2Q8Xz5swtu/nL37yxgdvKt1d2diX2Nv/aeS7O1SeOjwP/3cQzmCbNa7SxDZjc9ZF40A2mytwPCUkKAbD712KDj/L2HFvZ1sYQYByLF7U862JlhTVjB8N6ba17Y3SlPPSFCGdM4FBzEWjDblse0G8+/gxvSZMaCkraidKi7BGBAFrgPcy4v8JBAAUBYr2mXL8hlzFQWedfNmvfty4YwXGpXJi8ftr3nOjkdKB/Uq5/9aNqdW1wUGHHN4nWrhm47oXn/rLX+77XfOmdMv25jjF21qCq6//ZWHXnoDBZZd/96RzTpl+5qsHHD70F3fcpKv6DqjoWrZ643qtvT/86sG7fvenfYcMPuOHZ9StX3fVxddTSXTqO+998eEH3znj2Jff24bgfv0qw7+GkGj+fUgoM0Pfx1cBd7NL/4He+XX1+Qe3/EfgogLL5DiGfV8CR3sOAmjliIBIQGxADAoKeUwoYVs5L3QBGBEIGdFam2IAjZG4G+1aUT5ySF3jzoa587oQZlJ+4DPGCpoI66Ju+YhhA486NFuYaCFst8Y6EeVFrBUKAhTZgwHlBUFY8tX9gChZ49/7+D2q7+QhI3p/56LTo7mmkWNGPv/BJ/sedtQrb72x8MMFF44748yjTl6RDdrS6cmjRl16+jG33nTV848+PaBrz0f+cP+PfnwTsXv66d81KA3b2x5/9vFlq6eOG9Xvrl/89ICJo6lg6NDNgdRT/J2Plv7oort/ev7vd66QF5+Y+skH66e+v/aKM66d9/7c6oqa3n37BkGgvmWA0n8RoaEmCB07ab8a/1Tm/q8ABRxSyGIV+miUQg9JZXIlynGMRbEMzISCCkF1KE5fAQFgrdpyuYzrtLtuPRu3b++u++9D3btaN9aezIjjBdHYFutjn17dDzkA+vZpciPt5OS0S9E4RBwmRLKu05lN7yvlZGge7PoJAcSIo815Fx53zveP7jagnLX54I23N07bkJ7hTVTHLP/7tksOu2RoURe3dtNR/arqP/+gfdacw/sNj/lu45Z6L53+7Y03rluwfuKg/e694XcDnJpX73v2hHGH1hQUvfvscwVtym7I0jnX/mxFfTJe07+yz6Djjjj2Z1ffdPQhJ+3YnBzQZ+xv7/zze29++stbfj1n4YqlazYpN8r2W211/yqE1sO/j/BpYZ9xKO8w38GhgdxZ33/MC/d+bgf2vu4/DcVABIFiS5zQSre1p1av07XNju+jDRgZCDSSRo1IAphfikC1Z41JkWMQjHYzRPXW5kqKSocNrhg5Iqm170ZtQUGb66VKS6onTSwbN3azMdlYgr0EKzdnOe0H6SBrrSGR3Thl2IvhFlfJbwf7EjSphOOsnjXtg+efffjuezyjTzr8xPbN7Zk1mbMnn90v2rvEFs6fvej5Z5+56IwT+lZEX3j8ofWrVz7w8BNdanqur928fPPqxetW7ahvhkA/eN/jQwdMWLVie4FX8tj9T839bMX4oYfRqef/eNnW1O8fe/qym6567Jnf/fp3186e9RmwNUHmpVdeOOt75/3l2ac/mDMvVtkjwIhlJf/qPvf/JkL1Ky+H/iEt5cn0azjQ/yKstaIhUGytnzA2t3rDpnc/rZ0+N5rOkPEBDJK4CArQEviKbD6dIvCemxVExHOjBiADKPF4u1LZREHN+LGxfr2hurJB63RhQdXYsV3GjcuVljUIZtFlcIW1MeJbwyAilm0A0JFQ98vYRaOdhAscWGzNDdKlyRmro1uz01/85Mk/Pzd62ITt65afcezkC087ZuTwIcP2PxSrehx80uHrGta0eKkWz5526SXQterR6W9/uHNJl30G6B5lP/zpTdVDRr82d8m2wH340deffur9ex9447qbHyTXdxbPnX/zL3705PN//vFNF/z6ruv232dot/LiqW9/sGP11uefffGyy2644sqfL12+1Rj1fzMiXRD2nDYMe1rseR3q/9LU6gBbMYiAYLSfS7SnzeqNtZ/OrJ02qzCTjRrfZesgO4gKhQkZwSIKkMVwQzYAMAooEfaDiOtxwMaKlyhsN9CQC0r79usydpTp3nWT2Gx5afX48W637o0ATklpzhcwqES56EQcNx6NuJ6W/BJgvm4dx+6kuTdQK9f1SrzSHiU9f/eLe46efAwGjg2yP735e4lEy4P33PLS35988LlHa7PtY0fte+gBhy/atOK6O2+q7t371Xfeu/2+P1x4zaWbazcUlsd+fsdt6cDuf/DhpOJPPfL8viMP7NVj0KCBo3XLgpl3XnFhe+3ihrpFgw7c58W2tfOmv1Ph0uFTTl2wZOn89xfddOWdb744taLnEEWtbAJA/krZh5hfR8aOoIh/bDP/Y4H7DSEAgTWu6xrfFhQU+NmMn80Vlxa3trYihS6mjisRBHflsdnjKeEF/2J9vvIhAPDVvAdARJQiJBS7xxpBjrOuF3VtroClYe7iHZ9O7ZHM8fI1C155fch3pqiS6Pb21sLi6rSxre2pkoouGT8jEibwBgUAAAQMAhGtwDcuKtIes9Xa03Hd5mfKx4/Z0t7a3NrcZ9zoypHDmrRiN9rW1FbsJQCILRhhYWuBjRiFAKF//kuNExFAYDYAEG6OFRFA8Ymzwlt8ziYq6tr4j/c/9vs7bn/wz3dVljvNO+urK4pdaGvjTed/5/RXH3izR3XXB5587PG/P73sixU/u/En9z9y96233Tx5xODZn70/oE+vWdOmtrdyfd3O9wpxW/2W5UtWDepaQgcMrYSmjaUoR+134Efvfd6v79CjD5pSBN4hoyeecPgRV117+eLlC/cdO27EoCHIovX/OSYUiUSUUtYGuUw6MDlmtn4gxqIwCYQMphMcGv3/GxCRkC73mCEosbiXaWsqDqQs7TcvWmLWbaxmKU2mmhcubF60JNrSkjCcbKxTKMUFBe2tbSDUYRdy/hsm4b5CDr3CYYQuAWgBlVVOrqoiPnpYj8n7Fw8Z6BcWZAAtoKc9FNIMjg1jJiHMYCD5SPm9EJZ91S8AAAyKBg4dVtfUvHTVisuvvfak75zevW/Psy8+afR+/Wtr1zbs2LT/PqPefPVFlyLZdBAE2fLSxLgJ4/90/4NdS7u2N7T6QfvcRTOPOuno1mTziIE9D5806pzTji2Ly/CaxIEjq/RlP5wyePSBl157cZYLxow+za/k156cWi6x555+qvfEPg89/sKYow9qblzRf2A/YWPAczvqhYght8D/8rLhNwQze6RFI1pxSYMAAigAAv4/N6t2gcHkurhOor6pcda85JKlkebGhBOJaWpZv6F26vTCyqKqgX1r2YrYIjeWS2dJwCJ2UhICcJgGECSckyiAgCAEQD7pVCJRMHRon9KK4upufiSS89vJiKtIMaMAYPihbbAEAsD5If0nQAzzLQMKoAlcZePs51p29uxXvnXH1iOmHB+Nd9m0s0nHC6LFhVdefmXOdWcvXNm0NTVx4uhNyxZNffPt0ROOHT1p3/0nj6yuqf5s7syyYT13+C2t0t5vUOmQvjWXXP6diy/57juvPl2/pog21G29+w+3LZq1/MxTzl27ccfTL74yftL4kROHL9q6uM9+fYdNGTpj49SCbmrhiumOo8Rgfl1hTwGXF5z/G/B9X0Q8x3WQHFIawc9mlYhmUB0DFnal5JeY/zXs/b4O7H3dP0Oovnfy0RCaAduT3RKFqWWrFr/yhmpoqIpozrQWaFtugtYly7Z8Pt3d0dDV9bwgZ1OpAi+iOq1CAEaR0MTOK4t7EJdFCkjVB+wXFEV71HBBUUYASIGIQgASIEEKHamiAff2DHQkat29DDqGPiwHAKWUInjthReCdGr0iJHFxYX9BvQZMW7MkLH79xq5zwU//vnzH3500eVXvPbmG31GD/h07lRNWnwcPXHiopUrfnDp5Z/NmLWptq4tm73zzjufePKhtz95bfXWJVfeeNlv77t90KhuDe1r9JFnXv3OG28uvP3B715wZlBaesi+B/lltfOWLv/hn697bu7b+1xwUFVjv/ULtiEnGKxHUZSOKiLm1c7/VRCKJgWaTCanFIGxJpsrKEiYQAABcQ9N9Ovl1H8dSilmE24t6izU1pYzwpoNdTPmZFavizg6riWJGbC6EDnX3LhzxtxIYXHPIxOJ4rIWPx0t8IwFAQK0HXKBmUCEkDlUHglAIO+1EKRMgFYw0G5gDAp5nqdBsmysUqHfgwQImPOZbf6JsNmdRgFAkAM2hu13Tvvuuse+uOuWe4wKDjlg1Ix5XzQEQz+dvai4+7Czr7thpyd9unYv79OrYebMm355z5tvv/XQcy9TPOaVFDW1t0edxMblG/Ybsv+JRx19xfXn/+6Bux984I9HnnXqKecfu3b9Evrpr+779f2P3vvgo/c89MD1t/y0y8Cuv3nw9vXtax9//6+RrsWbVm/oFq9u3Na8bPEqY4IvR1WG5/+LAAAQS4DWDxykmOtpgQIvqoSVgJJ8cCAKhOH//+qE2vt9Hdj7um+GvXQhl6U4Yxa99lbDkpU94wlMt+fSLbG4k842a5OucBzd0LR52swd8xbHk9kiR5MxSlgzhBwwDDhkZEEQZEssKKETKgyWCIh0JM7gWuVkGQAg4noKBNAEjjXaWm2tFuwIw4GOfM15fIl9dqLzv1pra6U1lY4XlSxYuLiia7eUQEX3fq+9PGvnNqruPe6L+csTxYXlFUVXXnmloxNjxh38x/uf3r61+fhjjr/+xus/mT7148/mvvbGJ1sbG+76071ul8r7n3323WkzMVZx0nmXm0Q33dLWXFhe+uyrr5b16L7N8IqF8yeMHVvVtaJoQK9ovPCFXzy3fWNdSVWvcQccX6t35kxAe9DoN1BY/psgAbEMlkmUAvS0Y3LZHVu2JptaKrt2ZQACUML4dVG4/4MIE+8gIsKuwXYZ6hatSM5dGqmtj3vEaFhypF3xjdKKrV+qY021TRs+m6HiZcXjxibJaFCCAJwPDw85pUXO650I4aB0Lk846Fph0lrYDxUMtgE55BMbAgTQFohD9yH9Y3voyyOOQmBFKb25fue81Yuvv+WGO/74x/OHXrJx2dYY9zvh0ON/eMmPbv7F5QcOGh4lc+bRJ1SU9xl90vm3//Kus84+d9nCud+56CD0ApCet9z76MCjDvzti0+mWpMXnnu2W9x72aIFF1/yuy5l4/SrTz+e9YPf/f7evzz9165Dhg3pN+ji044Pkg3f/eHF40ZO2H/YhGdmPXfQcfthNBLksuQVgN3VeCHsNIvDwlBqdF7wrbGX1z3Uuna3x0MIggIFQIrAARvN5Vq3bN3yxVQT5L5z3rlZh30dMLLCMK0cIOKeiWrDIQn/dj6dAAAFqONDq98CHXftmheBtfnN0kBIFlBIwBFYNWPWoHQGs5lUW7o8ElGoc9m057pETlNTa1F5FC2sWbQ4Vlpe2rM6VlKqIokcaB8YyBoEiyBIKIS4WxosZAAIxV1gDYMQuYxorAkssDXk6o6gz13ouDtvKe2uF4VGUV6bJ6Ew/yQwAChwtajN6zacfsqpZWWlp5x6xtr1jbOmr4w1OlWJJb+55ZZZs99qXtLiZ5Knn3f9zTf99u8vvHPY/kdsXLJj+fyVK4eUjB497Iqb/tJ39LiZ62cfd+xRbz35+gfvfdGvZ7d33vxi58bsPb/6Kz17x213/vDyl5742wEjJr79yOO9CxLTZ3yxePmy6tKKvj26v/bJ85fcekFrfLtTaUEbFUZh7aaIkM5r1p2t6UToDQnzKH35EFRfeSAq6Qj4DDdlQxhkCUzhZr2OgwQUUzxWZHxh5gKloq2t7srVkVlzixYu2vb+m7G2ndEIgyfMhgBF0HE8gPCbvqFmGlIgIwghIIW5uYQANaAjygkDiMKG7HmEdfvygfnYTWRSggrBQVCCqByNGrPGD2zOmBwAA4qyVtpbob2t2FNFnkMGMIcK4mAjgQ9lJWWehUg63UO4df60VW88F69dW2na4n6L47ehzVqwWSCflNURQEeBowE9CdOaWoUWSURb1CDW1wodTzMhuK5lcERFrPKs0qKAkCkv0PcexY5JhogATApCOQAAREQCiCQ+jO4zaN4HUy847ZxsQ7JpQ9PgmoFPPf2IuO3PPP/7M8+b8vnM2WdedMVjb77ywMtPb9y6vntVt0wdV3DNhKJxf7/rie6lJRu2LBk0qmesEM4+5cSosUceeMj1V1733ePOPXDEEfqen92RMnTjnX8MnKh/UmtZYcmiVQuXrlqyePnWTHZm3wHDDzn6uGNPP+m8i4YqpUxg3A7JsjuTEwDcnX2GHxTsKP926GTJBAB5t8YeCCd6OpWKOFoyqVLPzS1evnnq1D4MDbU7U0sWN5e6JWVjLQdIAAwiEgQB6D2eAAAkAvnKMwMBCsG39pcyAAiGUpYAiMNoeQBUBPlM44SIBCwiBOxYdtm4bJUIMDJoABZG13WZ2fdzqFWBdmwm3bZ48RI/N+S4U4pqeiUKE9uDdMpyrLCARSfbUoUqigIqVE8BRJgROpMShMyPASC/A2KPDKm7S4ndTjvFPQEAAksoyiR8LJOAQTDWOI6zYOa8Quz6wTPvz1u3ad2yz3OUPfncI0446cjvXXz6ti3r33/rw/vue2TK5COvv/Sqv/zxnh9dfOOZx3x/86Y1Tz/6uIlkWqF+/DGTJhy1z7WXXje2dJRpzbz0+vNrV2xQqcLK0m76yktufe7Fvy/4aNrmHfW9eo0YOnji+P1PnLN6SVI/ftOPfnL9+T+cN7V+wefr/vLo39iSclV+A8L/EIgEOpJwU76rAKBjMgCwSKBYirUDyeSWJYt2rl3XTzkFgm2rNuYUxLpXxbuBsfmOZ2YApN10lI5FvHC48r9YAFa75ti/DwKwlglDrkOIKIwIofVmiZnYorAhAQBLLGK1gCL0lVgSUESBzW2qbWjNUWWfMoNlA/rGHCfDwIEEwK6gEsA92UEnB/myavSfA1vyDWeS6czA7kPnv7xk0fp1kw4ZfvQ5R8xf8mkqlSwpLfv9L+6qTCYSLXbOY2/99vs/evDxv1z2w+/W7tw05dzRm7cu6jKy4qKTjz73psu7H3j32VednVwTYKu99KLTr7/8ukHde0UgTvNXbVy3qVZ8HtdvxLx3Zr/04Ot/vuep5au3Tzz4qDv+8JduPYbe+rPfnHb8mc31TUo5fvA/RJ6hBM7LYSAEYAhXnzvXUUAQADnmasq0xwga5s7ftmRpMXCmoaEqFou3pduXrtkyfQ40tZMxClAh5QU4AADlqV0o3FLRSbUC2PFlSzC0h6D4BuicQRCSPoV0I2D8gK0F28HSEBGRAJVAqDsKgqWOXCzIfi5DRK7niSJmdhnKJVIOkcVTZ8+bMXvb2k2aIUZOrqXdtKcLIzHF4Ze4GIAZgXct1v8XIciupy2YjKReefOVioLqPt0HjBo1/IvZ730449WN9Us+mPbumd/77gtvPTtsRN8Sx33rub8dfPABSdPYrbd78hn7V/WOPfjEHxrq1//wwnM+evvd6sqq2qZtO5o3PvfyE117ltS2bm5I79Sfrll53vXXPPnH+5x2peqLEqp6p926fMX0aL+ygw7dr7eUTn3DP/2sw3e2+DKnXlN0jzH4L2CXJwtCKRmC8gO+Z8CHI+yKX6TArli5+rPPzPYdZdZgKuk5VJY1bILamfOrqzLxbsBaALgj2IXy/Lhzb4YQAKMwdFB/QEyhuLTfXksJEQpTDagYrOT39CAiCJBAqHojCithEAAWCbNjCLPxkQNBBeCKdiyJ0a31zaolaTI5CsRR4AiyoJZ83odO7MU0/0tjhkK5jA9ojjhpv/IBhblirqzofe+DDxx22pjzzzhlW+OmNCRaGhtNTbpkVOGq55ZOmfKdFfVr125e/uiff/+zqy885NBxz9x3972PPg/llVU1fWe8+nmZcsbtP6pp59Zca9sB+xz3x7sfonGHTtqZbTz4pIPO+P5pvQf2mLDvqMuvvLChebMTTVd1j6xdPadXz7IX//507Y5NJIwsHQL3vwuS0IEMBECS53Yhm8tbwgAEoFk8P+exXfvF1Oz6DWXClEyWFUQ4mXQymS7kwPb6rQuWgAAgo1gQG3LlDvWKBIjz1nXISvPKmQBYCm3k3ar1jcFADOGcYgBAgYijHa0pVDB4l0NUAypAUMQqXNoBB1GDxCIui81ms9ZaTY4IpnJ+ayrbq/+AAcOGVXXrLiI2MEWxREE0lk2lO1+dly0dQPnvRqA52hNSny+c02fiiFemvbe6cX1hsfr78w/fd9+dgd/+yUcf5DK5dZs3fvjFx11rqh569M8jxw6LxN2Vy5Y2tSVjsZK/P/mqbo4d0u+wHVM375yxbufc1d1UUYEfPWDkAdtXbjnuwCnkS8uFl50+e+3Hf5/22OfbPliWnLOhbdH9j95y2GFDnnzkV/U7lxVHoX/3HkN6D4ggEu9Ksf/fRH5QO0Q8AITsJq/ZEwAKa+aIMYn2ZGru/JZly4sz2SJr42wTrlIQaGDPBoW+H+zYAcIMAMyKpTNZM4cZdjGkUQAgklDlJZS8yvoPwsz+KfKmUgcQgGRXeu08UxNRoAjRKhRFROQAeSIRAQeAADWpiHYBKCOQK4h7NdVjDz2k34gR8Yoy1toAAqEghpIdOj4xlX9jxyTfXV/q7M//FHwTsBudt6H+rqf+XjKs78bWdaNHlN360/PPOO/o2vrafiUDC9sqhpVNmtjv0Ldffu+M4084+qADd6ze8NZ707r2nXTm935x2pk/hUx3qis8f9/Trjz4PLWG77ni3uYlySfufOaLF7+gRkUL121+4b0Pfnjd1UedcvSwA4eua1rTr3+3+s1rxg7sec2l50RicvUNV23dUvf8s68EQYBhwv3/HvYkiDw9AgCEXCEkXFbMLrNnbTywqqVt6TvvOU1NceNTMlUSjeTSbW5U66gT5DIFgAkWsIKISliDKN712DAzikUQoNDoVkzhYneoO9K3G1HZZYaFzgEECIIg/Oh3B4FCuCrPpKwiJsWkEFEBakEFaI1xSBXFCyPReEagVaHUdK3ad1z1uJFUWpQENq7DWrVkMulsxo1FGEEAQgU97Khdk23PVnybFn09lFKWoaSyW3FVxT4HDp8yZXyhm9u6cnllQY9ss9OvclTXwn4XnPqDQdUD773lN90LSq8++7xce+ovjzzz+dyVb3284OGn3zzjnMuWr9hUFil+/s9PjOs5akiX4b27DLv4wusYYpFEsZ504sXHf+eYkyb07VrgHXvEyYsWLp/1wRezFk0dPK7HgKH93Zjzq/vuvuCSa+qb9d1Pvp1j4xEA5EMfEFFEEPPniAiAEC6VdIwQdWiNoVDrFG2dV+xZLgKA4dhJ+A8JIAP47LuuS2zJWg9AB0Yb4wXBktfejLa0SFtrxEJpLIImKyhJP63cmFGiONDhh33ZuAiKDdnA91ORwgJ2VHN7WpETicb8TFYBhSMXfvQXAQS/zUePFSiLgIgWBJHzTRFQSMlksriiNMtOJtdqhBHRErUDp7V2c+KxjShtg6wJgrgXyaZTxfFoqw9NqXS6qMBWFbtjh9Ucd1hr3G13yFdoUIyDhK4ABcKEKAiqQwFDABBSAg4SIORyOcMci8VQkTHG0doYA/lpvwc6xgUBwjPMB1wgEmK4VMW46ztJDmiwfPml3/9gYes7z909+9P3X3ruLzPnzn37oXk+lT+x/J3y4qJJw2sao4mZj707sP+AP9x19/0vP9errvWxp5+/98+PjdlvcvdR/af+4fasrc2gv3DeQseJv/DyB12HDRwwedKv/vowXXzxxeeffcGYQRN7lPWqa6gtrSyu7NIVAz1p6P6Lpy7LpkyXrj1eeOn1ZavXgxtB2uVF3EWD/2ns1msEIf9BVkoZ4xOKA0zZTIlSsWzQtHiJbK/1WpIJliiBAhARdDTFI2kyGbBE4CoCEYWExmxfu7ZAURER+DkOfFcrdNAIk9KhwYtCCKCYFAMxfDsVNLxlL10wEokgqEzOt1bCpFFEFABSWUna8wLHMUDpTOB4kVhRUSrnx2MFDU1tPipdXJwpiFdNGNdnymGNRZEWT6VcymrMKfCJTH77B+Q5aMg8ASAkMYBcJgssiVi8IB43vp9OptjY3QNW/h0QgDUGxc6fM3vooN7llfqee28799zvTxh7xObVOZMsvOHq66fO+NhGbGmvipPPOW3thvXHHnbM3KmztmxY97vf32EwE6+MJSPNZ1xzWu9J/e/+630lPYtv/+Od37/hqidff+mwU6dcefMV+i8/v7wqmnjroScbdmxSEfn5b3/1xlufTEgdds/vnz1w//2iJenmbU0nfueU+pT76sy1QE4YVxDWDxEBYW+L8T8EQWAAARBkAUAUYKtEHBtEA0Oogh071k2b4dQ1RDKBRyqiSKw1zKwRIq6f832xHqHSBGIBUBu7ednyLjUthYnSpDFt1riRiCUMjHEozDrTIQ0REIAA+KsWCP4BQqna+V9GIARGRgAkrZQyxoArpBQQCoKvoGzwoNyyetjW5jmeNRIgietIxLWksxBkjcnEovHBA6onT4oNGbwjk/S1DggFSBB2eTkQBJkBAAEFWCi0C0lAawXWKEcjYdYaheA4zr/Wqq8HAyiHHO201Lc+/fu7V66Z3XNI35MuuPRndz04f2nDHWddtHDeh8ccM2F7sG1Ru95v9JgJ5sgea7dMPGjSssym39z/8+NPPfWjmc9v14NLepW9OfeLqcum9hxW8sXWGc9+OPOOB+68+0+3JRIulbiQaqqfvP+BXbv2qCgru+h7F2ZyuYEDh4BRm1Zt0L654OwzDj36ENToOKECyrAn+wzP8WvQedk3Qdjvklfddh9pNhx4riLjK99PaISGhh2LFzevXuf5gcviECpAZrDCvkhORHkRpTVTZ4pnIYH2nTu2LlritSdLCJ1cjowlFMtBwDbPhDqU4N3V338VYb2lc44hAEA2m9VehJQDQsr1AEAYjKbq0cOLh/T3E7Gs6zlFxWmWxlQmXlqaBnS6lCdjUVtdOejIQ+L9+21IpTORmK+1DRVWUBiKXUTq6H7BPSKSCDAaiZggSCWTuXQGWTzH9RwnlO9fiX+13YG1wti1rFv9lpbn/voqqEIrZSyF+++7f9DetH39ovmzPo4kCg4748xPtqxpLY2cfsH5Tz3xWN+asj/dc/vwAb2PPergWIF595MXWnP1Xol79HemjN5vhA+pPz9y96h9B/zk1sv1Lb+869Rjj1etvHFnbb+W3qcfc/rilVvKSsp/cMFphVGsqSm7/dZrphx5yB2/vt0rHMTsdC4VIu5inoh7mqz/Lggkv24USi5BsBxEozHOphzjg/JSa9Zsnrcgks1EiUgBGzbCIsykWIkAatRMjrFBEH77hwVEvKy/ZsbMqrLBkaKCQpBWk0XPMUqYLSNRPnsPQGht7FWpbwYSsEDhNJbQLYcgAL4JvFg0C4FvjCAAomH2iVRVZc/J+69u2Nm0eFHMcch3Um2ZQu1kIm465mKXypoDJxWOG5eMRdraU04iysYoZBBC2BWODQC4W9KRDtWCBCHI+Q4QAiISOQ6w5HIZY31HhXsjCHbTCnaxhG8GQQANRsBP8YTB+73x6Pv1da377XP0p7ULB1e5rz72x5/desk5F5x83Peu+XT65oOPPMI6bsnw3tmYaWze/PdHXyIpX127qWJCYUG3olMPO9Jpd195/G9TjjjhqvPOfuDFJ+OV6uyrzqS21mxtQ5suKqrq3/+4M7/zg8suGj60X3v99sf+/Oeu5aWL5s4sirmDe/b47oknaEBH77aSvRvX3P18L+x+/TdHp/Ym2GGZKgJkDaLZQn3dthUrU1u2FiGhgEUQkYCtACrHRR1B0uyzEhCRQAIgDYZBJMK2afWaptVroLmlmFQESYM4roKO/KahPtfpAd1difzG2GOUQ9U2rD8qMsK+yZvzAGAJ2oRLR47oPWkClJe0CGM0jl6kLpnMRJ1atCWjh1cdOMm4TpPPiYIKzoEW5bDyGD1WLitHMDwI8jGdsicfzeVyBYlEQSIRcdxYJAoAfjYX8yLfpmVfBWZWwgkrUw44qHZb06T9Drv//keHDRvV2tJw332/a25qWrFg2acvf7xz+eYDJk3Y3LxxMzcffO6JKzatHz1yTL8ufW+/5s5jJ542ZeypxVD18euf/ODcC/cdNfrdF18c0atnj4ry755+ir7g3O/f9LNfHHnE0dtq1y68/vxbH7rlll9euf+wfavLu3z45ide3FYWV514/OmP/f1TNwBx9Vc2DP9zHDQc0XD1LzwPQxNc10m2tZZp8Eh2rlpVv359jK1jMUCjtCYRZZgtWGEgRSCQ8wkJlLLsgwgIAFvtGzfr1y5fXdKtW3T44Jjn5kwAGMYggQhYhLAp4cQIae0rm/x1QAHsnFQAhCEfJe04Wd8HAsdxAHwAQEQL1A5sPV05cmi/HZt2fDrTb0/FE4Ut6SSXFJQO6td14iioLK1LZ7IYjUQiNptDbQkIBQjC/YAEwIJgkC2EKi+E8gdCHVEpAK6trcv6ueruNa7rpnNZ13VNLrtbrb8lUMBBB41dNe0D6Z498NRD3eKKNz5858arbwAFj7/8evP2dWef9t03/vJkUWNTYdOWcYO6/OD2K0cPHzGg/6Dh5X3uvfnBVUvqP1uybP+jj9pat2nMqMFPPvG0Q3LCUSc7RYloNy+3s0HrIvnJbdeOGT/ppTefPfHUfdeuXPTzm3/m70glaNWqFctuvuWGhtq6B+/5U7dBB6DUsRGlqZNJICrAfKjlbgIxn73821EsdXzNF4CUMAspJiBwHNXaUF9VXKQBdq5fl6uv6xrxoL2FPFcp5aIC8C37Vixbq5GUZVcDKh0AgAggAiD5filR6+YNdZt69BxYowo8G1hBLah2W4sHwY6sBACEvNuK6z+HIAsQSX5PMAhAuA8TIOvnnJgb9aJERgQQUQRUNLq1paVnVWXf/Q+sXbl5Z/u6qsLCdq38gsTkw4+IDBvSkM1ZL6bFyyRT8VgiMJmOdLyUX9VDAAEEQuSwzwUBBQjAYS4gxIamHbPnpvxsdSwWKytqhCAngQAAELEGAAh3hyKHalXHwIWKSp7WQ19dx8QjyK9uADCTwLghQz5eV7vik3dnLVt3+86bD514UMqYzTu2LJizeNrMJUOq+1587ul1a5b3HtJ91cqFjqv6jtn/xp/9atvKHRPHHjrl0OMOPfyEOcvmplLbFs+df/WlFz34u/vWbVh/7MlHXf+ja+iPf/tVYV94+YtHTjrr4HXLlpWqLivnbnv2yXfmLV4KMefRpx+/4pprq3r0X7F6kyAIWRHJC5EQQiIIQIJ5XzeEgwLhOYWy5stHKED3OgAABUjC3QuMAg6DY0lbnU36FeVdbYZbt9fvXLG6i+cGLbUFSiLAGNhMKutbdiIuUiC5VheynmaQAKyv8kt9CIyecMKmsa2udvNq4FwmlzEoSjloSDPl9+x2sMzOiSjf+GAEH8WCVVZcC9qSKwpIAapw/z5Y9lMZNhZDLy9SAECJRH2bDzUDhx59YnOXbguBGrv37HPUiX6X7j5GWHk536KieMIzNgvAAGgRDEhAYoCNgBUOgsBzo4jKGvGcCFjIpnMFpMqzGb1mTfuHnzW8+3522YKI36qiNgnZLLMCzwscL3CiTkxr19oA80kPFKICQkCEDm0h3yV7zlVBMgyAetv2RpOydkfjw7+89cwj96tbN+d3N113xORJB5144jbx12V3jDlk/JSjjl06deGUYeMe/+Vv33zh3c0NTbc/fndLYUtQUHvnPVd7MT+bSp5x4jmj+o3J7Wg+dsyBbTM233z0FXTnb29paNhy4Wmnrp23aNqH07Zuqvtw6vSakYPLBlY55c7CJXNdTy9evryqRw1jKC9ChFMUACCUjwC7a2y7llL2wjfUSjtFJAooCfOPEgeWA5NqbMF0DlOpmFgdZDmTJrZEGgCsGMs++L7JZoQDEcbwm/UdREcAmMmoTDLX3Oy3tKCAQ45YcIAUYz6YsoOB7Mor+o0hkJ9pKEAMqsOIkTzXyf+ljogqRvDFinZ0YakFSvTuVzV+fGtREdTUJAYOwvIuvuMZxwXtMIJvA9/6AMIo0qEoM6FFsEiidCqTzuRyiIhiFYjHQsl2qm9qWbDQ27y5qrE1u2SZ3bChRCxm0lGlHCTFhAbEZ5vzUdhznM6GdNY2nKqdHASEwmaGvyIqpZRvzMCB/TZsWNHStOn44/e/7vrvvfv+K5u2b6nqN6D74CH3/PmezTs277f/QcvmL40l2yf07PGrn9xw3tlnTZs97dY7fzF8WJ/bb/vxdddeum79mnRKtTTQXbffW6xKEmnn5vOvpnvvuG9ir7EzH/+oe6r8jhvvnr969Qa7dWl2SWxIAZdBYbH36ztuvezaSz6e9rFlzouU3RC2Y/eSvRBeEF6z18lXQhAY8x+j2J3KHSQMrA64va4RsgFk/AQ6OmCylpQAmCDIsR9oIZccxcRWmAUtoEUQAhAgEBHNELEq05xMNbZ4ghHSYKwiIglXrJgRBEL30NdOs/8UBNAABlqx67b4OdW1y7CJE6oG9us9cnh5r+5YEM+A+AKsKUDxxRr8f+T9dZgexRI3DFd198zctm5ZjWxs4+5KDAJJcA1wcHd3OPjBNXjwg0MSJAlxd5fd6Cabdd+9baS7vj/m3k3IgQOcB97rfd7vd00mc8+O9EzXlHVVtZIstgAjAiaRKcYlMubRHQaaoRsaV9GwIZ1kTfhtu2rHjsMbNnnqg6kRu2H11oaVmzNqI1k2+CwHbUuChRw4EjoKnBbV9c8AOdh2NCszgXho6kWn1LPaR166d8XOZZ1H9vnwh+++n7c0JZB5YHvRmmUrH33m2bOmnwvNVTdPP+XJu686eVifOR99VbO3pmNKpxQj6dWXnj3xpJNWby4ubzS+nLW236AJ3br02LZhA/vXtXfMev1dVVHdUFLy2quvVlZVvfbay5m56Z999VFERa686ebzr7py/tpV2QUd0TCOHYFw6ew4cvwtHHvKsRv/CSKkFkgiBVKBJJAaZ1wqocBsDnFJzJJ+pgkFusYZA6ks04xa0kFuoOFH3ecw4bhM8CiVSQDl4bqP+yDqqIhtgDCQk+UGCgO4/K/l6JbfvxBqfy0UAmq6DbxZOiEGJDC+XU6fMSPb9ulh+7xBVE2ObTKSHG1SEogL4QY9ESqJAAwlokSUnElkXDf8Pg8HomAw4NgJtiXLK/esWmmVHcngrI1EtfdQ7fJNtOtAhkV+M4rKkuAoTXFdCCFAgm3/pn/0N6EkgfTEef3JyT37jfx21mKvJ2Hbtm0lpfuvvfqS1DjBIg1jh/evqz5y/6MP/bBg/jU3Xn3h9HMuOu+0vVs3j+s3Yvk3C1fOmffs/Q9VHCgGR5q2Uxc2NxUdeO7tt8pCdSoBWXZt08C05ISEEItvqGsuueLii1+868mzB065cPJZ8f7k0jBNuuTaCgnfL19hApMQk+bHE+BvE5yL1gN+90hweV2LBtgq6zkBUyQUGMgNYJyAOcQkAYCUtlIOMALOHMHDKIJMWJpuMyGRA8RSjVzBxYBz1DQ0BOgCkCvGyLVhwP2PYndEOKpo/53gzEZoVo6WmFhtW00C8wf1h5SEBnCCjKKC2Tp3OHeQFALqQjIlmUOIsXYylMgkMktK23Ec02LRaDxQipSypGTfsiVN+/ckkUxEFW9ZbWzi+0uql62Tu/clAfg0JF1GmG2hQ4KB0KSCFrH+h4CkOBIX4mB5ZZvcntdf8qQIdeiaPtwf8n347PMT+uXffeWpV11wwpxv3mrXIfm9D97YVLit/cCBC7duOVhR3rFdfpaRlgG+M0cNH9g+N8sTP2XshOR49vTz9/YY3uPVr2f+fHBttL2Xff/ut9dNv+rmG24qKioaPmxYRVllnOb598yZyjLz8zv884V/rd6x6bQLz7jrwTsdZTPOoYU63Y3Wn/8FsYf5pT4Qe8T/ACkEFWOiCsgBUkQKpONYoAhAxcXHM0NTjIdMyyEwTVPaJkPyGAbXjQhBWGh2XJzj8zu6R6JotaddWBJMhR5/vD8Qpwgt6TDBXfvGVSrc7wEAEGIa5N8HApCANgHqhpGYEETVSBKS4uqlE+JcGjp4DBQatYwMEUlgREh0NFyDAePAkDEGjnRCQZ+UWbrOm5qqN2/ev3J5QFqJGkI0KCONbXzeeNus2rJl79JlvKHepyxDkKWiQStso0RNZyKmg/5xuD7dvv0GHz5YkezLUiE2/aJL07Mzz5x2cqqPr1k0+6mHbo0Tdn3F4WEDJlx1/Y0FY0+gNjkdevdfu2lLRlaaVGF/khg7acg1117xyEN3X3XptHhfuG1e3P0P3T5g/KDUbrksbGfceNNzW1eVnjr+ooy4fIFG136dh588JL93frNqOGH8wFNPG3XRBRMTArauKWjJSGolsuPI7j9x3DHuxu+CK0ACQqWYcriSCJIUcgAuUjIz0e+VPm+d41hCSEnKUpqDuuK2pSIO8tTUnJ69bb9f6l7J9GMmbESJLKqJqKEZaakiPT0KLOJI4sIhRbEKCApAAQAj4IoxipmvfxuY6wbhuh6ybWno4POVNzVLr2FrQmq6YtyWRBI0xgUyZTtIrm6skJQbgeUaZALRy8CvVIJSUFtXs3ZN+dq1cc1NCahQmRJMxWwmpEAp6+vKt287sHZNuPywQZZgtg2W5Agad1ok5B8GMwyvtGnONz/ECcNH4YED829+7KrErvG9hve79IrLr7rs8sU//lS4Zp1TVff+q0+T0q+4/9Ej3PP6l7MS89seaD6wuWr90oOriiIlWyt2VIYO6lg588V7Jg/rumvdooojh7+bM5tBeq7lS95TXLdk4ZbmI6EeuV0+fvcNUk2BOG3qqScHyeoxuN+wMcMWL/tZkXMchbXS3+9S3u8e0AIGscDhmHyX7sIUMURNJ10YaSlWnD8S8NYJFjF0KTRSXNrKNJ2miB0CZmRme/v3D3l9IY8nLHSLaeBSKKLFRDTgC8UFeHoqpKVagkVISgRbScl+hX26oXd/H9ANh1PEUNQ0NJKm6QnxlU0N/sRkB0ES2La0o6aSUjAukJFjMwAkEICui4ARaEpppFjU9CtIAuYNR6N79u1euKh++7aOAZ9hm9IKCQ9qPhG0glJZcRxZU9Pe5Uuje/fHRyLJiH5EHYCIHMf5szq3FTWRY68hPUdPHnb5FWfYqnLqJVO6jhnYrBlnX3qjJQNXXXHHqCGnjBo88fOZHxdt3fX+O58ZIi0ukAVa3NZ9hePPmDp/49rhJ09++Z23l6xcvn3ThrzUtIfvvu/nH3/u2KXXwOEnsKWVO0dMP+3fPy+wHL5j2aaZjz77zN23L//+2/dfe/njjz/uO2Z8LfOeetEVIUfYilpyemIVIpVSiHhcvaHj8J/k64rvY/ccC5clIACDmGfR4cphwDx62LGigkNifJfRI2sDRn28N5QQ73j8UYkmaSYzIkyXCUnetu2hfX5m/37BQOBI1AwLAcgBABBVnO+gGU7t36vrCaOjjJo4mRxMVKgLBdIN3iQiVASKmCJQiCq28w+i9UHcn+7Lcd+PlNJxYh+5u2YATIKXG+CQz/AC8mAk6o2LbwpHEDgo0pB5dcPHNOYoIaVf6CiJLEWWIwB1xjycaUCGQ3o0mkQQr6hp1+6tP821Dx1uaxhaY5MuLY2RlHbEMZVO3McZc7xONLpv/765C6ydRdm20moaoKk52fBzNyf613C0zYwhIuexoDaBLAqh5B6JC/f+tGLrrFET+rTp3LbMpo2V4Y/mb7rt/rcPlniWr65+8eUvRw8dObhzVzgUbdze2M6f75fJ5551ZUlZaMTYM+cu3Fhbrxb9vGH5kh2nn3alR8+76vpHOvYcXWcGWJ+Bw97+4NOb7nqgd6+Bmd74B66+rm9+h43LNvcvKEhPTjlSXrv/YMXyJetrKpt0YfyXKJi/FOhOQ4/kJvCARIiatqUgguDE+ZO7F+QNGyrzsrc11JVYVjgQaPL5yhDszDbtR4/MHDIIUhOzx47JHDGEcjPrNXTtJ+AiIrRu48ak9O6u2qSF/R7L4yGP4Yp4BQAQk+8AwNwyDMc26m8AEggF2tEgfwZ01BnusnA3BcDll0jACQ2maVwHRY5lO5EosxxDOWma4QmGgruLDq9bFy4uTkOWzrhsaDAcpSngBG5EMyOlEflsp63wqL37938/39lW1NETl2xBpKom0Rf4kzlnihgxnf+8YrEvxbdqy4p7H7s7MTW+tLxs6469+w/XxqdkvzHz3zI+486Hnx47bOwrDzxxzcQz2f6aaUMnfjnzy9nfLNy4frfH40+ISzjtlNOfefJFTU8s6D6goG//umDwuVdebIo0C16u/GFPdnLucx890DspIVGoTctXXnfp2ak9OhQ2hjPzUvbsraZaO9eXXt6oXEP4bwa29ERsRM/NkgPOQVDIdghlcps27ceM0hMTSrdtCe4/HPF4lQ0RxJQuHQND+kc75DUpK5CX4bd7tzXQbt5sU72GAMhy+/TM7DReJncxExOaGY8KrpjGFJFpawBIAAgABICuzfT/ADgRUwAIREdHsBTF6tgwAKaAgVuMFwAVSmSaEEw4jiJyQCmdkU9BAseGA8WHV66p2rZDq6vza5oBIB1HU4Zyi4cDEgOJoCsFAHZjY5bH17h55z6bdT3VaNOtm0Csbw4xHf94ajkh2AxMSW0zOl9/2Z1Pvvx0dqec22+97oXn3kgf0+Xl2neGDCh49LkHDpTsmXDW/Xdce83Td9x/eP+RWd/PSwmFhvcZFA4kcr80G/bO/vGLuEB+enxiu7a5U6dO9aSmZvVJzeyY7qAl+o3pv2r32qffeHXaxRfsmjerxm6av2pFWse0pKjhJ999dz727axFd15+bZvUTh5DD0Ul/s39Ru4wDMGx8+4iMZQoNC+gHbQiwDEhIyN32JCsTvnhsnKnOewo5k1N8+ZkyNT4ao8Ig2hWkNa9a1Z+LtSk2U3fKgApWNuhw8HIbtITGhEbpRNF5BjL2UUABMWAlOuebEn3UMBa2epfDjdejoFSoJAAmEJS0JJb7X6ortIJEEuIU4ohccUYcBAgBHN0xxF2NFRatXfd6pptWxLCkQTdgFDQJhnn89tuJDYxQmCECKiUYkBo2oFAvBY1yzdsUbq/s+73dWxfFQkL3X9sC38PTCkwNF/FvrKNK7cs2r7h31/+8M+7/wnN5l133VKQP+DRxx8a0L/vs88+UbansGvXrnN+nPPAnXfuP7x/6AkjV2zfk5KVDiy0Yt6Gc0+aeNKk6T/MXtgtv8ubb8xgqcbdj9197Q2XOjIibvnsrkdf+Ffh1tIZc2YnieZBcTJ5UE8JUFqm//Dz6rHdR73zwiv3P3Lfm299Fqxp8hrJoCLHN/KvAwEoAFdldTsv1knEwFHEBNd8TDdC0oxYES8X3vSMlLbtQ42NEjRvSrLlxcpwsF4pzee1QxElnSY7mug3VDN4AaLI0JZRDwsShgFs4AACiJhCDkwohxCIABAIQTKw3S/k7/0g3cRRBRALTyF0+ahCl6EiAAEhyFgkNSMuCLglARCFhozQiYYi9bW7Fs6v2rzJW1mZYOgJjEllKwTUGVlEKBQyRHTr4jEgSTI5Ka66plzzJKX6E4s3bipjvO2ZU+MKOkfoT2hxSKCTLsPq3JOn3XHdHc0JSWNPmvj567NLjxx58oW3Xnr1nV5D+iR7A5vmzMVoM+nOQ2++cN8jD51721VPvzAzLjXn2X9eM2rAkGdvvvTwzs3lOzbl+ESkqi5YXXfiyZOef+aRgb269x/QV9x939XLVv64cPY2jDhnXD61zKkvpyBEYcWsrx+695nKuqYVm9bv31NafLgyzlfgOOrvrlJPLbK1lTQZMabAp/usiBU2LeERJDSb21IqR8OIkhQXr0CrjkbDpm1xQE0HKRJ9yZqyvR5dNh0ixpRipBvk9UUZtxgHrnHBALgg1BQIYEhAQBKAmFLg5gwBEfvf6jL/OaACJHJplOBYhs0IAJRCACBCAALGdUKuyJHKAZRM2WBFnObG/du3+hob4oAwEpFmxKtrgkMwGuHC6xBzGDICVK7tLwFIMhm2QkmBBJ+B4dr6hrIjiaEmHVUsIOoPQzmScz7ruzlzftw6ZNp5bbO7f1syM799l1dffbVz5x6D+w3avnJ1nGXldMzM7JL12IwXe4wbNvnSMy/6xw3bd+wZMGbwhedNfv/j92+55JJDlSWffPxVbnbB4DEjn3jmpSancciggZu37mErXnnvwp5Dv3r4udvOOH/13FkJCexI4+GdR3Y++MRd8+Z+36djn5Id1Y/e88rF59+slAfwFwHLfxOOFahIrksSNRCCODkqYtpRhWj4eFwi88c3g3A8AWUEJPNw5k3yJGd4ktLIrzc4vNFSJlmWI6VUDEwA0gym64BcAZJCToxJBEdxB4WK8WwAUAiKgc2YG7b890EhECpXtXelh6tgHHOAWwMsVofHYSABiXHFuKWkJS0FthDg9YjO7fNy01LidYGOqaQNnEmBEVIWZybnUcFNzh3GgXFCUJyqww16WrzjhUYnlNU+Z8Cw/im5GfVmc2vSyx8BIZAAi6uuIweUheuSE9JCzREZ0PZUH2xurGssr4jW1VfUln+7ccHSIzsXb916sKyuIWp/8e3nP87/5PwLT7jq6lPDUHs4WPPgjJcTenR4cdYHX679acXe7ff9671uA876xzWP7T5ksZSoufLbbxfO+W7Ot19NmXpKZpvUAX2633rtNSKshncfdGTbgW6ZBV++/c2XM2eh0iXQMZrhX4ZWUY4uRcZ6jjEABsAVMICGhjrGIC4+4Pd6GaCUMmrajaEoaVrItiO2oxlenzcOhRPkDgAAgcdJREFUJESbgtGmoM6ExvXGxkZCLnQdABRhKGoS120A27SUZYNjo1RIJEkRMCAEQFTcbczfAPfVtb5A5f6jo58BA4BfeiIZxUx89wjmOG6wMyGABARh8Lh4T0pq/3Hjk9q3Mw2DPD7u8VtSRU1bCEHAANEtxKw4SVQSwWHM4RrEJ1QA1HqMdsOHdB4zJiE9nQv9mOb9IRAqh6Pk2qVXX3vzrbd/+vmn7Xt06jG419TTJ02dMvbxx+7XvezEM04574pLiksrTpgw+cDhsqhDw0cOmbf4+/Vb17z78UdX33Jv/+GTn3zqzYMl9YMnTbrgphtffffjsROn7t535J4HH2NjBg1YvnLBlfdd22fyiDadu1RXB7OMQAct8fkbn6nfWJtke6888/x3nppRs7+KqaP+dsYYESGi6+E71v93HI7zDgK0eEYVtS7ojt4RMUkCAIkIwQGUhC67YAAevyG5YzohJSO6cgwFHJkQAgk4MmTKcSzLMh1lEwfyQFg4ES71OD8wlFKBQo5M0zTTsRXjHk33cq4DClDEQAmwOLO5ABKMhJBuZhowt3vRnar+FwuA+/kcvygFSoFSMffp8U/9H1BKKSApFQBDRYIxBoAUm+TefTegOCrOpGASBUdlh7lte1DT0BuVvIEZDfFJ0LlLl1NP1bt13x+1Il4/6P5gU9ireVA6TiTkA/BpaDth0kn4PQ1hyxuXUdqsQum5nc84O+OkSc3JSQ2m0tA4vn0taHWCuttSytjTMXRs6YSxe9e+Z11wTnanvE79ClLbpd732C3//vqNrPYJmmEpO/LujDfvuOW2pPgUsI2aqlDXboN79xsTn94hquI/+mSZn3dLCnZ877HvMvP6s4SUvoN6zZnz76Zg+QsvPM5GnzJ2yIThZ19xNsWxBluiljRuyGnNZdi127DNew++8N5rB2r2epPphtsuk2S3ts9t9H+hy+PwW0e6veoCCQAVJ4WukEUAiDkjEaC16iwCMSLm2hAxKAAgJIj1KUhUDgObK8KjlMEAAJXrc0QATsBjYSJKIUgEBYyQITFOjLcUafp7gdQS6O2CAbEW5v0LusejftkYe2fgvgxNgm4yo0k3sE1W+9EjMwf1bxA8yCCQkEIOcmQCiDuOTsSUbGxsDkbsuIzMsrDpbdshZ9gwX8/u4bTkcJwfDW/Lh/cngMQM4W1qDH/z9XePPv7Y/EUL33x7Zr+Bgx9+4rEIU5XBmmGjRr7zytvF2/e+8MyTC3+evW7dkosuOKdwU+GSWcu7JHW98fxbIOqdPOEsDHl1ljR/zfqVhdtvuOfGYKTu7TdfnjxhtHhr/jc9Jwy6fMQZ0865VEuIwyiUb9xYebC20ynTvv3p++Ru6f8u/PLGF2577sUPlNdwLM7Zb1Lbb6H1+D98oqsGuQe7dIgtP/80/vBN/y8AAQAqAiBgSMjJ3cU4MakgIlhyn56GMnc1N9QUNWpCF45NiryGh6QiU/q4T6EZlYiGN2To7ft2bzdyCMvJqWcQsS2H6VLFnM5/EEgINlMCho4emdT3nHfe/yQ9qc0Vt91+aF/NZ5/OTQoEnn/3w9suv2FE9xEZcXFb9q0x7eLzzh2eEGfGWSK9Mb5rsM2+shKtKTxv7ndDRg998v2XTnj4vEORypsevL24/OCHrz1fvGsH6z1m2Kad226++rLbrrg8XmoXnXLRWZMuUdGEI43hSJKucj2hVGv2mi/T8gMSIpoQgL+Q6a2CzN34VbQeedwpfwq/uOIxOP44gBb6/pUb/Q+a5S/v9vs4/vy/Gm7qqTuhBxJwxYREphgIvd6ynIDH36933vAhqk16rZS2MEzpeDwewZiMOj7Nl5CQ5uieSke1Gz4sdWA/vUPbaMDb5MiwadlKtvi8/gQYYwL0N1+YGa5zok2OTwQG9hz846x5QwYMLzlS/sKrL3vjfEOHDq2uqZw4ZXxduHLF2h9PnjK6W4/8d95+u2J3MTVEUtPbvPHJzIW7V0y/ZfqOwrUZ6cbjj905ftKQ7bvWz1v8A4uGo2nxiT1zsnf/+HMfkZRcEfzq+beDhysO7SjKTEt3uDSZuW9/YfGBvZwp5ZitfXxsf/xux/zxI/8S4C9v5Da0tcHHaYKujXKMpRKDq1r8vwoKQcWmm4ntYQqEYowYceH4feUk7UR/xvAhOUMHW8nJ9URSE7Z0lEMMNSVZs+lEfQFPfoeOk8bxTh1qfUa9LpTPAx4NOHPDKf84CEmCBIdjrffH95ZE6qlDuy7P/+uZKy46v0N2+oTRQ8469UThleld2jzz/uufzf3pqjvuGDFpTG73LDvNOvfms0qaDgZZpMOAPssP/Jw7sUckNVx/ZNvwtkl7V/+ITtWybUv/cffVrLy5ETxe02HDBg+b88mn991wbUIc/POxO1cs+7Fddlpmcvrg3sM65nXNzsixTat1rk63s/84Ws86buOP4/grxtDqpIxpk64rAACIZGucR+tF/gf84m5/AMef/xfDVbJjfK5VS1aIYVuxQKCZ4+FwiFKTcocNSezeo4ox6TMao1GTiHn9daZdGjG1nNxuEydibl6911Numo1EzDCE4ZEgLfknvPQuFJOMQbvMbC/BTdde1iYt0L93r56du6bpmlNRZZbVDOnWuzFcd8v9Nw8bPuiay6/Oz+1WXRU8Unm41q75ad2yy+6+7cd1yzsNPXHBpiWr1yyr2b7/9VsfTnXUB6++OP0f5zfIMKOMhHWlh9+Zt1Rm5Ea9lNo5vvfJnb5dPTO/eyA72fvBc++1MzqJUCDVl8NQd31y/xtaO+93erF1ZOUPLb+JX0pzQgDl/vd/Mxgcdcm5IASJTCFzgAVNh4TXZEaVo7S8vMxhg7WO7YKaHuHoaJ5mwFohvB3zs0cN9/fpWSV4E9fCwE1HmVJJIgCQ0j72dr8LAgDOHAx7k8x2nXQp9zXWFzY019120x0Fqdnd/W0Ozt/+0dPvpsYlXH7JuW0TPVMGjXr+zrc/fuGn+pLGs88+d/y5F8ycN7fMqrnlnutvvuYab5M4q9vpU/OnfvvCZ4M79bejkJCWKVL9iVMmnMpKc9au3be3tMyIV2uLlh2qLrvl3ssWLdlyw4XXfPr6Jzkd04uKKzhv79j0J4XA8fgd6vwf4DqWfzWKEWO1vxARkX7Vy/N/HRgBuAP0EHPpEwOJTPP6q2orU5MDialxkfIy028k9O6ZXHa4dE5JeiAglKe2OWzFJ3UfOTRl+NBGv7dJaMzn8SKzTceyHF1omqYJxuBPDiURScWcQIaxfuueLDOld7cuyzcUXnPhNRvnL84wkkVCikfGPf7gk/0GdxFm081X3XLzVY+FbNyxeneo3hg94oJGSxb0bJsYp/buWN9UUT7t3FuLNq5PTcyY8fZ7t814Jezh4ucXP+yRP6aj6pAi25x/wRVGoGHXzqW9B/WubD7SsaDtt6/N69i5W3a7tPic3FXLGwiESwpExBCJFDJ3Fpc/DZdSqXWDCH5ZSu5YeiL6TfJyi7oBuSWQ3AsQI0BkiOh6mVzhyxAYxLZ/cQkAOOZ2R9vzX/Fb7fmt89z7EtFxRxzd37Kj5YBfuT4SaIAAgIQMUDEkRAdRIUjLTAjEQ1SGwyFN89fZNvo8XSef1LSnMHL4SE1tGFNTErsVZIwfWeVllt8vgZSDXKGXDGAKFBBJJFCxfqHYyt2AX20OICgkqbhKyc9LagrddfcTPbr3ferpV15+4rHTh/acesrpEW/Gz5sL35350viJwz2CHRhZM6xDt3POv3jR/t3XPfDPzesb3vjg7bFTCtasnx+XZVx29RkRu6HO13TRTddvOrLnpNPPmbV4CZs44BRs5N1zOtZVVO0+VBIk7NSxWzRipbVN7zOiN/oZaXSoptSXGABGbv3S/wG/29//54gFl8Qi045O0YlHx74UQAvH/b8VMR8tJwagCMlhyuHK4QoRBaCuuCCNUFhCb/R46r2ejqNGWilpjXH+hsS4nNHDI8kJ1CatxrEkCq6EkFwojDmbf1UK/R44A6nU/JVLF65dm1/QOyMtO5nxL956+9Ch8hkffzFk4pQbH3jsrocee/SJF+57+MnS8sZTxp/26F1PNpfZowafGJeSMm/B7A9eeVGLBH/8/tuMDjk/rVmBaSnvzf5BS8/uO2LUSdNOYys2VCxatTW7Y4L01TeBXTBodN/e4xcu2NCzf791+zff+9rDh2TlsJMn1YZDthPWhGuL/Dm0UucfI1MF+GeW/3+C+725Q1wIQG7UFVMSFTLihLpimuIImmRaVDeCHqNN/4HeTp1D6WlxvXrG9exW7zNCQosSIgkhUZcg5NFo6P+BRpEYIrvmhuvb5OU+9vxz4yeMvv3Ks2Z9NuNwY824Cy48+fLLrrjn7mpSqR3b/7xm+fa9e55/9aMePU6oK7NPHD9t2oVnNKmm0r0Hdq7ZMn/xypR2XZLyelWFvFVB77pth6646eYNuzezwcNGvzrj9fXbV15yzQVDRw3596dffv7ZNz279vv43U8z0zNW7V6b0jl13Y6VzKMYA2qZ5uc/0Sqq/hOtBxx75NEz/zqwo3wUkI4OY/9/CagQFBKRIpJAKjbEptyIhZaDuGIaMc3iHisuMWvQkMRevbpMGNfkMUKMBaOm3xtARewX2SzuYPOffV/MkYTIC4t2pbVJfW3GjJ59+3Xr2S0pJfmii688/ZwLU9rmetJSrr72FqXwlMknBhJ8A0YPGzR2ZE193YB+vQ8XFyYkeLOysnThffK+R19+8pm1a1boHqN3j34zXnrzrhuv7pyXwgq6ps1f+M0PC79fsmxxmt9bfbBo2MDe44aP+P7db376+KdXXnll4Og+Ofm+5uZDuq4ryX/dHPk9tD75n38Fvw+XIv87Ws3e1pClVrhKlrscC5ep/L8NCoGAKWASGYByZzvRlHKDAAgpVhQckCkEEE2oJxR0az9yVFK3LrbXZxPpIPycM1IAJBnJlo+YAOgXY89/DKhxIZYsmHvqyRN37yxctGx9YXUwLb/Pw3c9PXX0KbNnz+7cufMLT7y8d13h/o1bRg3p9fKHTyzY+p0v1f5+zkd92mWFKyvGTDkpaJo123Y3bNo0qmdmfenmlx954NbpF7x8761nDunO3nn5voaawsHD+8xbOn/YoIED+vYLR0P/uPjCa879R5KDN1xx0eaNyz5896URw/raVkT8sj7osTj2Y/xPtB5z3Mb/OVppyOWarYyzlXf+J0X+Xw1SKIEcJDfFjynikjRHcikJpM2kychGAABNMlQ8wvRm3ZfUtXOFaerxccrBANet+mampIPSZtLGWPEBov+lXzjnZjhyyXnnrV22fOL4kT36ddZT/PNWLx53wohkr9Dt5j4FbZvqy7dsXZ+c7NlZuP69WW+zLDjUXLRp59LC7Wvmz5mzcOHqhQvX/+OMS626pqxM45rrTv3uuzfMhkP7V6xTZQ3shL6pF50xMjldz+/W8fMvZ+0uOpzaPj8jJzfA1IM3XLV7+fyrzp7SLj21aPtWxpXlRP5nte/PUOd/+jv/ywJwjMv6WPwRzvp/HQhBumY7AgAIpQypdKmYkkTSZBTlZCMRke6QLpkJok6pqNdXZ9vhqOPXDBY0RdRhBIopi4MplJtyTQj/Qy0Vcux4w+tTngHdutfX7H3quVtWbZ59sHzj6Andzz5z+JWnjRrTO/u6288ZekqfjftWWoHojK/eFnn+IacOglRz1vyvLr/88t2bDr/01CfTL7y9TfuCw82HA+3k4boVXXrEn3XqmbNm/sz8XvHezDfadmz3xTdftsvPHjxswOJVKwYOG7J746Y7r7zq4tPOvO7iy+655S4nQo5jae5cx38eLg9DAiL6L6LT/ZNbMeFXac6F+zZdYSeREQgAEErpUhlS+h3bb9seaerKAXAUKkIgjNU4QGKMYoUhkADdgCZU4BZucAV9LLWSAbAWu+EPrmN3IYSWcDkF4D4UcOVezSWC2Jv8rVfxq4g9tVsGp6UEOCNAAGopxEKoFBK0XFkBMd2wpAzEJTTUNiQEEiIRMz4+PnbBliu3vA33F0OAFl2utZ2tYVausGIA7n3AVvKLb78w0erQI/+8i8657/7b89qlvf7hq0+9+HhTddUDt93BDe39zz/OapfXqXfvg6HI8x9/VG9Ix68uOP/0YE35CcMGL1+4OD011x+fnte508r1q0vKixsbG1JT0gcMHMrKbP30f1wXtnh2bs64yYNqQwdKqw+fNPnkO268ywv+D17/8B/nXrF1zZ705FwETQIRxligakmKJyIiwpZS/u4zuDuJyC2MxN2JU1vWHNHt/2PhDvNwxYRiQjKMlW9oKfzHwNXjFShF5DCwGbMFZ15/2HI48TihCTMSMCNQenj73B/jI40pBpjhRtOJumwWFRpM18idCB51QgHEkRgSIkmQCqSDUiEjRETBSXASLo3+l8UdICcJJIGk8uqGY0VtaYGGDjmWtBBJAFpNUUNpHAzbIgQBAKgIABARiBggEjBAUrGaNq0vsBUtL1oBKkYqRpfIbMYcxqQQwAQH5AoYKUKSQkmhAJVGJKK2blNCXHx9MIRx/qBbk18xw2GGw4QCBIjxUPehfvGMLR1E6DgOgVQyFhgKAAw1k+zi8OG9zYd7nTCuLozRBrljS9EN9z2Q13fAjHc/S0/r8uRjMwy9zfadZXuOhDoNnJzZZ8yMr2aNP/XUiSOGlu9eV9BRDzfvOrB7c9cO3bZuOxyJxu/bHvzovTlBZnUb052lZPSorlFORBs/6oTnX3ziH5efHUj07j9cfOv9959wypTLb7iu38AhVdVNAX8Kgq5cufJr+C1O0EqIv/gefxvu2wGAY3kMEiC56chuLLn7BQMACwZDgUAAQEWDzYmcGw2N5es2HFm2vGrTZq2+tk2832X6iMiAK1sde9kW9VQBKEI39QeOyXlg7mfxa0/w62tGLBIOI6Ku60xwYMCAQDpkOV6vFzWugCShBAJiiHiclKDfU36OMjw4qr2QWx8UgTC2HwEAlWRKoQIgTiQUCAUAoGLZI4yAMWKcgB+jtbuLe30AiL0Bt3OJxX63NMLdsB1LN3hGZly3Hh3ee+/9nOz8mvK6W6+7LdGf+P6773fM7+zz+pPjkvt173/r9XcIW3TIaKcaZLecrq8++vIHr3x6cNeh2tqSiurCuHggJ6Ipz9ghJ11/yU1jBo2KNteFG8vYxzN+WjV3++ofV9UeLAs21EeiTUMGDhg7acKuxqo5O9a1Hdb93z996U2O0wwfA12AB1Wsg/8mKHf2dJcwwH1ljCvGFdMUapK1slhdMk2ChoxzZqko4+TVeOjQ4bKV61ThgZJFK0JF+/1MxHEhYkIPLOlIBNfOdedLcO8CABibqPPYL+2ojvsnIJUuNMaYbVtK2gzIUKAJ5hgQ5E6EOVKQm+rkDnEdf/pv41ii/FNwabd1+UuhvAbKcN3Zo0bIkiM3T7+sdE9xSmLGrVffvPX7RY9eee3IIT0mnzz84J4dWYnxwcqK5gMHD/7wfX5dc8ah6Bs3vbBnVUOn9ieU1URvvOfWN9598uQTB0erG9/61+tXTD+r6sC22847Z/v3P7ETT7lMYfKqVZts0z598rSvP/zMBzDj9ZdOOW/ahHNOvOy66dt3rly65MekBI8rZI5v4V8Kinmej6WbltIaiiGxVmJt/fQDfk9zU51lhhO9OlTVlK7dqPaXdGSe4OZd1Ws2QXGJV5GQxFwTlbnmhVuyECQyN60DAZh7QXDZKiEpN4/nN0XDb0DXdV3XHceKhMJMSR9QQCkfgANWiKIWSBKAGipUAMDgv6na/+f4q8nxP4CKwPFzvXDVtgTbs/j7ecP6DB3efcydV927e+22Q4VFPl2rrCj7YMZbualZs7784eDu4gduuzNcU1NafGTr9qLK5iZfapovkHLPPY/e8/A/S0qqLzj50uGdRt15yd11RXXxZtzmuevFvkZn9fqtbfv17j9i+Nwv5y2eN/ecGSdXHNyX3SF55qevXHDaqO07NnXs3HvBvM9ApNrKy/+HKrx/GApAMQUARIDgWkuABAiuiCFGjIiQAMBN/lCgpB0NZnh1TyRctnpN7YbNqcFwhtdXFQw2bdhalRmfPiLdo0gyUEAguGTgtIzYMgLAmPyKhRSQ2wo4OjH9nyUgJoCBsqQGMkHzeEyHqmvCirT22cCISCJTEhS59/0lEPFv5gB/MRiBYzsM9U1L9qbXl5LHv3T+ipK5Owd17iR07+CxQzbs2b/4h+VNJfj555/3GdB15aai8n8+dtL1VydlpNRUlvO1MOHC4Ut/Xn7lhbd99PYXOwvNQ7uXBcvr9m5ad8G0izolDs+LX8qG9T/5gTue2rN734+z573z9tcPP/Lau+99dsrU0xqq6+6+6dZgbcM5p522YP6s2rrDpGz2t1crck2OX3BQl3ECABBTcLRYuqtE2lYwNWBkeTzhvfuOrFznrarLYozX1mQxhqUVlWs3wYFDjAgRFSomUCK4PhoCJhm4eUjgclDlJiq52pUi14r5M1AIpm3ZUiJRgm5kCF1U11dt2X543QY9HPKB8jBFygLluJGsf7dEAgBXsf6boIAJzUCmd+7Qo/RwbYfcth3yckcOGrV6xcbhI05QXB8wbPTZ51+Yk5Pj9/vL6+vPu+KyICjlNx5+7uklm1c+P/OFpZtWbNxWuHL1rsknnbenqPzSf1yX267L8JGTLW/8yqI9pVKyjx/56J+XPtAzpd3B7QdOOef6aGK+0aHnR7MWzHz135+++tWL/3p/9dpd0844w+MzPJqBxP/zu//LQahc4mMESAzApUumkDktBYUlMskAQHFpp+qaU3z4yNKVau/BVMv2k62T5ZNmvG1Gi/bVbt4KjqMQFCcH3awGguO/BAau0RAb5lbMVUD/vNPXIlsBcSQvobc5EizcV7Zibdmqtc3bdurVNQGSBimSzn8hG1cPPnb5P4T7pH8TpdqkoqRK62sUJ4M5c777rMaq7DO6X0Z2bkZ2+7c+/3dax9yiQzseffaetn0ym1n9a68/P/uzT7vn5tm1TcsXrq5rUjWWSM3rNG7EOA0IAgrasoqc5tTTO4X7+Xal1Ij+fYcNGHzOjt1fsB2NtnRemPGm4tWTx4/Mbt914KCRw8ePzGqf8PPyb/oU9DlUaHL4H4c6/yhQAcSi4l3e6e5WCJKhJCAE5XI7UAjAQOrKMZpCles2VqzeEFdX57VMi8zEOG9jY1MgIa62tq620EoZmkUkARWQ5EpxpqilwxQCEvBWsgBwx/ta6pa5sviPPjIBoCYYA3Acw3awvsneczC4q1AqVb92U66h+X0+5KQrxYhiRW6OPf3vZ6h/LQhBKU6M7z64d29N5eCThg8Y0C0RPV3bF3z8zddLNqybfPklFQ0NEaxfs/3nhGzhTeD33HbLicNHE8nigwfrDzROmjTVw3avXb22Ye9h5TfnrJud3iv19FtP/mHxj6u+WHP6JeezBfvXf7jwi5FT+nn8DQ2lW04a2dO26ldsXD727Gk8OfXgvvIv3/ny1ktuyYzL8DDfn88I+BV/novjj2uByzhb2CcAuJYT2kjMZ0RRmqA88R7UwbLCXgZtfJ4jq9cWL1yql1bGWbZOinHVbDYzHa1oMMkjMBoGQCLigGTbKhLxc64zJMdG1wNKAMhb/LOuI1cRSQUtqd9/GK76EYmGdMdJ4aJ+07YDi5a2idp5NlX/vFzsOphQ2xwXtYVlaYyTlOiq1C3mPAJwZLHtY+D6kt3l+Fv+AbS+z78KbqsAAIC59SEvufySG2+97scfvrbM2lWbF5SHSwsGD0pvX/DlZ/N2bCkKQs1XC94xEoNz5nzav0v3aEVzU0m1UxWN7A9/+/pX/dt1/MfFZ+T1a/PDju/N9PCMz194/Inbf/7y8zEFA1649Sl25pnDivYvi7Dy8mBRfWT/l1+/kRBHCUn665+8vnjjopuvv3pk/0Hh2mZmc+UcLWD79wEBWGy0yb0Xk4gSAQSPkk0cmUZRMyzNqIdjHGCkaG+kaC+WViQ5TqKucZRSWcRIomIa15B0UsARSWqK4nVPoq4Ly1SRkEZkCA4ADingDAAI4TgX7J+HUqjivN5EJpr37q/ZutNXW+cNNieFgql1jQ2rN4YL9yZayqMIpXPsuMbfBFdT+lvBAJCR4dcGDO5jher79M7vN6zTKzOf/uyHT3r06T52+OhJo0+wZVNWXhID+/OP3zeba7/8ZOa4MSMuPO+sjrl5V1168ZbN68orDpdUlY6fPHnQsOEjho7KDuS+8+SbCz6e9/r9L4ilHzx8xbTBxCsfee2+hau3t8lsu2vjlupgxYnnDO+YlX3pJVMCDq1dvyCn6wSFDjHnmEl1/3owAuXqgy2v1eVJhEACbcdhgrgCFQ75lAowbjQ0Fq/a0LhlJ1RU+bnu9RkRyRxbMeCocRuloxRjCAQaITg21dUlpKGyHMuxyMuQY9SWRBI5U0i8pXYrEgCymDn/Z4AAqKQXtYDlHNy4rWrLVn807DFtj6YLiZUbNntz2rTLLfCpAFOylTpj2kULrcY+jl8jrP9NjzxOi21Ru/8CICkPl6YVcUxz/949J40f8f7bzz3z5stjTx25aPHWSWPHnjnpspuvOWu+15ffZUh2ev7UcZP7duj78OM37T2y9flnXjhxxImZBWcE14S8thOqUgd3Vn5WOycjITNyoPrluz44c9Q5+UntWFo7KqnZ9tjTD733/rtzFvywcu3KI3sP333dLRSNZKYnDx/Uf1j/IQ210YKufbgQtjSPb+PfD9ddroAIpIagScfjOGmakRC1GnbtrtqwBUrKfZYlyFFKEmuZd5MJ21GmaTJQ4FiM0JCqeNt2aGgIOE6iEDoRWDYyQs4kEEGLRU/MJZI/rnq2Agl0BBVstkorq3btMisr4wXjaBloJyAYDU0NhXuqdhV6pdJaYjqPv8R/Rava8/8SMFCWGTE0npaW/vUXX+dm5A4ePPSNj94rba54/c1Xc7PSMlP8m1avyM3IT/V1OLy9/sLTrhg+aujGnau27N588723nHflmXNXzknIMCxqqiovnjB65MVnXNxUHik91LRzZ3F+fsG8+YuYMTrX1zenOSzPPvniSWPOYHZyydbaH96Zd9mk6S/d++yZJ12wftXuiWPPuvqyW4FpbhTB3wfXrFYtrILwKB8hqTQEXUmvbScD+ACxvKpk1Tp7X3GSaSf7PKBUKBIkZJrukcRth4TQkICkAkWABA6V7txVs2evFo0m6YYuHTsS5gBcY+4kCjI2mMoIWsj06LjrHwID5eXCqWtsKNoXLSn3gDQ8zIZwFMME0QSfHi0t37d6A0aiHAnU0UQrV2gcqyniry3/A1wp/4sr/3VUroBpWkAqvbS8ukvn3h+8NXvuvM0nnXfJtuKqjNQud11/b5cObQp3btmxqWzmqwvWzT302dvzduw9NPCEUUtWrfzuhx9nfPj253M+LejeZtmyz8JOoT+xac7sT21lXnDdRbn9O196z3UdR/Rmaw7szunZ7ba77t28bquXPE5ddMSAUYP6jNizu7iqsvn2e5/yJeZNnHzWtNPPMcMmb3Vf/22gY8V6qycIiZSjEemO9DgyQRJUVtds312zbZfR2BxH4Dc0AqksGwBQCIlo2tKje72azhQB10ARKGXV1R/cui1SXgmOFFKBYwMAY8wh5d5XIbguBJdgjm/c7wEJDOQ8HG4uPoKNTX6d2xQxGYXRDENY10k1NZcVFtnBICOC/y8kmjJbkQNq+56d8enpd93/+NTTLnn/3/NSsnpKltqpez9uUHNTRcec/EvPv7p0X8MZUy7yi+S3X3u/Q3anrDZ5m3ftvvLa6+K88Qm+OE+82Hd459IV8y+5Zvq3y75NKEiv8/F/ffoxO+OkC8DSg1GzprbSGw1fOOXkFSuWrti+Ycm2DVfdf58vp2P3URPPuOTSzTt3aoJpbjjR3wyXUI7RtwgAuFJCKWbZAUKImMEdhUfWb4Hq+niF3HYcx0IkHTmTaBNIzoXQpSW9oOkKY8NCUrGoWbxrd8WBg1RXrxN5BAeSjlLIWCwm8nii/HM0ygiE7cRzA5rDhuUgUsiOYhxivG4ZFJIRDwfNdpxw2DXeoeVTOBZ/IYc7Dv+dj/5vvlLGuc1leaSi6/Buj730r2FjT+7UbtTHHy0fOeWCT36ce/t9d+zdu7VvQdv8rJTHn3p41NBReqNn/5L9qZh+46U3Xn/VLV07DXKakwf1m9LQDIWHDk2aOv7Cq8+GVPubNXP7n3Hq8OmXCZ9ldGjTds2ejcOG98/0pi/+ad4zTzw8Z9XyNn067ykp3rS/cPPOoldee7mhkT/55OctJTsBIPZ4CEAt2637W/dgi9HzZ8FJcQIgBkwhMEYKEEEqcGwPCgiFG4r2NhQVJVimn4MdCTvgeIRu6LqlpHQINa579GBDfbyXCxRAbi6vgkjULC0JHyp28vMMX5ZX80eIkZRc09FxWxyLK1GoYo8W0zIYxB7lv6/BtqXHHzCZFhYelCYR96SkKkOYwqytDickxGlJCZb7kH8uB0gBAAJz7ciY8uMO6B/DMQjBJXgEAGKMFCdHkNIlcFIKwGHM5MxhzEEEdzYVUABASACKENzqf4QtdyTFqGVqeAAFDF3th9y7K1KKhAqhWVRRHGiXub+0dO2S9a88//rH73w2pN/Iwwdq89v36Nevz8MPPc4padnS1RMnnnD1pbe269J+98bduuDrl6yf//2apLTkkC0HD+zjC3ivue3yiaedPHf5+h2HQqUNVeztJ58vL9xfU13+4w9f79+5dsLg7mblkV2rV+3fuqNTh7anXnCSls4uue268nCzxTSbkBAQkREIxlCRQMYABaBbytIFU7HF7YA/yHJjhyExBbokXSpODleKk2LEGArOOTBE6Tj79h/ZsC7FbE4mU5EJOtN1AQAWmYRKADJJph3VAx6HMQcIyAFQACpB5+nRaNPG9U17CjXbitM8ocbmRG8imEqXKBQhSEBH8iigBWgxsAAUA8Xo+DUqiSRRSXcPR+JAiEhCDxvehIEDnI4dy9EnU9sl9BjQaeKU+sS0cFZWid+TMrAfT011kDtKcs4JmDsJjgQiIndmQSJqjXc+JvBZMVIacUEcEYmRYkSMOEqB0sOIka2UgxxQcEWoHIUOMGnGk+XsKSyeOze9oT7FCoHTLIU0BdhcQ9CZ0plEIAnCYQYxjUkGUbAdQbYMkzQNndlmBDk4gJZUSgECB5KgJEcSyBRhfteC3UcOatmp81cvOqF3wfPXX8MOlvRN7dx8xLd3d/SOBx+9+pYrS/ZuvPCsyadNP3/rgeLnX3r5nZde++rV9woXre3ftVsk3NR/WP8fl81t0y0vKTclLeDNDmjbV/7UJs4SXfMyivfs2Llz2xmnTBjVuf8FUy667eaHEv3+08aeuLG4cM2adclZadOmT7nroQc7ZZwgSIf/CLdzf7v8phVIQBhjLH8crczKHRB3h3MYAYGSCjhnnBDMaO3hQ6y5wRMJeWyHufk5wMD97gkYAVcMmEIECYDM5ScKAAypEqUNdbWVRUUp/Xs74QSvpluhCI8VbweIkQIRSteKZy5rdMc8/+vaZUXBSFjjWmLvrj09LLirs3AiWd2zfQWduvniaxuDLC41udvgYpEoOWfAHSfqNhuJwX8rhh+7i2ppDxLwGIOPvWBbSQLgbgFXRQwQGGoguRnxOc6OJcsr9+zvHPAn9O1hhsN6UkLEcvUZxgAIOYJS0pJKcuJIYADTAZELIgJUXNMcUsiYEBojJOUoSUopBFDKYagChjh/2plnnHHFVedduf3nJT0yOg3q0XX50k1frN7ac1i/0WcPaTb5mWeci8Q2blgdMZu6F/QY2LP7znXrOma131fbdLCqIhSuuOHBO9au2yRDTrecnNefeTK/S5emI5tE3z5ZK1Z8n56fvnn7vs/fmv/pDyuuvfbGJ596ak/JgS5JeUOvG/f8O29/+e3XE0+ceGiToyIm1495b38HXOnljmq22EkAAEpqnGmKZDh0cPcu2RzUbEdYtg4MIBaxCwCIyEkwAC5BgXSYG2ONbs9yhwJcr29qPrRnT35dA6WmBnyBZssUwtNye5dQEIABIHOLa/xhIKh4w+CcgzfRo+d7sgLJXiHiDccJ5545Oa6qTnGvjMupP2yHUSKy42gSfy+aiRAsBkhKU4DEEIDcAGQEqSTngjOmlATp1mpnnGQ8yIbCovJ1G+2ahkNrNvZqm52Q6o9Ii0sByiFJgAwZY4xzJVApQBCK+ZAJKRVBFClsmZILRzqCaTowTqAUA2IMNAIGqHw6H9+n9/133TUgv+2I3t1PL+gfF4EXH3nikQefmjx+6HfLV/84b/2qNWtWf/nVGy882aZjwglDum9ct2/d6i133HDr/Y8/dZiMm/51/9xdnxlZKaT5Vi6dHzpSdedt1x8q3ZXXIZF17d/DE/DffO3tDdWRK6698dPvZ3lyU3/esGrJz0t7ZhfUHag9d/K5Z04+u1dBLwDweP5u8mQATCFTyAhYC3UqdOWskmBbkfq68oPFuuN4iDTb0iUIxQBAcbfLGCfQCHWFbgw5IQACAAMCQcqHjDvSamyqKy/ntuNB9AiOAC5pELhKGEPibsKJy5v/OBRSKBKMOFER5/OnpJHhaayuL9q1/8jOfVbI8Wl+RtwxHQWEDJARIrkjhzGbqWXjV6EQJCpCxRToEnTJhBRIgkA4TJCmASLYEm1TI0cHR7PCWFO9e/6CuPrGjrq3asu2qs1bM3QPNDV6lOTKxliMLxMoDPQY6BGoC+CGZCxic0sKKa1oRGgASqKSJJVSihgTusG4BgCOUk40Qk3RR266w2cpj2V+PHPGulUL+nfvMPPV59584YV9O3YaDn3zxRdL12/Ysr+wd/+ODfUHbr350oR47x1339WpS49HH3t29Zpt7doWLF+8zifiT596Zq+One6+6dqvP3lz+byvRHHElJ7kVx97b/F3iyI1TeNOn3zjRXd+/+3c0uqaigM1c97/Krlt3rUP3TvzszmWdByI6n9nPCgAuJREAAqgRVsHJNAQmHTQjEZq652m5jgufGjqBIyUZMzhIBlwUkgoJGOEpCRgzGKLWfEEnIhJ24siIHhDeWmqdMA0/f6ExojNUDvGhmUQizp12/JHQQBhO2KQ4zE1Xt90cNPW4m3bzWB9nO7ZVduY2y6/S98B8Z3j2rCAH4QplYJYnomLVg6KeJyF3QrVYpYCAuOKAbpmJCggYpwICKSO5BcgHVNrbChdsbJuw8Z2UZEouFXXtH/Rcl/ndnFts5QBYUbEFCkkhQDAkHPkBFxJBxCklB6DC8GbQ9EETRO2AiDbsR1iyAQJAUJIQqFrzNGKC0vi23Y+bfSJQ3v0uHv57LHX37J51X4hUyePPTWvZ7f1B5aV71703pf/7j2656qilW3a+xqaC03z0B233fDUCx8MnNgcLQ3tqChOSIsbO2Li47ff1MEbPfOEUTldcwKpATFn+ZIXnvqXs7P2nPGn6znaEbtq4dolvpT45mbrUFHppMEndurd542nX1+//xDnbQjZn1Mq/we0OMbdJCEV42CKEXGlBGJDQ4OHoUchl1IgSKYcBopxyRQSckJFiATAYoZELFOTEJAIwTajGnkMRDsU5lIqy0KPZFKCxgHBTewEAPe2jIBAuh/JHwIqSU5aUlJwV/H6eQur9h8M6Hp8XErA4/PwhLJ9FdXlS9o3CejUG4kpt4J8C0UCIpDLQX8zrIkRMJBuGBQBkwgEHACQgBRzzVQO4BcsgShYWxfds6dk+Yp0y0qwbFnbkJMYv79o38HFy7qcPsX2RVH3OZwsUI4iWyJjwJiQSikllUcoBwyDK2lRdQ1jLKBrSugRhmGSCtBmygGUiizb1r2e8pqG93/8MLdtr7Kaf/OUFDNgZPfpWVsmP5j7fduSrVkdzUeefr3XmKnJ2d4JwwYmePjKZSu69uu4etv6hIxkvyZyklNGDu6+v3TXnt073nzz9eI1S0r2bUn0p+/fXSSGjB70jysv7qnyHrrjgVqP9djtj5x66RnnTDmtr9Z39Tfrq/c1fPf14nK9sU2PnmUNmu0Q/PHeAoA/IyAZgKJY+LACBcAkuo4PpZEC6QgEv6FXREIBn89paLQsSxfMYmAK5XCUqBigBA4cFTEihxAQQFMKiLlapQNApADAjES9hoeR0hmGI2FD90rlagKupcUQiCmGAIAuN/+j4IyiDXX71m06vLMov1/PweNG+lLjEXikqnn7mo3bV2ys2b0rvk07kyQAMFLgUmcr4zzKQX+FRhFIkwqAKaZMVKg4ACgQqECAFIQAipHjlSSCweiOXeUrV7Hiw7ncI5ywBNtPKtm0Gzdsr26TlT7KIxIc8MZL4ZE2SQIFHBkiKWLS8mqmY8dJO1JeWbJyZXNcYse+vTA5hQJ+E8kC21SWJAcRfdxospwgh8QevYqb0zLaDjW6bdlhUvseBXkDUsaOGRLhtb36yZPvHl5REt2wYNuCT6sS4uImX3zqvY892aHDsG4JbV5/8+kmszES1y/E6ivKyosKV/z06dxzTj75musvLtyxnlky+tRTT27ctKW6phkowFUgJykrWNmwaMHCTl27dC7olN+xfUpyIN6noWOz/3Bk/22IRc63ci8pJUPkhuE4jmYYYSmDjmMJNAVJBCQlAAHAYRDWWLMBIYNHhatNMgAABEBwGJDGbc6bzHB8YgJwbmi6ZZper9elwl8yyz/5LQIgUWogULK76MDW7XltsoaPHysyUorCjY3JXjMrsfuJJ3QcNigiWNC2FUfOYglJv8Uv/xMsljilJILNwOJg8VibNcZ1BJ2UV9q+cIhVVUd3FlWsXJ0cNbVwMygzJcEfratOZcxTXrP3x4VaRZVeXy/ssMYsxgk5KMGY4JyjxgE1iWRBU2N4/97yJSsP/DBPLy711dfFKTvAQSOHlEWgOEMkhQo2b9javVvffaV1izcWnnv5rRNPO3vesoXPvvpEo6zsMaRjfu9Ob3747oFD+4YOHPDt51/XVjStWL5+3cZte4v3pWXE//PeG844cfTWtevCtc3dcvOG9RsYleKk06bfef/ztkxhWampr7/++uXX3Djz4y83bNo+esiYEwdOvPaCK06bOklpzXNXzsJ4Kys3cPFFZ6Dj6Kgd/85a4Gr3/4njj/s9HKd8ucllABAIxDc0NoKj8gsKyOttcBwtLbXKjIRsMyM9zUvMqmsKGH5b8KBfbzdulJWaUC+QNM1xhTZHAAo7ENFFM0Jqbp7UhG07tqO8Hr+y3UBX5f5zvQcujnsQ19FL9AvLpnU/l+TUNngtFa6p7965q6ZpUiDFeSrsSB1XlBrXfdzw4VMmJaWnMkD3IkTkTjrlXsTdE7v3r4EBkXRs5UiUDicbyQLHUbbXo0fqallTc6bQWVVd8YLFtWvWt1U8UUm0IozLoNXs8WqGbadELO+Riq1ffsdLy1KQNCfC0JZgR6woISHZgjl2fW2Ckk7JoUOLlsWXlGdWN2z995f+I5XxDU2srjbFEF6ESHMDgJLk6Ix3Tszbt2zD7jXLGytK1i5Zmx1Ir9+9+YYpo84c0Om7l19+//H3hxdM/eG7Tbv3V6fmJlfVFX/y5idvPvnahCHDDm3fdNeVF5Vs3zq027C6olCek2FUyqljx/UdOOTk865eXlTPdmzac9XlN6xYs+7Mc89urq+fNPaE+sq6/r37Lly4YOCwPloypeUFkuKNi887G0i603b9PwLVssQQjUaJMTB0PT7Bk5YR1PVajlp6WpRBVXWNClppcanEPVWRaCjRB706y7aZ4aT4RsZEIA4YguMAQ/ShDMQHPYaKT0jMydMyMhVj4WhUyhhNtNCle9//Rii/BYOL8kMl6DhZqakaMAYYSIi3mWyyw2GQenJ8fGaa8BjImSJy/vy4MSEAQzcwV4GUTCkuUUizsS7D783zBqCssmr12pp1m6mk1BsKGVIycAiVRAWgBMmALZNMs2rDxkjRHqgog4Y6ISPxfj0+4AFwSNnCsQOW1KvrmrYXmoV74moaUpvD3tLKvXMXyOKSHOGlpmZmmUkBH0dCXTgKEv3JN1x+3VlTTrxs+pmTJpywcvWKvLycHj161FVVC+XZsb5q04qKvl0n2FHvmedfcOWNNwYS2vw0d8XLb7xx6vlnkh/6De3fpXPBjVfdnGSkhcrqr5t+3kuPPvzph1+EQoING3iSV0+LT07ZtmvzyKG9Hnvgjldeff6GW25+6PHH5i9f0mdYzyGj+i2Zv2DSmEmKkSP+/Bv9D6Ab/vgfY8GtcAVfC1yuxiQBCcNkHJNSMnv28LZrV6GLSsG1lAwQXr8nydDiGyMyaHhFx/bQKS/vhFEyO/uQ5dQ6EjgCADAmNeOIbdrpafGd8rWMDBC6jZxx7ZhA7GNGbvD4j+R3QQgWY2QInXEnEuZSOsGmSF2tRmRoIhQN2SC5V7PQsZFswYnxY63434VCcACJC8EYB2RKcpKMk+BScyKJjg2V1c1rNpYtXW3tOxCwrHjBGJBykwSRHK4IlSAnIJ24xqZDS5ftXbhIq6tO0zhGm6NNdUzaKB2vJE99c9XaLYcWrdRLa3OE5m0OemoaDixdUbhgSeTAYdEc1h2pE1PStpQdQeg6cOiVt95+/fVX/PTDZ5/Nev9Qc/npN9wyZ/PeOev3iuSCwgOwa3v47MmXh6vVwsXr+42YsHxrUaBdhy8WL/lo2QLRPb8pzSsD9MhTD77w9lsJiclvP/nQtH49VFl5095i9sV7n11x0aVp2SkrNy1vjjQ++Ogjjzz6VPHhqhdefKOuLsyMuG279w0aPOKUk6cxodnqv4x2/AVg4BrusWJJsXEa90+ajoan0ZK215szoF/7EcPtzMxipaoYa/b4Gw3jUNAqU5jSu1/OyOGQkuwb0D+uZw/Mya1jAhCBcyCIasJKTm43dGinkSNVQkJVczBCoHkD6lh/Z+ymblmOP0GdAKAQLA45nTpEHXvjmnVgWsmeONEcyvF423i83DKtaNAhx7ZtV47/KeoEAAK0CQg5Q85IISkBUgPbI+28uDgqq6xbtrJ42Sp5qDQZMdXj1QUAKpfpKsYkAjBiqHQpszxGU2HRgSVL6rdu02urE5UTB4o7FoISyGRDsGRb4ZGdhXGcZaWmkWn5NEHR6M51mw7sLPRxXefCNk1SCESapv0wf+623Ts/+vjTSy+/qqhwH9cSnn51ZlQkcyP79LNvYIGsyWdecOb0c7I6tvlx+ey7n7jnufffPdQYPO/SC8edNKGovKxZqe1btk4cNfalZ14ZN2p8dnzSNx+8a0jzQOEW0SUjY2B+++7d2qfneL9e9HM4otbvKnNCtGvdzg5tO73/6Tc333zT9qKyuSseTuo00tAMkMHjX9tfCpdGGYEChS02GSGTwDXDF4oEOcqU3Ly8YaqOO1V7EssOHAo7kCg8MsD0tnkdxo+JG9graABalDF4SHwgIVy1DiAMDIHxQLt2ffuNyel+gqdTfgh50LQdrhMg2e6oKgAoAAKMrQmPIdw/AIXgCAykp/rTk/cf3N91+64MT89UyzIqaiqLy1H3eDOyhMZ0AKFAuREsfxqIyAhRSkIgDUC3HU/Y5MBqtm0/vGyFtXd/iuPE6TrYZsgKx2JCkAEwjkwiAVMEBJaVovP66uqShUuUxA4njPdlZR8JhoBrti2F0ALJyb7ERNuyQspxDA6G0L0JgfQ0T1Ii93olNwmFQGEAk9ION1QROZ17Dly6YmfHnMF+atNQ67TP67108a6zTr8iLi/xxlsvGHX6wGBSyagzumoZkUdf/9d7M/+98Gt/6bYd5047e/emwl2LVvss/cOH3+3Stk1afHDQyIE7KhpTAvEinvGenTu+8c4r46eeUjCsX0ODKmjbK1gRmvvl/Enjpp504pROBT33H9o7rkufH5YWmaZl/GaF0L8KioFbzMrtPQQAIBa2bb/fj15fMKTiAbXsnI6jRmb36Fqzv9ipbQrYWmJieqBtO6Nz23DAV+dEmIapBd0yklJCZaRwOSOwNdFpyOBA3tioSquxbMtvoO6VNoVtpSPnv8jxINdpqpgCgj9Do+go8Po9gyeP37Ni3c8L5uXt2e7LSDAZbd1d2HXw0HapScgkY8gVMAT+Jx0F2KL/KCCFgAgaKiNqeRqbSjdurVq5rmnf/sRIxK9zdJyoE2YgBXICABTgRicgMbQJla6hnzloWfXFJQcXLDEdTBk9gqelE+dhy0pJS+4xdkSiHTy8bHlxTW28z1PrRFVmeu/xo3MG9SslJaWT5g1YXCgbmFBXXnXeusNfrvh5bmVt+NCubdb+vfdcdumHH7x3/8NvxiUn6l0TLWNUTkZk/fqfysv2XT/o5tf/vfxA8e5PPnx79IAhu3ZVjB04us6Ie/jB+5965tVLrpj+wYf/2llfVhxufmPGvwQLq9z0bFBUdHDf1AkTStcXPfn8s+kipV1+3tPPPXbtzTd++uVbo8aPf+/DbwKJBZrQ/nhf/Z8AKTbO6BKpQkDGTccBLrjHqI+YAY17cnN8uZnJPQrCDUERRX8gFfxJIbCrrGBEaF7dYxk6JVkelg11HAhtTQ/kdQAt0BgR9dIBKUHzSkVcEuAvLKJjKt78T4/r0XJG9IWA2Dl/ccnBg1pRJOxYIiHg9QjLoIiKKC6IyJ2H5Phzfw9cMVRocmkzpTMUUnmipqehaevy1bSv2AhGvBxASVtawEAXOtpSAgNihIyAEFFxlEDCq9vNjX5JBholxaUla9Y7uW3SM9LCgJamNRrQJr59ezU82FRdu3Y7IW/yiLyBPTMG9wynxDVETI3zqANSoRTMhuiqtd9/8PajV175WIfMrpecP6VTbsq+dXOvOKn/M/dd0u/009Y17DhQW3jPiDO2zguG9jZ9+uxbbz1994+LPr7hjitXzFqR2IgrP5lz4fRp19x8abvBA6PttFE3nudNDtQuWD7ivNNZuzadPv/46+eefXH+z3Pf++CtxmDVY888dPVN/zhUuefDj2fM/faLd155fsWqeaecPpHAVq06aGwcUADFqqYxcpDcPZ7/zOZpsYoUV4q5AUekGKnfMJWImKWYFfMxkQDiPl/AMh3btrmu2TprBNlEopF5arjPzsgyMzPq/Hq9UA0MHGH44hLDUjXaThOyqK5bjEtAmzGJrCoSZYkJ8WnpElkwHEJGQudS2Yop17Hv6hWshXH+0jP6+zCEbhOrkWZG5/anX3nJhIljNc5AyUmTJvTv1zsjLiAsy+CMMaaUOsYrElN8WzVg97W0rt0NphhzaVrFvFTAuUPKtGUoYgITQjdIxaqbSCBHgQIeq/ZIIIAQHAAJoBob6xkK3fCbEqIKAsnJSclpjAnlEGqeelJVDLSuHbNGjcBO+YcMYee3y580wUxNPVBXq3l9XsMXiYQUkAIkZJmZmdKOThw+8KM3X9i9dYVHC9eU7szLYL16JZrhonD17ivOOWXZ3HlZ8Vm3XXHvxIETnrjzzjkfvZ+bkP7ADXdPGzVxVK9BO7cXXX3djZZjpmWkfjHnm4PlpUNGjbrvoQdYuIk9dO9TjXXNU0+akqJ58lISFi76whKV1991cbv81DF9+h/auLGgQ/yatXMUmYgMoKU2JBMMvQo0YETcQTSFUkx5mfQxFZvVWQEgEgPigAJIoMPR0Yg0Ig0cDRyNkANnQIhEyAk1IKEQHGE6IgqgwD2bdCuiDGF4iCnLlMwGXTjgt2S8jUlh6TeZ1xQiCjYJpTEuw5YmhC0laFwZuokohe4Q2Q6Az9/kyGAkLIACArg0lQqjUApsCRIUMgXcYaCYJFAEEkiC/O8LkWzNo/d545saQ6R4YlqbaHn5us3rQ/FG90mjswo66obesHnnkWWrwzXVbowIAHAkJJdhK0CFx2y4T+6+PQ7IiSOiYqiU4go8IJTEkAPR+HjRod2Iiy/0du0U9flsoUXCNiPm8wcsINT9Cg2wiVlRJk0dLM4dwZSXGx5vfKXCEkMPjBjWaerU9PwCZQuKSr/wcOELck9NIEHr1z/j5FPqOnfNPPP06szMsDc+KSWLgiYLhtOTEhAkSIYUGD/h/FmzlgcC8TPem5HSt8szX83sP2VUkDfuOrDUgMPP3zB94Wuv9khpn53YMS+nWyTITxw8qU96war3Fv0445sxw4a079pp9ry1ZjiubFPJO/f/a3zH/j+88eHSf89u2lPKyssrzph2xuP3PoTNUSNqN5SV+Q19+46tazasvOfeW6ONZZdPPy3Rp26/+QqPzlvdMS3+cwbgxrm5Bq9CxSEWgB1jDgrBrVpzzCCUOCo63ffvFrcB5nr5ANANBoaYmcsYuBWKXb5LhMpmIFFIMBRoCrmNQiKzOUkkgKMarMPAYRDzHAGTiA5DiQgA6IYek4PgADqtNju2VqYFpv58DtbhA4cMMPzcqCg6uHXFulBNY4d2+QOHjtCEATVNNRt3lq7e0nCojEybtw4bx4RICzdFBQDM1cVjvPx4cAK30J8CjHLRpGsiO6PnpPEp3QsaBPekpYq4uMamMEPdjDqoQBOCc0RGEqWUMmLZ3OOrNq0aQ0/o0ztvxDAjJzcILOqQx/A5loyYlgUYRBYKBFJ69ho4bao/v1PUF6iOmqatvExntiLLQiQumCmdZ158ZcnGdWv3bHn965kZBZ1GTpnieDxfzZ995V2Xte/epnzv7hTma660D+6pb589+PVnP++SMeCW6XeFy8MzXn7twy8/lgHRf9jo2T8u+tczz+/eu6/RthOz866++dYbb7lF7N61sX+PzokB+cXXX7z05czdZdVVFerAgcNJSYlJHfSChIS65vblh/cF0rtI24pGI17DlXoK0FHoAIAbMysZMCAiWxEyZhPY4NbJIaGAMUCF6EZ4KtQAFKIiAAUaERLQ0ShMQgABpAE6Lh1zUkBumLTjchdCBcAIlQIF6ABK908KQaFixABiQRhumUUDbEEWgHLl9a92eYtBHSsxeYwbKHb4setjQe5HCAAAQrGctMxk3Rusqt63YXf51n2BCKZFBewrIwDbtsN7SliYxVuYiHoTCYXi1zQcAIDfyiZloIAAiGHLcJdCsDnIxIC3T0Hbploz3NhUVmo0REgxoRg5kmlMgjJBmQwMpgtHEcoGwDpdE53adhw7Ir1/36jhbbRNaXiZLsJWVNoO9+rSsQVBZnZWWlpaVNeaQFaEgkIzdF1TNkVtCxkpjFqs2Z8VOHHwuJpodP3nh97+5JNJgwfPWrn2/Csv+mTpt937DVi3dG3Ejk/J6H7K2Ou/ePv7s064afZ767Py09v3KLi4IHvI2FGXX3HT6adcKpJ9hZHyC564Y79Z1aFXuxfmfnfuw/eKRx9/qmjHpiF9OjkUPnRg97bCPdOm3tjUED7ppMGblv80+7sPr7/66nlrtycaiaiY1+sDZbs1jiHGNQGVAAQCLpEDOAzIJRdGsbl7CEABIyBAQYyYYgAM0FVnmcSYjYJuX6MA1BAFJwRAAEIEBpKAAKXL6hgAoRtvr1SLwhtj6cQAgBEBHK19hKAYEQBzKf6Pg1GMh/8XHPd30zSrm0PFhXu27dzp1NSn6mLHvv3r9+yMRCIJ8fFNtY08s5Oue2xFtlKkuRrvn8BRrRSACBQyQGVx1gjStsz4gb26a7jlq++aG+pzElMwHDUEQ6aipKJKMYFCGAKYA7KawNO1Q9bYken9ekCcvyEUiSDz+DwR23FQ6rrQhZBhKZUtpQw3NVuERlK8bhjEmVLAAZRSRFJKx2eI/Xt3jht1dllx8bSLzko1fdOGj/ZZk2Z++WZCu3bBoEhJzt+7Y8/ixRtXztt/2dgLFn/306ChY6JY0xgpBb984ukHb7ztqrNPvfSya69tNtvN/Xl5l4kj3v/044E9+q/ZtFK8PuNzx27ef/BAo1LldfszcvSnnrurvjb884J3zpo4KjM94ZOZH1xxy1MvfbgIVaoNqBNnJBgJRoyAABBIAxISJMT6XwISEEOlc0DJJIJy+5EQqKUuV6xfSIGSAA4DCcAAhEIAQEYCoYWLoKOQEUlGCoAYKcUACIApIAWAQIzcIrQKAJQbyIlATAGi4uRGM+FR2f17NHcsGIH7mcV4bAunbSX/WKSzuwYV5eSL8yR3bttdjdK6d0nQuOWhkBkCgDiv32wKO4HMuvSMkAZhAEQl2X9w5WN4Z0ukS4v0B3CPZgRAoJAhKAnMYRQWWmPE9mYk6cMH5NXWHLZltLJeA6Ux0yEpmSRDKK5FSViS6oFhbk728GFthg8OpSY2hoMhZMzrdYBMZaPGDTSQSCmlC82MRPftLGxsDHYdNsjTJjGCZNnSAwwRUaEBXjBF+dYqI+joku8+sLfn4IFMhE8Yd9bjjz31ygevdu1WMG74xPbZ6EvPX7t6Z06/rKUvrO+XmM21mvWr52hcjh09+Zv3Zxwo2rl9xxJfvHnpP6Y//PbrbTTfqUNHdk5IYekd2/68bmVE0+95+JHklMRD+3b17JI3ali/m2++ccDAYU1NzugxJz/1zMteXxJjHEEhSCTFFCIJlwy4YkhIrhJ5lBJj/efa7K2GKEGrRui+aglIrnOek4OgEBGRMxAcNEGcu6FnjAiVYjEj1xXiEkEyl62qlhu28Ei3R4/2a0thUQA6trNb0cqXjlsDwH/lusf9SSGY0gkpGxJ8mb0KOo4alj1yYPbIIW0njG47YXT78aM6jR+T2a83xfstRqgzJrCF9f8huDnfDNyhBHeuEjfPE02GkJx4wGwOGazNuLHthg2tF1pQiCiCRbYUTPjiUPOGJDSiiMYnthsxMm3AAMrKrCBZS5InxGl+bygaAYbAkTEmpQSp/B6v5siq4pK9W7ZF6psQ0ZKOLR1EZIwx4OQQOmxw7y4/z/7pX/c+kZWYmBznbQjW/rBwftCmppro6SedsWXd+pQk45Rpo7I7xH+1+KfcPtmZHRNHjern5fiPsy5Y+O2CvJTMpDTx2ruPNQYP/fP+m88/eeKJ/XqXbttQvnOjCKeHzSS7U78ejz727EnTuo+8fOiF069PSG9XWLTv0fsfnXbmLTPffvfJme9t3le75fW5mqahinAwNenloFkcAZWQkpOymSRgoDSmNMUA3HKHLr0CMFLSFfWAirm8NtYxjCSC6+QBiEWYM6YExoiEEWMKQCEwAlQMgQECoHAQABxGDgJJhkCMkQB0EE1CJVEwAEQlEQQwQiYBpJsO8Ct6nwJEAAXIgI5Zg/sZuSzb/cBi5x5VIICQjnJWX8BvOrbtOODzOD6vw1UTWlHUmpqaUhnz+H2ON066sZzKAhnlpDD2rf4OWlvtnuB+G1wBMMYIoo7UfN7maJgss2taUvrgAY1ldZFt28J1ETLBYYxzzbEoqsCblZ1Z0Cl76BAzO7ORaRGmbJ/m6AKUQqmYzqRjO0zpqAAVl6SCkabSSi9ygwsTuQIHOAIwcpAQhCGiDo6cdNLuhsANGYk7166Z1L3HO5/OrAkpj9d/zT2XJmXxO+65ZNmq1Ws3fB6ShR98tzqB+Tpl9EzSc8b2n1y0rvKh219dsHHxuCnjvl/zrb+dfPrhu6TyZFWgGW7as7ZY7Nu3vkuXzMXzZxd0yPnu23mp6ckfzvzqo69mjTjl5BtuuePCwafEJ7Sb/fPy3O6DuWZIaTNkEoUiL5BuAwEqjRSgdEAqZAiaBGTKaSHHGAhBESkgBeQyMQJCUIyYJMlJSSIGoEAo8gCADZwTASgCcIApAEXuCJODREAgASUKALDBYUiKkEBH0AAUAw1ISuQAwMk0IcXCPAcSQ5hGmGpBgkOB1oYBxBhtK+X9ghDJZckMCRRQ65oQGCG5KSUx4e7uV7ZFwDxkMJtUXcS0LTNq+MijacmpUa6FzTCRzyRFShAjg7VS+R/lo7FMFAQFilMsqMnVcEzTTkhOhWCotD6YnZ/fafKkbU11QbsBVEQC5xKiNkWFJ7l9+7YjR2JubtijRxQyI4Ckgrbts8EQXAFZjoWCCUMQoB0J2zV1wfKatr26BeLiHGQcmdAFWkxZCgAitqUEHjly5MkXv160fsmPP8+LD2TExWVIHu5c0HH+3G/OP33GAzfe9vLrb9748EMjhw678tLhofL64L59zzz6bENp/cw3Pr3i8jsTO6Wen5x58mmnjrXHP/3Ek0m+1GU/LZwwdOjwzp3EoJy2+xqa01XT1pULT77ikpvve2jw6Ct37a9PO7j/sksvXPPuvOryoDeQU1hcG3FAY4ZUsGd/vUAfgekw4px7mNYcCtqoEhIS6isrEuLiOWJdQ6PPHwcAnFQkEvHF+YWuVVZXewNev99fX1+vcxEIBI6UHGqTngESdKFZ0TChQ1xGzKjP57NN07QiaRmpBw4eysrKMk1TKQdBkVRCCH9c/MHi4pycnKhpOqYlQPN5NC54XV1jSkpCfUOdrjNN41HT8ki/XdHREGaI+bwUcDzModaQl6Nk4SakA8QiO1u2EZEDACgijK1dMtWFJkmRVETEGGMsRsQ2xSoCcKU8jiJAk5NkltA8VjRkKBI6HD7SjCLONtHQuVLKcRxEYgyl43A3qj1m0h0PV0uBFnniaqJCMQYqnntMpaIhmxFCfHxzVIr0xF5nTF373hEn2hzQAqGI1PyJ/tTknKGDRbeuzVwLA3NskCSJM8ZQIDBCJxJJiPOFrHBzMJiVGB89UCbqm2Uw0rFzp5AVJUcaQpORWMkgGwAEEKqdmzYM7Nl95/ZdqRlt73roqZrS2u557dsPGD7iimsuOfPcrIQ2rz37zoRh52/YUjTr7cfHDh4Wqai68MJr0FQ33HL7rDnzn5/5+qWX3X3iRROC0Zp+/U4I19W+/OyzQzp0efi2O0X9gbK7r70xXFX207JFusfzzgf/Lj7YPHrcKV3btSlokznvyS++/Oy7t1YuKquqEJoXlA5ce//TOV6dSEWBAyIqG4ijRGAM0HE04NIhFJrbzZwjKIeIJBEiSlJenycajSIwwTggWZbl1T2OrQxdRMwocORCcxyFBICSc66ASIFUjkc3TDMihHDr6KJAzpFQSVtpipMDuuZzSDnKRkSGBNJhOqFsShThSLgOPD4TDjqwXoIBwH7BtFyu+J9rgF8lFIAY4wQARHSZGpE7fO86OZQg0iUgKcmUA0jANc1womGueRzmc2zuMTx2tEkwzhg4jgRAwZExphzJ2H+aTjEodCUQU4AKFY+VLWeIBA5THBUIi7GoT2ipSRzsdmNHFf40v64qnBCf0mDLzr16e3t0i+o8KriDQgHnLgMmAFCMlCE0dJQuhGWTHYrEafruwr0Bj9eXGK+8BkNkiiQpt8wERySFDNm5U8574q1FG1fuy+87KM6ff+0D9+uNtbtWrSzInTxp+EnbN20rP1I9e8FbQ0aM69SlK3H48ocvz7/gzDdnvHPP448sXvrzwvk/TLhswuCCgd9+8/mVV04/sG8zDzV/+tZHnXO7ir4Fg7Zt2bNyxYJ7Hr/vjucePe3CK15/9zWujJ7ZObmeuC7tu89447VQm0BmYvYuQktymwPo8WHlaCIOlEmKhK7bSkZRIaBPYxFLaoaPAEwzIgxhE0lyuEBypOAGEDU0h73eFFIibNuAUhhJzQ4B52FHouYjkiCBkyYYJ3Ci0ajh9VjSEkKPWEowPyiOyGwlGaiobbvSTaEQAkOWZIKT4XcchyMAKXAAwV8ajfjj8sMRm3GPAkGAxxOoq3H8co3AAMChmHYMAHjM0Dkelc6uJgKAwBhTkhEqQKUICACB3Dk9CEXUdHSPz1bKMgEJAG2fJmqqKtplt/V6PIocpRxoYeGuKGfAAFq1XQVA5E445ibLtYATcMkZKCLNBkdxiArm+D2CJWcMH1ZbVbt3/jqmGXpOes7QQZCRFuXSYkwBMgJODCWwlrsIBDMaYXGahoimBVF73+6itKx0X0pi2O8hIpCuRgQAgMSEYqiMRT+sywj03LaqYeToYaeemLl43uKHrj83Ny7+n7c+E5foH3LC4K79+w4eK8qD0SHTRn7//VeX3n3hpIvG1TVgUemRKT2HDe2Ze2DtkqIti9ul50S2ldx6yVXdC3LOOuUfyxasEplZuV9/9/mEqVNefPdNB+z2ndt179u3ucy65qzL6oqKl5YsHDxo6J0v3N9z9FiBjuJexSwNdW75yJQWmR4DlNnoNRhp4ACTptBAI9NkjAwW5ABRAuScISDnYJucsUSv4ZhRJTWfphFHy7aQCWBSKoczEui4mdcWKYa2x4cy2pjo8TpWhBBsIksBcq/QGCoTmJQeFrZM0HyWJTnXiIiUA0wpKT0aJ+XoaGqiHm0KCA+hz1ReBe5I7C8JFPDoGgFaeKTmFl9u4ZetkI7knCOicqMLGCMiZSkDDQBQ7ixvyAiBoQQAAglcSTvCBRpCGcg1aZ88bmi/Pt39fgqFmznnmiaIiADwNxI/CF2/rGLAWohEETJFwACQmAEEwB3biSqFCKDpnuTkvBGji/dW1wetgSNHQH676mgzpiY5Vkyl4QpEjNxAIYCU0ra4hR6u+UAe2XugMdzUt+twFvAqwZQjGYBiTCESAiPFGUgFvtQ0HRMumDh1b2FRZkbuiiUrKy6Y8sLbHyS17ZCc7ttbcXD2K/P27q+45u4HGph1xb23PXb9Py6/+fKaRko1kgZ36p3A+27Yu7FHr+7Lf1708uOPrFjy/aPPPPnlgtm9+w4SP/w8b9eh/d3CvbsO7Vu2qvGzr7/bsLWoe1rfWe/PTXCgvtZ67eUZ/fLb3n39+Y++MTPKmvv26nSksMwsUTVVIZamjx7TZ9nsj/oM6vrTzvV1QadrzpDOOV2DddFu3fLSM63vfvi6ppnr3sT2ubkrl6xE2xgzYszI4YNfffk1SfrI4WPe+/DtLr279eo/sGNBl6+++7J/vx77dmzdf/jw2Zdc+fEXX0yYOMKQ9p6V67q3z0mMT4hLTU0v6Lhm2/bNm4t2bt5yz7VXFBZvt9P5ax/P9HiSe3YbKGx9xMChHi4Ld27Ja5O1fNF8g5ltfHXTT8zUIRhR4kBFqPvwaSYmArFfOBdBtZAsg2MGk5CAKenK+Nad7gmBQMC27crKytLSUgDIycnJSEvXuG41mQrQ4eQwdAAJwK0fwlBTIONT4qsqyrxcS9QM1dzcsUOOiVHLVAxQF5wUScdhjP0qgbYycog5mMAdR3Bi7ZNIyJB7EC1Spm05DEyAZuHxtW3XbsIJ5SXlyf17WQEjbBNK6fpfEWITqgCAgy4XVYKjsi2PYHrE2blhoz89ObljnqWhpSQoYpyj4ISMiIAImQxhqDHec9WdV516+qka82cmtf/g41fueuKxcWed6YuLOnblxBMG33377WOmDB85efjyw1UL3vswbGntOxVgxaFnHv3n+Lc/v/LG2+6549ZwY2VT874Lr5xiJohTrrto6bqVfYb1EdVg3/LQA0KLPvncU2dddMH9j7wwdvSFCZavsuiQZXhufeCecy+ePOOOu5f9+MXoQe37jhpk2XWXvfavyybdWeMxkjqn7d++zCvLd23a/+iT9x2saH70xufyp6UvX7gg3hiVn53txapzz57+znufP/7gjYf3bFu3dEvc2JEvPfnwgP5DevUY+vbM9+Z8/emClYve+vCjDns6t22bkRjPexTk3HHn1c/N/Gj0+H4lpTt/+PSjG049q30CRSLlGYE4cKp8/mj7jiknDJ++evGcS68659mvXrnk4gnJye3tMJ/77Qo72vGzj2Z+/vHMt158OTteWc01U8d06JV1xMcbbdD7de8rsgMhTAGAX3LQo5RHLfVoiAiJNEIGihQCKiBGIF3ibm4KxScEOmS1b+iQwFAkJScgscb6hpT0BAUsyqXDmIMaEWlKcgUArKKmOjWNZSSnN1bVtE1PwJCIRmu53wcMGONSSimlpmmcc9M0OW+V4W47j7bWNY94yw6bKwKmHCXcGXJRuCFPFihgXHqNuojMGTU8rr7JTEsyUcW1Sa9oqNU1DxIhIYtZXKAQAJVG6NE8ESeMUbu2+HBZ8eHu/Qd40pNCqCQpUICcK4YEQAAKpOM4Hq/Wf2C3woObp994thmxOyZ3MeIdT0pCXJs2GVn0yovvmVZN1x4FA4eO/ODTmSOmntuUllowZNyAnsMKD+5/+923Rp504g0HDi9asapXr47+ZF9Wh8zZ38/J6NZl34GS3QcOsd1247r9ezb8vLZPYucfZ85/+panG7bts8sPOlplYd0mJ8macNbEd2a+Kcju2SFn7tef11ZW3HbHrf4Uz4STR7/96rMVB/ekpqeMGTd+5549wUhTfXNFUprefWAnxaPr1i6PD/grqys6FHQ85dTT2mRmvfram2VlNaWlNV279K6saLBsNm785J8XLX/5tbfPPG96QkZm2y5d+vTp9dm/P1m4eFFzc+PWLRvm/vBt5eGD3fPbrVu6IE7QHTdfe8pJE7/+/NPlyxYlx/vfevXlfh3zD23chFXV7z7x1DXTplJZZYKFT99yz9nDx3iq64vXr9u84GevimhmM4YaP3lzBnOclkUxRzHpuAtX0l2EIi4Vl0oo4gRS2bayHXAccmyyHXLcbW+cFzgwnQUSAvEJASEYE+gLGFEIRlmjxUIWhiwIkYpwGRF2OCPem+jl0mr2eEViemJdpCHCSUv0KaaU7TiOg4hCY1LZjrS4aOWWMYWvlX0yAnRDZwi4AgJwGFhcOQa3GDlSoiKN0FDoIaaB5ihuevzhtGS9S7tGj2bqwiTJhJBMSaYYEBIRKskUIRCAoyTnyAHM5lDhhi1eTc/u2sGJ10ljzB2PI3KdFQoVIjJDs0Oh4jWr0wVrIKtYNm0q2Tx0Qt8B/btEa6t7tek8uf8Eb9RTcqD8/U++8Bv6gxdPz42Y3dPaLp69omN2v60r9y/+aE6bhKwTT7toa0ltp35DNm/bvXnZujcefGVi59MuG3sHPrt4SePBkpO79Lz89PO/mjVv7ZqNC+f8WFd9xIH6+5948KUPPm2TmZKXKE85eezr73845ZyzL7v5+u+/+bl2Z/jtF94cMbxvsLHszDPGrdq+9jBXi9ds7t95KIaprHD/GdPGz5791rBxJ9z62FuXXHHryIED1yxbd2BftQ6eUyZM+HHWvOJ9Fddfc204WtuhR8dPf5wVJNuTFF9ZekiL1ErTmnLORas3rRl7Qh9vtHFoZt5Pn33dGDRzu3R+5d/vHQ42vPrpF/5AfPfMtldfev6rHz69ZOnCvZuKQ82Q37lXuw6df5w1Z/lPP+R6+OghvUpKD5x/Ro+uaVs8WO9AfrWTn9zz/BBmxriPm68TU+ZcxOQ7HuWpKkYlR0W8q4axaDRKRB6PhwOaVoSIdF0jkAqVg8wBJNCEYh7H0RRYliX83iYZUYKZpu3VjYDuCYeaOSDnnBQqpVAcY/mgYgQAMb8nACIBITnMZgRCMk4MCCUyUzAHmRBCRkyPCQHGOaFNdpgTCRaNRpNSk8oaKnWP5kWhgaiurU3LyAxHIwhKlwSgWmdIYwQqGEz062iGrSNli157Ly0xedj0c3h2ekTTHACyHMlYlAsNqxLCG7B2XUAesCHlq6VsaTkbcv3FpsHae+NYM9u6rbK6tP6yc8/et3tzcfG29NzU3SVlxXuLH7r+5ucee37c2Ckpue3W7t2ZHkgQhyqD9c16h7z9VXtnffnK1CljUhITMrI6ffTFsimnT0fvSWd1apt3xokT8ryJ7zzyUkPxoWuvnl5SvuvGuy998Ol/ZnTsOuKE4e1y4oNNDQ8//FzX3oMy8jtBlH/23IeLvpizedmCDjnJi5f+kNQhZ1Nl47MzPnzx2Xd3rFw1fdygl567n6Wq3N79Axn9M9I7bluxxh8Xt273vlEjx3VKz6s7XD336x8vPO2s919+jnvxH/df99GcOcvW7H7wwQcz4mjt0qWh6ui4icN5cui5x+549c67N6/c1HXQxE+/+jLep1K6tSnUg/3Gn7jix827Nm7oPzCjc5v0yyZcsmPnwXn7tv28enmiL9ArJ6uLDzYuW+KPz0j3V18z1WtAXRQ7fv3zkbOufycMmYRKARBTColQAbiU2homzBiA63lRsdACJCKXagmYKw9d8iEiJOUqBoyAAQdihLE5t4mQK0BQCogAJGstxkQMAEkJIDfyk0DEqqogxIIT0HHLJjHlTlvPAZRkNjHpTnTPFSPgFhcOMgdJlxAfRY8DnKTFocELFgehANCSzERyODGQApSXQFPAGDiIYYWmQnCAE3mFAm6GErnEuopNP/5YuWXnqDHj8iadUh1qtnyeQFKg5vDeprra7j2HmtEyJ7jWbtiQAodDdsIR/cQ5uxr7nnXi4coj8z79cPSgsemZ/f758PN9C/qkJfrq6/a0y8tcvWzjvbfct2bhqoaGhhVb1qXm51VZ5kN3Pvj05feVHDiSO7jbHY/efvDQhm3blpmRCm9KsrdtT3+bPHba5GmTT5xcWV//9kfvXzD9nPTslJRO6dWyvkuvfvkd8lJ92polC7/47ruaqD3tvAsnnnTqvJ+WWTa9/P5Ly7cvbmqufuu1GZ3bdvLxhLkL18yat+LuBx4p3FvEDbu+uSpqQ4Iv9fsvv6str+zRq+eajavOOO+ExSu/6lDQ9ovvPhNaqLp85wkj+lx84VRT1W3ZvTYcCfbt0fv2m24rLtzTu13ux6++tnzuwuSkjO/m/OgIMXjUyLWbN6KwKyv2aRh6Z8YLJQeKr7/2pk7tux4sPLRn647333rnSGlpbXPjQ4/f9/3C7z6f983Ys08ae9b4LgO7MYMzxizb2bG7UAFIVAqVS50tDLKFTWJskbGFuRHMAAJJMCWYEkgMQAAJAqZi5gp3kwvc4H8AdKmHEbjFbZQ7uTIDdEM5j4kHabFRGAAD4sqNUQSmEBW4eRpufK0bEyPcw2IhtoitEasEoBAkI8lcd6yymbK4W30SNCJOsc8PiKPSuOIATDJUeJRLEzBuGEiscte+5gMlnTJz8zKzwIykIPdHoo1Fe/csXbFn5drqvfsgGPZyw6MZSgLTjTkLFySmpB/aUdRUUnHiqElbN+748MP3p0w5ubK84vvZ36enZfYq6PX6E888f99DAzt3zUhMiEuJKyzb23VQ9xBE2hd0GDZq+OnTTn3/rXdqS6s6dsg/UluR3b19Tt8Om0q3i1vOPX3L+vXPzXjrqvPOD1YUJmZp9X6q4qxDu07fvz37ibsf+HnjspUV+61wwskTpr34wqveIPXr0vGbRZ+U792bHYo7/7Szl/wwb+KFF9/48BNnXXtFYoJ2462XL942/7E3X/1p9uJQuTkgu0Ov3GyRntq9f6dBPeKLt/vPOHP8SSNP6pOT2LNd/PKm7adeec31Lzwy6dzxG1eUvPf+jCF9++zZsDpHk+effcobs7655sa7V/34zT/OPH/Lzm0Tp44dNbnvqInDSyorG2udJ+6eAXurm6uiR3bVvVM489wLLlY5HS+97ObbL/3HhDEnDBsyMGTWJXdIKDqwd7Bl6YrFGYmnn3a2zZXJbddudW1YTsrtnBaCAInM5WsAjDsY0wIUMQVEpJirAQCgUgyIyB2KZQAASnIH0GGkCEgBIwA36sD1EPEYiaDLnxkxIAbkRnBzQAYUOxIAAJkExQAAGRJj4OYrMiClABiBInePIuYo4DZXUU0RU6YCWygnVhVHcMU4cCI3FJIxYrHnAUXACARXDoCSpCSyZoeJKBzZVVJbWN6pZ6osq2usWk4BX3xKWqSyhh9q8AstYMT5A5xZnnDEBo6KqYmTJ9ZpbevDDe2zOj739IxTzzz/i+/nDBrQu2tKFpgTEjMDW9etSAzZvTqk/jz7nQZSjz39+K0vPJXZI2drycaikjXt4rKSPeqccWPee+OfA0Z1Hztu7PyVK7qQvnvXTvH0E48UF+6eNn7U6EE9b7/xxmnnnVG0c8PQ3j2/fuCZWW9/MmvmN2u3b0kb0OuHf889dcJZPbr14mQ89uizI6f0HTJq1Ly3vvli7vejBgybdv45od4dTz/79OiufZtWLzztgpNramqaFNu2fcdFZ51dcrho1ucfOxRsLis4vHP7LTde4iFf2cbVE4f17dC78wU3XGGnCQMdjzA5NTeEq+556M6i9RuyM7PPmnjGns0HyUjefrh89IhhJe8fsbR+n3/77f7tB4PlZrCkctuqDTc9eM91GzaVWrWfL/juYKU1cuzYXp0Kxg4f8cZbM/oN7JrXzm8I6dF1ZlIkYpcUV3UFAFCAgAScAMlV9QCAIQIQSGRISOiSHANwmSowUowUuc6dGMExhYDuwI4brYWSwHGZGUFsAQKF4I6ZInBABS1KAiIQMBm7mgQiQnCzFSimCbjs01V7HQDGJQfgHAkJNAUKAZQiVBKJECRzLADOQCIwIKHQZZxu6BkSECCgYkoBKoqxTobEOCGhkqgMn1dD5k/J0ONTj1Q3HlmyoqSx0kgI2A4B0+2QTGnf3rKVVMgEcAGSpCWd2fPmdhpy9tdfffzP+x8bnN/3oxff6Tt+wJpl83cu3mRFomNOnaT5AnO+m/XwrTdXVJZ+NX/eOWec1XvqiVt377pk+vmbvp79j3OmP/vsO+eefdo508/dUbx159ZdvXv0wahz0YSJeOkrL47o12fl91+1T0lr48v85uOPnnnqzp3rNjUWNUaD8P2ihQNHDdeTfHurD20pKzrzsisNX3afPn1nvvtic0159/YdyosP9+3ee8naZbf/64Ha6or7L7522YKFD7zwWDNi135DKisrz5s88bOPvtA9uReceUHhioWLF32/raRocP+hwaKaaNB+5PWXZ6+aH9Qb4vzegsTunLTP535z+smnznrzq6qisuyk9PbdO5fA/6+o6wyr6tiiU84593LvpUsH6UUQEOkqVQUrdtREjRoTjcYSu0nUmBhNNFFjYmI0loQYu0IsoKIioIgFaTYUEOmXzu2nzLwf1/fefPPnfN9pP/a39qw9e63pCYkNef28QqkEDc3PNZq+mTMWXr9cED90xPGsfxavX/em/61e2anp77qbU+Jl76Fub162aIEVJ+Vd+jslMbQs/8hnM4JlgmCQQg6fr/roq2M6bAf+F1L/Rav/D4rMWR4AQAASAQIAYUIQkTClZg5EIBCQOUARJAARhCSICQZQIoyRwncbQgCgd5tMwJzH330MUQSAOfUDAN81sBIA/tu28v8B//+fAAEACcaSHFKMAEGEslQEAEgQ8AwxYvPRn5AhwKxjFBECAECKECUQSJRSCWJK4TvYBpBASpGRAhFSQCikEEqI8hJvDbCsuUtoVjMGkQFUYkVGIe/VGTiFpagnIsu4hQcItEkByzXqIivUppGcH3TGXH/c0dBQ5WbjYKW1Hpcxsarnxd1HJVOTpt0oKLldU9HVqQ6RWadERr1tbRAxu+/3Pzfs/wEPHdisbqq7UTgrZXJzbUf6hLH1fS8HBjm3tjQ1vHoxZUxaY30tc/daYUbC8PiY0EunTn8yf02Lun3DmrXTUse4O3hk5V3a9NU+XoEyP5hw/tr503k5ly5dbe/DiYnJaaMnnvr7uNqEgI29EUkKFWp6Xvq6qtoaSLmnLqRFJFoH+Fb2tNp4ODyrf2llY+3h4vPlmk19tXVurvbvz5yr1xs6upWDE6MmjJkVNCwIOxmVMvxH3m9TJmZu/Hzr5k3bPJ3cm1+2+Af6xIyI0jvKr967MWnm+CtXzoYPi9qyZcuilessnFU62j9j7lSTYDRKpn6qazOpvULdA538JnhnVFVW9TbWRAZHHt3384QEdxYgSillyLCEYQAgQDEyU/L/5WpAAADmIAGQmC8hBQAiijCgCCACqCQhkVICAQEIEPwOawHEFDLmtGnGYwm+Q1BzGcgc6+Y2aTMNQhQAgClE0KxaAWbUNE8AgXkJwPz3TvPjAABCIZIQARRiCiAiQCLm5QCmAAGzvxSmAJljmpEQgchMyyiEgABMzC5lhEICKIMAgQQQs88opABQTEULLEmSaOHuZOPkyPdoEKGIY/W80VamUlhairzQp9fwHKPV6BiGB4CIgoki6cHDe01N7LEjx479etgeOR46fmj1zhUJSVGHvjv6b3buhj07cq9e3fPZ5uJrN/1Ch9i6O8/5aG6vDPr72AV5hXaoGjyDhkTEWu/+ZVfmstlbdv2w9/Nt1bfubV+3KTjQG3nyVke+2B3n7u1hZfHLr7s2/7BtzEcfPdMZ7Xz8vAcP2bLn2JZfj49e+eGuC8dv3H7kZu0TGRpeWfWo39SnB1Th6DVqTKb6xWuLnu78Myf8XJw0bdqqwsqWuzUPTl4tK7xXXVZZ+eB5wdVCfUdPRPCgkalJc+bMmz19cVWFmlG5ZUya6czZhToNXDJvrpev1wA3Nys794mpH6igk8Abnf0GHM3765fzv+lh3+atn/14eLuatliHDNj+167jN45Gpw9SOQmEdh068GNvS0tpXu6qxYuSJo368Z9D9f2dMhfXWctWn8wrHDFmen1jN5EgyyEBGkxIJ2AgIIbHmMdYQFBEyCysExERMRGxJGJBZASzrFRgTBTyFPEA8hQJIhYkbALQBKBJwiYJmxA0QWCiyEigAKDwPx2LeWIKMAUSRAS8a+anAFGAzFnVTIYgZSDBmGBM3ukUEDUTMowIBpQFlDXXPQlgBAT1LNHJJJ1M0LOigSUmhopYkpD0X0oHAACAMphwnMiyEgIAiAiYMBIwQoC8E4lDQJAIgcgQgCkQMeAxIZBASiS9lvAGDeH7OCg6W9KBjryrm+jmq2Yt1IjpUgGDLUMUDGBYjCwYynIIyxhJo2v39nWeNDHD3mPg1bpyq7igDd99XV5ZsXrV8piQgK6KJ0m+3ps/W1Zw6/rJk2c/WbtCEaaInREZ6OUZZBswffSin/dlPai5HzzC+3HF3Y7Gpv6G9ns37n64ZKnNQHfGQWbzydJlFhZIZmG9cuWCimc1tk4uak3V7celLXqdytVDawky5k6rra9KHQLfPK2NS4gtLhXrKspUCItd/L1rD2yA/fjUqY4+irzLV1YvWaaEqtKS+16xgzuaG0bFDm0tfzM2bQIgQl9vU+3zipHjE3PzbtnZOTs42S5eMjclJjR44MC7ebf1mI8YGv7gfunXq7fdvp4fGOlx+c2Dtd+tBAp0IOsXNW3r1rZFBYccvfD3tMwZsSlRKpXFg2sPYwcnjxkx5v335369++mjc3csXX2iQmKfVb6aMnHatz8eHpP5oZx0TUgbLPRc4cQ+hjXoNJ0y2E6A2WzxXQ+PGbqgGcAgBUBEwFwUAgRAEXCIIoYSCkUJEAhEBhJCAaSAUsBQDCimAAOAOYDMICkRIiEAicRQQCllKAAAySkEAAgAAQAYiiAAEgCAAEol9O7T5qoCeNcKAP7P9d8tNwARETAhxmx2zlHCUbMrgShBQAGWAAQQsBDJIMMAzEAgQQqACCHBECFAZZBASDFEFBAACQSAA0CklAAqQokFgAGElYsqhbLfoNYZjAq5zGjCOh6xnEqpYCjulaiGAj2CthzoxlQPiUQAkSRp3MRRWhiigPYmSTX2g4WPqx+4kAC/AP8jB38bERHd0d0zPH2YvscwY9bcI1nnpyyb/4p/Fjcs1pL1OrzvTGl+pcqSjYoOd3AfNiwqOT1upKZJYy1zqKlRJ42eBq/9W63WqL8/uOPLLWuelxSr3zZWlj2dOeO9M1lnz2bfyi2pu3T3jmeIdVJC6POiez99uSVwgI2f98DtB37ilE65OU/u36saOzbdZGg7d2q/t4N8Rtroq3lXotJHvuX7/UbHPKx8Abs4XWtf7atqk0k9a/bYlvae4sK3ttb2qxZPu3b2zOT4CUprm1bWeOh0VnBwMDYoG0p1Bo1Rp2qbt3ISY9VXVPGwD9js279/TELI+Cnp2SV3LVSWH06e/NWHX5gqYIBzxILlK0ofFKYOC7iYczZ9xntL1qzDNlbrN285eDhryqxJodFeDmKVV3OWndBg4GzPXC6dNPsze9cgjVYjk8kkChGD1Z0dzs7Ovb291pYqk1HPIgwBZRAw6PRyC6UEWYPeZKlSACLqdBoZx7Is1uj6AYMJARgykkRUShuJlzBFJpMJQMpw2GAw2Do4dLe1chzHyWVGo5FjWIPBwMktIIQcKxd4nmNlJpNJEniWZeUKORF5rVZroZBRAjFmAUaCIMktLAx6vdGot7RUUkr1vFFAQGlladRpBYPRXmGJAejsaB/g7qojxEhElmVbm1o9nQayABv6tZyFXC8ZWAWnN5g4hoUCz2JGazRZWMgE0YQokDGsVqezsFFpNBpnZ5futnYEkFKp6O7tksvlViprnhc6+/otLa0xBZRSjbFPoZATk9GSkZChWd9dK0ddGsappDPo+1/vtj4Tnf3DlNHefhEehpZqH4bTldb1NGl8h6eYLGQXrpw9fzHn1vWSG9evRkX7nr92fuU324oePLa2sHe0tck5+9fMjKktNT31z+pjhgxh5MyVwoKQiHA4Y+SyV+qGJTtWnzv758rpGXHBQVu/2u7tG4Dl1lg1oKymOX5kSltvY2/nW31zHehWz0xNeVhyNyAyfNfug4GeyaJo3dJnzJw5pfrxjcyMlFtXLmTOmXqnqqSur23Q8Mgd3+2dmDorc/LULRuX+vgNSJuSIgp45xdHln34sb2ye3jYYE2D6ejxc9Vq9fC0RIOh09nG/X5ufeNb9ZvelyPGh71oLth1aO/qr3/28vLetuaj9RtWRYweo+3VR3h4W/ZaxbtkFOY93rn/u4lT05teVKanjxZY2eDEuCsPCu6VlU0cldml7VF6YH+bxniYb2N4ITGsCchFoiJQDgCQKMUMx4sEIUYkEoQQQ4AAEASThUwuiCYqEY7jTDxgOU4SRQQopBRCKkkSwyCREsxwkigymJMkKoqSQibned68hy5JIgBm7TNhWVYU39EmhBgAACWQUooxQyUCiIQQ+t9rKYWiKDIMhyA28CaG4SiVEIaCYOI4hgAqISJJEsYYUgBFwCAAAeapJGEoUEARhBCyABGBIAgxxgBRURTfmW0QCgChFGIWSYLIsqxBr1dYqAiQJEnCCEkiZRiO542MDABCJZ5gjAmCGGMoSJRSxECBSIgQBgiYGuVYoESrlXlW8xFPm5xePNA39PIh04bzTE937UMPIHDPGqePm22w8tp58BCPDe09XYHBUaPiE/SN9V196rMPb6XPnmY7wImFOMzDq+JemaHLhERopZC3dqjHTJu8dNUKZtOcJXNXf8ga9e4OVh++l5kSFxk4NMTFz+7S1bv5RUXjpo8ySFaJ4xJfVgl3Xhc8enTbINM2NtW5JrhNmDMsJCCZCnYujkEPysobtfp1Px37ZOmKfyvrLl68MTp9WNrQ0XiFormj95c/9n6xdRVk+WZ9b2t7h6OD/EbO8aQ4/0f6/od3X71seGvt6u5gbTMk3v/0mTMbf9q6etWWJRlz/718ytHfvvBS3uz0Ef6BvlmHf5o/bZLSwm7MjLGfzV+tfmX8p+u2n9/gx+U3W3pbMzJnByF6MefM0iAnra00wMex4OKVsuK7om1/XvZXplbIQwZKRhk2ypFO5EWMWSIBDsklUXgXNJRCCEUqIgZKomiBAUWUEqpgMBApghASCBCiFLIQSBLlAWEpK0qCxEusXEblVBIEC5YTeGI+7wohJJlMEFJRkOQIIDOdR6wgCBgyRBQR5AAEGFMEoSQJhBJMMAAAsQyRAISIBYSFLAGiRIiVHAqiiRARUiKTyXiRAggpRlQiGMg4SqFEMMeKosQwjECMEpU4lhNMPIMwhFgUJEgBi1gACC8YGYIowVCCdjJWr2uFmAEIMgARQAhPlAwEkkioyMotRJFAiolJYiCiklnwTSCihBDOgjPodIBjjBR19xucPb2UA9y4hg61VnPn/rUvls+ryD03alSoc6DqfF7hIC+PNetX7zjwkzLAH7k6vip6JBqoNRMwPePTlGkzwoeGFzCv0hLj5d56XU93REiUvvhO7r0LQ5P94ESficAWZ26ca5C6HRG8lX8laWJizrVrEybMvvBvTkikX69B86q21UFpnR4alpaWVtpct+fXvZnjkpNjkpYt3JI2cvrDsucZ02ZfvVkUHZ9wPa+IN/Smpwy6duVMcsrIptYmT19PlpVqnj3ilOz0eR9s3rQ5JTzSy8YS6NqM/UJpacuYiXPOXc9d9NHsS6f3JY5KrmwzlNx5Oj12gtDXV9tR7hrs5B8ZILfGBmN73dMXU9Omf7dlj4p12rB8Z0FuZVlZuQm3jsvM6BHYUzlXWRk3eER4K2juaez06R+YGhn3zcENhw6tb3h8KnQgRMZWlhUkJBJC5KycmCTCE6VMQQQJEIgZhpd4ykAeioRBBFOeCCyGMoliiVKRcpgz8kTGyIBIAGIIgwRJxBAhFkiQmEQTwgBQRgaVgkAAoAgQSAnLYqNgRAggAhgW6Q0muVxORMowDCGUUgoJBIQyDIIImHgeYwZj1sgTCBjMcCKRIAMJ5CUgIEwREFlIDQYD4uSEYUwSYRk5NVIFZeWESgYDw2EBCgRLEFMICKBIECkrU4oikSTCMjJCRYhEAAgErEgoJYjhZGa7FkIFSiUEKEYQEJ5AYoKEYg4hBZUgJwEMCJF0jIwRCCUSBCJArNzA4MKqLq+YZbVdNr0G1cZvdhy+8Ht90/NHBfnj4gb/s3ujo4UtywXOnbfKaBLO3Mr1GRmj7zOI5R0RPqEPKirchwZUdL8OiQq1hdzFc+f6Sf/mz7/8eOqCTRvX9ZJWE9XAU39duF2U7xs8sKXzbXNL48hxycPSo3bu+sYCWaSnjTt28pytym5CXFLOob9b7z9zCw4MXTSFdbW/fvFSRsr4+ID4Q0ePl7e/6uGNCcNH5ZzKSRwybM6M6YDqsq9kj84Y7zLAuq/u+ZHff93w7a5du/duW//54cM/+wY6GXpbDU1vokKTgwKnnL1ypxv0j5s8LDneZdcP+ySLkNoXHYmB4XmnLyycNb/g/k3ncPuqxvuZc1NfPq1qf9GRnjQt52qxRm2I8Qsz9Pd261vP5lz8+od9+UUPh8QnNmqbkqfH3L1d1HW/N9DTu4V/Lbfi2t500/6OECe+5nVp9PgkwiBLTolE4OXgUVP10s3e+cWzl5OnTsnLv6EjphHpKXYeLqXVZYDDna1NSq124ACH2zcLt3657Wn5C02v1tMr4OHjsh6N9k1To7Onc2e3Om3cqD+OHgoI8AsPj3zx5E2gX0hXR3tUVGR2zjmDXksl/tNPl+bn5zs7O6sUyoY3b0KCQ+/fv9/T09fS2Lzg/UXlZeWlj0rmz59XeLc4KTk1+9Jlv4CQwuLSoTGxQSHB+Xdu+g3yaWyv5wVdWGiAnKNlZY8y359XWfPqyYtXKoXVyMjhSr2kfdmUn509Z+4MryFB5VWljS11ZfdLomKii8qfObp4BfgObmlrT05L5ZSysydPjEgYtvvHPdt3fnf7zuOYmPh//sxKTUkOjwo78PM+P1eXYD+/E8f+TB2bEp0eX9uprm8y6XoEd6V9qJ9HRcVteyfbHo1YfOeBq8p+5nvvdxh1tm6D6+rZW8XVcQnDc66dCY0dePrcCV6LOlre5l/LqnpSde7EnZJ7L5UOTl6hvvEZQzydXLWlvWyXIHQ1hcZ53e+6k5Ce8Pe+kzFxYwPi0y/mFN68WOzl75U8I1oDulFFeXVC6qjBicP7lIrYqdPPF96ftWDJ5m3bX9Q+14mGNeu+TIgduWfzDl9L1/HxU75e/ePVEzfLC1+OSc18VtX4x5G/3P28dh3de+DEr2Hhg5Ry1snRtl/Tdenf862tdbn5lxk53r37x9GpY5HIRAWHP76ZvzhzRvCgAHtXZxtX50FRQ1esX1NdWxMUEXYx92rt2474hLQf9x6cu2AhUhonz0w/c+ZcYlw6Bx2a6w1KzpcyzjFjJ916/qzRKDIDnK8XFfTqenp0muVr17Fy66dVrwuvFlw+kZ2fdy1qaJjR2PnkSfHT6gex8YkNLcrw+KUyu+Sl645LbKTSMaWyQfH4Nbvzj8JHTXLLoPE6u6GLtv05auHW7IdtgsPQbQcvv9FaP3oj/FvUYOM78kh2ZerkdUfPVT2pk3+xKze3uF9tDEqfvVOyTUydub2ibcCW324PTlv+8Za/LxR3fvPr7aomVScd9O3vt9/0uZ+72TJ/7R9JUzbdfmL8/WRZQbm+rsehuJo/nVu3ZP2R1+32a745OzA087Mt/2z6PntI0qLzBY3dMPD6E+2TJiWxH/G8x+kN71WjdSmokVxjZx68Uq3GgW3I/7FaZXIZfuxeKxw0rt8lTusQ04n8QxI+uFD0NuvyY+IZkfO0uc/Wa8T7y1PeX9uGPXuVg84XtR0+Xf7516eDomfNWbJnwzdZ3YInsoo5lv1KZx3bZTUku7wPuCV6R77f0OVkM3D0pWL1jCXf3avhX+ut79TrelU+f1ypOF/U2NzvevDPR6ExCw6de3q9zBA7YfXl4tqmXq2Pv8ezsjum1pdHv916Zt++TybP3bV1z6btByqauxdvWDt87Agd37tg4Xs52aeJqPPwdvxp//byRzfLS3PHDg9zU5K929ZjY2/1k4caXe+w1Oj69tpDJ/4MGRqNUA18dLv2lxvFqpFp7VbuUxasnzp2kbYZdHdRhnU8fuS8xwD/CN+otvp+dR/315EbI1xSpGrdYBv/nrdqF9cBHZrWrNNZep3uSW5JoJXP779lPSyvjgnz2b99fXK0P4SmeZ+se9bQ9/fR4x7WnIulwcuFS4iJ+WbHfrmLc7O+c9TkYV/vWssDjVZv3P/D8fYGg5eX118nf66uuxYSa/nB0jHNva9uF96tq9Ec/OmW0ibWKjrOJim2UcBltZ3x6dOppbOgcPCMSMp71GzpFGlFncfGjNf0YgLlWzeu1zTV+ltZlebkGpt7i6/cE3nrlct26BtAee7zvnqhqU4/0DfKMyy+4OVrt/j4oZMnRE8aPzhleMWrZw4OtioGDrRWfTR79hdbdvRp2cryRmfHELmlV2TsBCXn4+IUUVqtNnBu4yd+rDNa+4alPnjefrPk5dTMT87nFLxt0/+Tc3PG+0vnzVmqUDj/eOD44awLCtYuakjSmIz3+gzYaYDvB+998t3OA4mpE63sXa0cXWub25y9vG+V3D9z8d8Pl3z6+ZZvWZXdiXOXBGRx/vINN98AayfX+5UVC5etcPIMyMhc9PhFU3Vzr8/wZN7J/dTdh/cbW/afPt1CeI2dqqCt5mDpFWPIgBErpq38dbtDWJB9QMCmPXv7RDA6boxFP9NcVTcjbXx5UTmrZU4eOGFr4egfnfDdiTNRkyarPLz2/ZTV9Fa3ZNWXBFsN8omyktlGRwVNyUz1HOxoN9C+qbFf24knJ0xpfto2ImX6X9k3KuvfMo4WuRXnDpza2tlZPj5hqK+V3Y7lW/7Z+1fWbxeN2KnwWf2lkvzalgo3O3Jo71fdHb0RkcN4UbNjz2aHwe4ps2Ye++dmu1rZ2MafuHDJJ9zvky/nTfk0fszCSFtP6z/PnYLX1hf1+ynfpNpuPXlAfKPlX7xOcLezoJoPVs0nDBMZkrw0c37W51/9sPH7hGEz3TwGKezk+47uL356J+O9cYX3b0WPi/ccFVX3rE75EkUFxp28U5CQEDo8ULZr5/q5K1fkFjywUQVTvahtfmFNe96bNPzv01nZJU+zb13//odtg4PDxG7ZAGfv7IKCtjb1xJjEtNHjsu+WpqRHdr+5IfR07fr82OHDl1Zs2H728s15H3zSwXTbjbZX2lv1PaHBlr6Mun3ymOQ7j++ERMVfzH2aHJmU4OAmtxcW/v6pm4dVmqN/ef6NuJTBSO58/kKjTObAcZ0/7N5cU1VZ/bx61ISxcxZ/+OmmdZ7BfotXL1+5fmW/piswyLuqvLS9qY4a9BwUy0qKlyz+tK3VEOw3JMovfN3qzRa2LpeyrycPTtCIUuoHs09dupA2YriXn4dPTGBbZ9O5E39Zc8plc5cf+OW3obHRb17XaJqbN2xYe6eihMXg5qmLY9JHN2t76uvr+9+qUxOTSh4+nD5rpoOdk0RMO77/dvmqJQsXLhABsLR1XL3uSyc3/5VrNyz46GMeGsdOGf3b0b1TpqdfuZzz7+mLJ06efVL7JmL0yDN3b1e9ePn6YfVPaz9vvHpD7FGnTk45W3TeMsy2ta8hNTq87XX7L9tPxAwd3dzUt2LOkrf5j4uv/DsowsfKXrV6zca2ds232/fHjs/ocFT9fPqIWl0/yNE1gnU3tHevWL9s/uK55y5k/XBot2Oox9BhkTKJVUoqhV71JP9xXdlzVm79vK8/JCmGtYFOfjYWdhLQ9jr1UaGlp6zkUeaUj6ytQg5dzmPjvKkD9XO0+Gz+e4snTBEB7rWxjgiL/HX1lvvX8jZ9vrr8eflvR48CADYuW6tydtDaW2JHhdbQHDtsuItndEhY7H8AN2dLpUuOXD8AAAAASUVORK5CYII=",
         "type": "image",
         "xaxis": "x",
         "yaxis": "y"
        }
       ],
       "layout": {
        "height": 800,
        "margin": {
         "t": 60
        },
        "template": {
         "data": {
          "bar": [
           {
            "error_x": {
             "color": "#2a3f5f"
            },
            "error_y": {
             "color": "#2a3f5f"
            },
            "marker": {
             "line": {
              "color": "#E5ECF6",
              "width": 0.5
             },
             "pattern": {
              "fillmode": "overlay",
              "size": 10,
              "solidity": 0.2
             }
            },
            "type": "bar"
           }
          ],
          "barpolar": [
           {
            "marker": {
             "line": {
              "color": "#E5ECF6",
              "width": 0.5
             },
             "pattern": {
              "fillmode": "overlay",
              "size": 10,
              "solidity": 0.2
             }
            },
            "type": "barpolar"
           }
          ],
          "carpet": [
           {
            "aaxis": {
             "endlinecolor": "#2a3f5f",
             "gridcolor": "white",
             "linecolor": "white",
             "minorgridcolor": "white",
             "startlinecolor": "#2a3f5f"
            },
            "baxis": {
             "endlinecolor": "#2a3f5f",
             "gridcolor": "white",
             "linecolor": "white",
             "minorgridcolor": "white",
             "startlinecolor": "#2a3f5f"
            },
            "type": "carpet"
           }
          ],
          "choropleth": [
           {
            "colorbar": {
             "outlinewidth": 0,
             "ticks": ""
            },
            "type": "choropleth"
           }
          ],
          "contour": [
           {
            "colorbar": {
             "outlinewidth": 0,
             "ticks": ""
            },
            "colorscale": [
             [
              0,
              "#0d0887"
             ],
             [
              0.1111111111111111,
              "#46039f"
             ],
             [
              0.2222222222222222,
              "#7201a8"
             ],
             [
              0.3333333333333333,
              "#9c179e"
             ],
             [
              0.4444444444444444,
              "#bd3786"
             ],
             [
              0.5555555555555556,
              "#d8576b"
             ],
             [
              0.6666666666666666,
              "#ed7953"
             ],
             [
              0.7777777777777778,
              "#fb9f3a"
             ],
             [
              0.8888888888888888,
              "#fdca26"
             ],
             [
              1,
              "#f0f921"
             ]
            ],
            "type": "contour"
           }
          ],
          "contourcarpet": [
           {
            "colorbar": {
             "outlinewidth": 0,
             "ticks": ""
            },
            "type": "contourcarpet"
           }
          ],
          "heatmap": [
           {
            "colorbar": {
             "outlinewidth": 0,
             "ticks": ""
            },
            "colorscale": [
             [
              0,
              "#0d0887"
             ],
             [
              0.1111111111111111,
              "#46039f"
             ],
             [
              0.2222222222222222,
              "#7201a8"
             ],
             [
              0.3333333333333333,
              "#9c179e"
             ],
             [
              0.4444444444444444,
              "#bd3786"
             ],
             [
              0.5555555555555556,
              "#d8576b"
             ],
             [
              0.6666666666666666,
              "#ed7953"
             ],
             [
              0.7777777777777778,
              "#fb9f3a"
             ],
             [
              0.8888888888888888,
              "#fdca26"
             ],
             [
              1,
              "#f0f921"
             ]
            ],
            "type": "heatmap"
           }
          ],
          "heatmapgl": [
           {
            "colorbar": {
             "outlinewidth": 0,
             "ticks": ""
            },
            "colorscale": [
             [
              0,
              "#0d0887"
             ],
             [
              0.1111111111111111,
              "#46039f"
             ],
             [
              0.2222222222222222,
              "#7201a8"
             ],
             [
              0.3333333333333333,
              "#9c179e"
             ],
             [
              0.4444444444444444,
              "#bd3786"
             ],
             [
              0.5555555555555556,
              "#d8576b"
             ],
             [
              0.6666666666666666,
              "#ed7953"
             ],
             [
              0.7777777777777778,
              "#fb9f3a"
             ],
             [
              0.8888888888888888,
              "#fdca26"
             ],
             [
              1,
              "#f0f921"
             ]
            ],
            "type": "heatmapgl"
           }
          ],
          "histogram": [
           {
            "marker": {
             "pattern": {
              "fillmode": "overlay",
              "size": 10,
              "solidity": 0.2
             }
            },
            "type": "histogram"
           }
          ],
          "histogram2d": [
           {
            "colorbar": {
             "outlinewidth": 0,
             "ticks": ""
            },
            "colorscale": [
             [
              0,
              "#0d0887"
             ],
             [
              0.1111111111111111,
              "#46039f"
             ],
             [
              0.2222222222222222,
              "#7201a8"
             ],
             [
              0.3333333333333333,
              "#9c179e"
             ],
             [
              0.4444444444444444,
              "#bd3786"
             ],
             [
              0.5555555555555556,
              "#d8576b"
             ],
             [
              0.6666666666666666,
              "#ed7953"
             ],
             [
              0.7777777777777778,
              "#fb9f3a"
             ],
             [
              0.8888888888888888,
              "#fdca26"
             ],
             [
              1,
              "#f0f921"
             ]
            ],
            "type": "histogram2d"
           }
          ],
          "histogram2dcontour": [
           {
            "colorbar": {
             "outlinewidth": 0,
             "ticks": ""
            },
            "colorscale": [
             [
              0,
              "#0d0887"
             ],
             [
              0.1111111111111111,
              "#46039f"
             ],
             [
              0.2222222222222222,
              "#7201a8"
             ],
             [
              0.3333333333333333,
              "#9c179e"
             ],
             [
              0.4444444444444444,
              "#bd3786"
             ],
             [
              0.5555555555555556,
              "#d8576b"
             ],
             [
              0.6666666666666666,
              "#ed7953"
             ],
             [
              0.7777777777777778,
              "#fb9f3a"
             ],
             [
              0.8888888888888888,
              "#fdca26"
             ],
             [
              1,
              "#f0f921"
             ]
            ],
            "type": "histogram2dcontour"
           }
          ],
          "mesh3d": [
           {
            "colorbar": {
             "outlinewidth": 0,
             "ticks": ""
            },
            "type": "mesh3d"
           }
          ],
          "parcoords": [
           {
            "line": {
             "colorbar": {
              "outlinewidth": 0,
              "ticks": ""
             }
            },
            "type": "parcoords"
           }
          ],
          "pie": [
           {
            "automargin": true,
            "type": "pie"
           }
          ],
          "scatter": [
           {
            "fillpattern": {
             "fillmode": "overlay",
             "size": 10,
             "solidity": 0.2
            },
            "type": "scatter"
           }
          ],
          "scatter3d": [
           {
            "line": {
             "colorbar": {
              "outlinewidth": 0,
              "ticks": ""
             }
            },
            "marker": {
             "colorbar": {
              "outlinewidth": 0,
              "ticks": ""
             }
            },
            "type": "scatter3d"
           }
          ],
          "scattercarpet": [
           {
            "marker": {
             "colorbar": {
              "outlinewidth": 0,
              "ticks": ""
             }
            },
            "type": "scattercarpet"
           }
          ],
          "scattergeo": [
           {
            "marker": {
             "colorbar": {
              "outlinewidth": 0,
              "ticks": ""
             }
            },
            "type": "scattergeo"
           }
          ],
          "scattergl": [
           {
            "marker": {
             "colorbar": {
              "outlinewidth": 0,
              "ticks": ""
             }
            },
            "type": "scattergl"
           }
          ],
          "scattermapbox": [
           {
            "marker": {
             "colorbar": {
              "outlinewidth": 0,
              "ticks": ""
             }
            },
            "type": "scattermapbox"
           }
          ],
          "scatterpolar": [
           {
            "marker": {
             "colorbar": {
              "outlinewidth": 0,
              "ticks": ""
             }
            },
            "type": "scatterpolar"
           }
          ],
          "scatterpolargl": [
           {
            "marker": {
             "colorbar": {
              "outlinewidth": 0,
              "ticks": ""
             }
            },
            "type": "scatterpolargl"
           }
          ],
          "scatterternary": [
           {
            "marker": {
             "colorbar": {
              "outlinewidth": 0,
              "ticks": ""
             }
            },
            "type": "scatterternary"
           }
          ],
          "surface": [
           {
            "colorbar": {
             "outlinewidth": 0,
             "ticks": ""
            },
            "colorscale": [
             [
              0,
              "#0d0887"
             ],
             [
              0.1111111111111111,
              "#46039f"
             ],
             [
              0.2222222222222222,
              "#7201a8"
             ],
             [
              0.3333333333333333,
              "#9c179e"
             ],
             [
              0.4444444444444444,
              "#bd3786"
             ],
             [
              0.5555555555555556,
              "#d8576b"
             ],
             [
              0.6666666666666666,
              "#ed7953"
             ],
             [
              0.7777777777777778,
              "#fb9f3a"
             ],
             [
              0.8888888888888888,
              "#fdca26"
             ],
             [
              1,
              "#f0f921"
             ]
            ],
            "type": "surface"
           }
          ],
          "table": [
           {
            "cells": {
             "fill": {
              "color": "#EBF0F8"
             },
             "line": {
              "color": "white"
             }
            },
            "header": {
             "fill": {
              "color": "#C8D4E3"
             },
             "line": {
              "color": "white"
             }
            },
            "type": "table"
           }
          ]
         },
         "layout": {
          "annotationdefaults": {
           "arrowcolor": "#2a3f5f",
           "arrowhead": 0,
           "arrowwidth": 1
          },
          "autotypenumbers": "strict",
          "coloraxis": {
           "colorbar": {
            "outlinewidth": 0,
            "ticks": ""
           }
          },
          "colorscale": {
           "diverging": [
            [
             0,
             "#8e0152"
            ],
            [
             0.1,
             "#c51b7d"
            ],
            [
             0.2,
             "#de77ae"
            ],
            [
             0.3,
             "#f1b6da"
            ],
            [
             0.4,
             "#fde0ef"
            ],
            [
             0.5,
             "#f7f7f7"
            ],
            [
             0.6,
             "#e6f5d0"
            ],
            [
             0.7,
             "#b8e186"
            ],
            [
             0.8,
             "#7fbc41"
            ],
            [
             0.9,
             "#4d9221"
            ],
            [
             1,
             "#276419"
            ]
           ],
           "sequential": [
            [
             0,
             "#0d0887"
            ],
            [
             0.1111111111111111,
             "#46039f"
            ],
            [
             0.2222222222222222,
             "#7201a8"
            ],
            [
             0.3333333333333333,
             "#9c179e"
            ],
            [
             0.4444444444444444,
             "#bd3786"
            ],
            [
             0.5555555555555556,
             "#d8576b"
            ],
            [
             0.6666666666666666,
             "#ed7953"
            ],
            [
             0.7777777777777778,
             "#fb9f3a"
            ],
            [
             0.8888888888888888,
             "#fdca26"
            ],
            [
             1,
             "#f0f921"
            ]
           ],
           "sequentialminus": [
            [
             0,
             "#0d0887"
            ],
            [
             0.1111111111111111,
             "#46039f"
            ],
            [
             0.2222222222222222,
             "#7201a8"
            ],
            [
             0.3333333333333333,
             "#9c179e"
            ],
            [
             0.4444444444444444,
             "#bd3786"
            ],
            [
             0.5555555555555556,
             "#d8576b"
            ],
            [
             0.6666666666666666,
             "#ed7953"
            ],
            [
             0.7777777777777778,
             "#fb9f3a"
            ],
            [
             0.8888888888888888,
             "#fdca26"
            ],
            [
             1,
             "#f0f921"
            ]
           ]
          },
          "colorway": [
           "#636efa",
           "#EF553B",
           "#00cc96",
           "#ab63fa",
           "#FFA15A",
           "#19d3f3",
           "#FF6692",
           "#B6E880",
           "#FF97FF",
           "#FECB52"
          ],
          "font": {
           "color": "#2a3f5f"
          },
          "geo": {
           "bgcolor": "white",
           "lakecolor": "white",
           "landcolor": "#E5ECF6",
           "showlakes": true,
           "showland": true,
           "subunitcolor": "white"
          },
          "hoverlabel": {
           "align": "left"
          },
          "hovermode": "closest",
          "mapbox": {
           "style": "light"
          },
          "paper_bgcolor": "white",
          "plot_bgcolor": "#E5ECF6",
          "polar": {
           "angularaxis": {
            "gridcolor": "white",
            "linecolor": "white",
            "ticks": ""
           },
           "bgcolor": "#E5ECF6",
           "radialaxis": {
            "gridcolor": "white",
            "linecolor": "white",
            "ticks": ""
           }
          },
          "scene": {
           "xaxis": {
            "backgroundcolor": "#E5ECF6",
            "gridcolor": "white",
            "gridwidth": 2,
            "linecolor": "white",
            "showbackground": true,
            "ticks": "",
            "zerolinecolor": "white"
           },
           "yaxis": {
            "backgroundcolor": "#E5ECF6",
            "gridcolor": "white",
            "gridwidth": 2,
            "linecolor": "white",
            "showbackground": true,
            "ticks": "",
            "zerolinecolor": "white"
           },
           "zaxis": {
            "backgroundcolor": "#E5ECF6",
            "gridcolor": "white",
            "gridwidth": 2,
            "linecolor": "white",
            "showbackground": true,
            "ticks": "",
            "zerolinecolor": "white"
           }
          },
          "shapedefaults": {
           "line": {
            "color": "#2a3f5f"
           }
          },
          "ternary": {
           "aaxis": {
            "gridcolor": "white",
            "linecolor": "white",
            "ticks": ""
           },
           "baxis": {
            "gridcolor": "white",
            "linecolor": "white",
            "ticks": ""
           },
           "bgcolor": "#E5ECF6",
           "caxis": {
            "gridcolor": "white",
            "linecolor": "white",
            "ticks": ""
           }
          },
          "title": {
           "x": 0.05
          },
          "xaxis": {
           "automargin": true,
           "gridcolor": "white",
           "linecolor": "white",
           "ticks": "",
           "title": {
            "standoff": 15
           },
           "zerolinecolor": "white",
           "zerolinewidth": 2
          },
          "yaxis": {
           "automargin": true,
           "gridcolor": "white",
           "linecolor": "white",
           "ticks": "",
           "title": {
            "standoff": 15
           },
           "zerolinecolor": "white",
           "zerolinewidth": 2
          }
         }
        },
        "width": 800,
        "xaxis": {
         "anchor": "y",
         "domain": [
          0,
          1
         ]
        },
        "yaxis": {
         "anchor": "x",
         "domain": [
          0,
          1
         ]
        }
       }
      }
     },
     "metadata": {},
     "output_type": "display_data"
    }
   ],
   "source": [
    "file = Path(choice(files))\n",
    "image = Image.open(file)\n",
    "results = model.predict(source=image, save=True, save_txt=True)\n",
    "image.close()\n",
    "\n",
    "for labeled_file in Path('runs/detect/').glob('*/*.jpg'):\n",
    "    if labeled_file.stem == file.stem:\n",
    "        break\n",
    "img = Image.open(labeled_file)\n",
    "imshow(img, width=800, height=800).show()\n",
    "img.close()"
   ]
  }
 ],
 "metadata": {
  "kernelspec": {
   "display_name": "Python 3",
   "language": "python",
   "name": "python3"
  },
  "language_info": {
   "codemirror_mode": {
    "name": "ipython",
    "version": 3
   },
   "file_extension": ".py",
   "mimetype": "text/x-python",
   "name": "python",
   "nbconvert_exporter": "python",
   "pygments_lexer": "ipython3",
   "version": "3.12.3"
  }
 },
 "nbformat": 4,
 "nbformat_minor": 2
}
