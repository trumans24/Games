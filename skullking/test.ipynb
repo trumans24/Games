{
 "cells": [
  {
   "cell_type": "code",
   "execution_count": 3,
   "metadata": {},
   "outputs": [],
   "source": [
    "from game import Game\n",
    "from player import CPU, Human\n",
    "from cards import deck"
   ]
  },
  {
   "cell_type": "code",
   "execution_count": 4,
   "metadata": {},
   "outputs": [
    {
     "data": {
      "text/plain": [
       "['skullking-',\n",
       " 'pirate-',\n",
       " 'pirate-',\n",
       " 'pirate-',\n",
       " 'pirate-',\n",
       " 'pirate-',\n",
       " 'mermaid-',\n",
       " 'mermaid-',\n",
       " 'pass-',\n",
       " 'pass-',\n",
       " 'pass-',\n",
       " 'pass-',\n",
       " 'pass-',\n",
       " 'white_whale-',\n",
       " 'kraken-',\n",
       " 'tigress-',\n",
       " 'black-14',\n",
       " 'black-13',\n",
       " 'black-12',\n",
       " 'black-11',\n",
       " 'black-10',\n",
       " 'black-9',\n",
       " 'black-8',\n",
       " 'black-7',\n",
       " 'black-6',\n",
       " 'black-5',\n",
       " 'black-4',\n",
       " 'black-3',\n",
       " 'black-2',\n",
       " 'black-1',\n",
       " 'yellow-14',\n",
       " 'yellow-13',\n",
       " 'yellow-12',\n",
       " 'yellow-11',\n",
       " 'yellow-10',\n",
       " 'yellow-9',\n",
       " 'yellow-8',\n",
       " 'yellow-7',\n",
       " 'yellow-6',\n",
       " 'yellow-5',\n",
       " 'yellow-4',\n",
       " 'yellow-3',\n",
       " 'yellow-2',\n",
       " 'yellow-1',\n",
       " 'green-14',\n",
       " 'green-13',\n",
       " 'green-12',\n",
       " 'green-11',\n",
       " 'green-10',\n",
       " 'green-9',\n",
       " 'green-8',\n",
       " 'green-7',\n",
       " 'green-6',\n",
       " 'green-5',\n",
       " 'green-4',\n",
       " 'green-3',\n",
       " 'green-2',\n",
       " 'green-1',\n",
       " 'purple-14',\n",
       " 'purple-13',\n",
       " 'purple-12',\n",
       " 'purple-11',\n",
       " 'purple-10',\n",
       " 'purple-9',\n",
       " 'purple-8',\n",
       " 'purple-7',\n",
       " 'purple-6',\n",
       " 'purple-5',\n",
       " 'purple-4',\n",
       " 'purple-3',\n",
       " 'purple-2',\n",
       " 'purple-1']"
      ]
     },
     "execution_count": 4,
     "metadata": {},
     "output_type": "execute_result"
    }
   ],
   "source": [
    "deck"
   ]
  },
  {
   "cell_type": "code",
   "execution_count": 6,
   "metadata": {},
   "outputs": [],
   "source": [
    "players = {\n",
    "    'Taylor': CPU('Taylor'),\n",
    "    'Alex': CPU('Alex'),\n",
    "    'Sam': Human('Sam')\n",
    "}\n",
    "game = Game(deck, players, human=True)\n"
   ]
  },
  {
   "cell_type": "code",
   "execution_count": 7,
   "metadata": {},
   "outputs": [
    {
     "name": "stdout",
     "output_type": "stream",
     "text": [
      "Please make your bet. Cards in hand: ['black-1']\n",
      "Cards that have already been played in this trick: ['pirate-', 'black-5']\n",
      "What card would you like to pley? Cards in hand: ['black-1']\n",
      "Not a valid index.\n",
      "Not a valid index.\n",
      "Not a valid index.\n",
      "Not a valid index.\n",
      "Not a valid index.\n"
     ]
    }
   ],
   "source": [
    "game.new_game()"
   ]
  },
  {
   "cell_type": "code",
   "execution_count": 1,
   "metadata": {},
   "outputs": [
    {
     "ename": "ValueError",
     "evalue": "invalid literal for int() with base 10: 'a'",
     "output_type": "error",
     "traceback": [
      "\u001b[0;31m---------------------------------------------------------------------------\u001b[0m",
      "\u001b[0;31mValueError\u001b[0m                                Traceback (most recent call last)",
      "Cell \u001b[0;32mIn[1], line 1\u001b[0m\n\u001b[0;32m----> 1\u001b[0m \u001b[38;5;28;43mint\u001b[39;49m\u001b[43m(\u001b[49m\u001b[38;5;124;43m'\u001b[39;49m\u001b[38;5;124;43ma\u001b[39;49m\u001b[38;5;124;43m'\u001b[39;49m\u001b[43m)\u001b[49m\n",
      "\u001b[0;31mValueError\u001b[0m: invalid literal for int() with base 10: 'a'"
     ]
    }
   ],
   "source": [
    "int('a')"
   ]
  }
 ],
 "metadata": {
  "kernelspec": {
   "display_name": ".venv",
   "language": "python",
   "name": "python3"
  },
  "language_info": {
   "codemirror_mode": {
    "name": "ipython",
    "version": 3
   },
   "file_extension": ".py",
   "mimetype": "text/x-python",
   "name": "python",
   "nbconvert_exporter": "python",
   "pygments_lexer": "ipython3",
   "version": "3.12.3"
  }
 },
 "nbformat": 4,
 "nbformat_minor": 2
}
